{
 "cells": [
  {
   "cell_type": "markdown",
   "id": "c844e984-1744-4f6b-b26f-19c74f3b64fe",
   "metadata": {},
   "source": [
    "# Libs & Settings"
   ]
  },
  {
   "cell_type": "code",
   "execution_count": 2,
   "id": "8a989e9c-1227-4b71-8654-16ef4bc84b65",
   "metadata": {
    "execution": {
     "iopub.execute_input": "2023-11-19T07:37:03.286700Z",
     "iopub.status.busy": "2023-11-19T07:37:03.285356Z",
     "iopub.status.idle": "2023-11-19T07:37:03.303736Z",
     "shell.execute_reply": "2023-11-19T07:37:03.300201Z",
     "shell.execute_reply.started": "2023-11-19T07:37:03.286570Z"
    }
   },
   "outputs": [],
   "source": [
    "import re\n",
    "import sys\n",
    "import time\n",
    "import locale\n",
    "import warnings\n",
    "import numpy as np\n",
    "import pandas as pd\n",
    "from ncls import NCLS\n",
    "from pathlib import Path\n",
    "from rapidfuzz import fuzz\n",
    "from tqdm.auto import tqdm\n",
    "from functools import reduce\n",
    "from bs4 import BeautifulSoup\n",
    "from datetime import datetime\n",
    "from typing import Tuple, List, Optional\n",
    "from sentence_transformers import SentenceTransformer, util"
   ]
  },
  {
   "cell_type": "code",
   "execution_count": 3,
   "id": "1325f874-0a71-446e-b9f1-6f322a95f92f",
   "metadata": {
    "execution": {
     "iopub.execute_input": "2023-11-19T07:37:03.306368Z",
     "iopub.status.busy": "2023-11-19T07:37:03.305714Z",
     "iopub.status.idle": "2023-11-19T07:37:03.475129Z",
     "shell.execute_reply": "2023-11-19T07:37:03.470410Z",
     "shell.execute_reply.started": "2023-11-19T07:37:03.306323Z"
    }
   },
   "outputs": [],
   "source": [
    "%load_ext autoreload\n",
    "%autoreload 2"
   ]
  },
  {
   "cell_type": "code",
   "execution_count": 4,
   "id": "5ced97b0-53ee-45a1-872b-b62fe3f0429f",
   "metadata": {
    "execution": {
     "iopub.execute_input": "2023-11-19T07:37:03.498487Z",
     "iopub.status.busy": "2023-11-19T07:37:03.496120Z",
     "iopub.status.idle": "2023-11-19T07:37:03.683490Z",
     "shell.execute_reply": "2023-11-19T07:37:03.681898Z",
     "shell.execute_reply.started": "2023-11-19T07:37:03.498413Z"
    }
   },
   "outputs": [],
   "source": [
    "# Import developer modules.\n",
    "module_path = str(Path.cwd().parent / \"utils\")\n",
    "if module_path not in sys.path:\n",
    "    sys.path.append(module_path)\n",
    "\n",
    "from processing import (\n",
    "    process_time,\n",
    "    count_months,\n",
    "    parse_resume,\n",
    "    hh_job_preparation,\n",
    "    get_job_rank\n",
    ")"
   ]
  },
  {
   "cell_type": "code",
   "execution_count": 5,
   "id": "0f0446ce-8350-4a3a-b10d-b8155b78b0d9",
   "metadata": {
    "execution": {
     "iopub.execute_input": "2023-11-19T07:37:03.687996Z",
     "iopub.status.busy": "2023-11-19T07:37:03.686922Z",
     "iopub.status.idle": "2023-11-19T07:37:03.785592Z",
     "shell.execute_reply": "2023-11-19T07:37:03.784279Z",
     "shell.execute_reply.started": "2023-11-19T07:37:03.687953Z"
    }
   },
   "outputs": [],
   "source": [
    "# Define data folder.\n",
    "data_folder = Path().cwd().parent / 'data'"
   ]
  },
  {
   "cell_type": "markdown",
   "id": "c7124a75-77d5-4e7c-890b-f84b3c1bf7f5",
   "metadata": {},
   "source": [
    "# Parsing Data"
   ]
  },
  {
   "cell_type": "code",
   "execution_count": 34,
   "id": "b4eb7426-a726-4564-9631-d3287aeb9aed",
   "metadata": {
    "execution": {
     "iopub.execute_input": "2023-11-19T07:52:06.114852Z",
     "iopub.status.busy": "2023-11-19T07:52:06.114386Z",
     "iopub.status.idle": "2023-11-19T07:52:55.315963Z",
     "shell.execute_reply": "2023-11-19T07:52:55.315201Z",
     "shell.execute_reply.started": "2023-11-19T07:52:06.114816Z"
    }
   },
   "outputs": [
    {
     "data": {
      "application/vnd.jupyter.widget-view+json": {
       "model_id": "833c2c215c9b48398b3a420cf200e0d0",
       "version_major": 2,
       "version_minor": 0
      },
      "text/plain": [
       "Read and process resume:   0%|          | 0/1001 [00:00<?, ?it/s]"
      ]
     },
     "metadata": {},
     "output_type": "display_data"
    }
   ],
   "source": [
    "# File path generator.\n",
    "files = data_folder.glob('*.html')\n",
    "# Collect jobs from all resumes.\n",
    "df = reduce(\n",
    "    # Concatenate all dataframes together.\n",
    "    lambda x, y: pd.concat([x, y]),\n",
    "    # Generate a list of dataframes with jobs.\n",
    "    [\n",
    "        pd.DataFrame(\n",
    "            data=parse_resume(\n",
    "                file=file, \n",
    "                user_id=id,\n",
    "                # name_process_func=hh_job_preparation # put here string processing function\n",
    "            ),\n",
    "            columns=['user_id', 'month_cnt', 'start_date', 'end_date', 'job_name', 'job_desc']\n",
    "        ) for id, file in enumerate(tqdm(list(files), 'Read and process resume'))\n",
    "    ]\n",
    ")"
   ]
  },
  {
   "cell_type": "code",
   "execution_count": 35,
   "id": "e138a758-bbba-49f2-974e-7e52c98fafde",
   "metadata": {
    "execution": {
     "iopub.execute_input": "2023-11-19T07:52:56.484325Z",
     "iopub.status.busy": "2023-11-19T07:52:56.482438Z",
     "iopub.status.idle": "2023-11-19T07:52:56.711404Z",
     "shell.execute_reply": "2023-11-19T07:52:56.710557Z",
     "shell.execute_reply.started": "2023-11-19T07:52:56.484277Z"
    }
   },
   "outputs": [],
   "source": [
    "# Save data.\n",
    "# df.to_pickle('parsed.pickle')"
   ]
  },
  {
   "cell_type": "markdown",
   "id": "6f037fc6-a84d-48f2-8079-2dd632d3bf43",
   "metadata": {},
   "source": [
    "# Process Data"
   ]
  },
  {
   "cell_type": "code",
   "execution_count": 5,
   "id": "cbc84a57-d741-4434-aa40-c836844354a7",
   "metadata": {
    "execution": {
     "iopub.execute_input": "2023-11-18T19:04:08.473783Z",
     "iopub.status.busy": "2023-11-18T19:04:08.473333Z",
     "iopub.status.idle": "2023-11-18T19:04:08.573332Z",
     "shell.execute_reply": "2023-11-18T19:04:08.571941Z",
     "shell.execute_reply.started": "2023-11-18T19:04:08.473751Z"
    }
   },
   "outputs": [],
   "source": [
    "# Load data.\n",
    "# df = pd.read_pickle('parsed.pickle')"
   ]
  },
  {
   "cell_type": "code",
   "execution_count": 36,
   "id": "04a1af59-9950-4db7-9757-c1e894807b97",
   "metadata": {
    "execution": {
     "iopub.execute_input": "2023-11-19T07:58:29.011977Z",
     "iopub.status.busy": "2023-11-19T07:58:29.011484Z",
     "iopub.status.idle": "2023-11-19T07:58:36.653781Z",
     "shell.execute_reply": "2023-11-19T07:58:36.652802Z",
     "shell.execute_reply.started": "2023-11-19T07:58:29.011946Z"
    }
   },
   "outputs": [
    {
     "data": {
      "application/vnd.jupyter.widget-view+json": {
       "model_id": "fcdef7107193489c911d6fdd93e27085",
       "version_major": 2,
       "version_minor": 0
      },
      "text/plain": [
       "Processing users:   0%|          | 0/1001 [00:00<?, ?it/s]"
      ]
     },
     "metadata": {},
     "output_type": "display_data"
    }
   ],
   "source": [
    "df_rank = get_job_rank(df=df)"
   ]
  },
  {
   "cell_type": "code",
   "execution_count": 37,
   "id": "c0698a44-d7d7-449f-87ac-375dfd8b5eaf",
   "metadata": {
    "execution": {
     "iopub.execute_input": "2023-11-19T07:58:37.279682Z",
     "iopub.status.busy": "2023-11-19T07:58:37.279320Z",
     "iopub.status.idle": "2023-11-19T07:58:37.388452Z",
     "shell.execute_reply": "2023-11-19T07:58:37.387322Z",
     "shell.execute_reply.started": "2023-11-19T07:58:37.279658Z"
    }
   },
   "outputs": [
    {
     "data": {
      "text/html": [
       "<div>\n",
       "<style scoped>\n",
       "    .dataframe tbody tr th:only-of-type {\n",
       "        vertical-align: middle;\n",
       "    }\n",
       "\n",
       "    .dataframe tbody tr th {\n",
       "        vertical-align: top;\n",
       "    }\n",
       "\n",
       "    .dataframe thead th {\n",
       "        text-align: right;\n",
       "    }\n",
       "</style>\n",
       "<table border=\"1\" class=\"dataframe\">\n",
       "  <thead>\n",
       "    <tr style=\"text-align: right;\">\n",
       "      <th></th>\n",
       "      <th>user_id</th>\n",
       "      <th>month_cnt</th>\n",
       "      <th>start_date</th>\n",
       "      <th>end_date</th>\n",
       "      <th>job_name</th>\n",
       "      <th>job_desc</th>\n",
       "      <th>job_level_simple</th>\n",
       "      <th>job_level_intersect</th>\n",
       "    </tr>\n",
       "  </thead>\n",
       "  <tbody>\n",
       "    <tr>\n",
       "      <th>0</th>\n",
       "      <td>0</td>\n",
       "      <td>68</td>\n",
       "      <td>2018-04-01</td>\n",
       "      <td>-1</td>\n",
       "      <td>Специалист сервисно-монтажной службы</td>\n",
       "      <td>Сборка, ремонт устройств селскохозяйственного ...</td>\n",
       "      <td>9</td>\n",
       "      <td>7</td>\n",
       "    </tr>\n",
       "    <tr>\n",
       "      <th>1</th>\n",
       "      <td>0</td>\n",
       "      <td>8</td>\n",
       "      <td>2017-09-01</td>\n",
       "      <td>2018-04-01</td>\n",
       "      <td>Менеджер по поиску клиентов</td>\n",
       "      <td>Совершение холодных звонков, поиск клиентов, з...</td>\n",
       "      <td>8</td>\n",
       "      <td>6</td>\n",
       "    </tr>\n",
       "    <tr>\n",
       "      <th>2</th>\n",
       "      <td>0</td>\n",
       "      <td>3</td>\n",
       "      <td>2016-08-01</td>\n",
       "      <td>2016-10-01</td>\n",
       "      <td>Продавец-консультант</td>\n",
       "      <td>Консультирование и обслуживание покупателей.\\n...</td>\n",
       "      <td>7</td>\n",
       "      <td>5</td>\n",
       "    </tr>\n",
       "    <tr>\n",
       "      <th>3</th>\n",
       "      <td>0</td>\n",
       "      <td>12</td>\n",
       "      <td>2015-08-01</td>\n",
       "      <td>2016-07-01</td>\n",
       "      <td>Менеджер товароучета и хранения</td>\n",
       "      <td>Работа с клиентами, обработка заявок в програм...</td>\n",
       "      <td>6</td>\n",
       "      <td>4</td>\n",
       "    </tr>\n",
       "    <tr>\n",
       "      <th>4</th>\n",
       "      <td>0</td>\n",
       "      <td>6</td>\n",
       "      <td>2013-11-01</td>\n",
       "      <td>2014-04-01</td>\n",
       "      <td>Заведующий складом в магазине одежды</td>\n",
       "      <td>Руководство работой склада по приему, хранению...</td>\n",
       "      <td>5</td>\n",
       "      <td>3</td>\n",
       "    </tr>\n",
       "  </tbody>\n",
       "</table>\n",
       "</div>"
      ],
      "text/plain": [
       "  user_id month_cnt  start_date    end_date  \\\n",
       "0       0        68  2018-04-01          -1   \n",
       "1       0         8  2017-09-01  2018-04-01   \n",
       "2       0         3  2016-08-01  2016-10-01   \n",
       "3       0        12  2015-08-01  2016-07-01   \n",
       "4       0         6  2013-11-01  2014-04-01   \n",
       "\n",
       "                               job_name  \\\n",
       "0  Специалист сервисно-монтажной службы   \n",
       "1           Менеджер по поиску клиентов   \n",
       "2                  Продавец-консультант   \n",
       "3       Менеджер товароучета и хранения   \n",
       "4  Заведующий складом в магазине одежды   \n",
       "\n",
       "                                            job_desc  job_level_simple  \\\n",
       "0  Сборка, ремонт устройств селскохозяйственного ...                 9   \n",
       "1  Совершение холодных звонков, поиск клиентов, з...                 8   \n",
       "2  Консультирование и обслуживание покупателей.\\n...                 7   \n",
       "3  Работа с клиентами, обработка заявок в програм...                 6   \n",
       "4  Руководство работой склада по приему, хранению...                 5   \n",
       "\n",
       "   job_level_intersect  \n",
       "0                    7  \n",
       "1                    6  \n",
       "2                    5  \n",
       "3                    4  \n",
       "4                    3  "
      ]
     },
     "execution_count": 37,
     "metadata": {},
     "output_type": "execute_result"
    }
   ],
   "source": [
    "df_rank.head()"
   ]
  },
  {
   "cell_type": "markdown",
   "id": "b8c412cc-e04c-4bc3-90f5-68dfe31b4c03",
   "metadata": {},
   "source": [
    "# Clusterization"
   ]
  },
  {
   "cell_type": "code",
   "execution_count": 104,
   "id": "b1a84b79-2127-4fbe-ba16-441bc0ccdcc8",
   "metadata": {
    "execution": {
     "iopub.execute_input": "2023-11-19T11:31:03.290490Z",
     "iopub.status.busy": "2023-11-19T11:31:03.289862Z",
     "iopub.status.idle": "2023-11-19T11:31:03.394984Z",
     "shell.execute_reply": "2023-11-19T11:31:03.394124Z",
     "shell.execute_reply.started": "2023-11-19T11:31:03.290448Z"
    }
   },
   "outputs": [],
   "source": [
    "def clusterize(model: object, job_name_list: list, **kwargs) -> List[list]:\n",
    "    \"\"\"Клсастеризация набора должностей.\"\"\"\n",
    "    # Apply encoding.\n",
    "    print(\"Encode the corpus. This might take a while\")\n",
    "    corpus_embeddings = model.encode(\n",
    "        job_name_list, \n",
    "        batch_size=64, \n",
    "        show_progress_bar=True, \n",
    "        convert_to_tensor=True\n",
    "    )\n",
    "    # Get clusters\n",
    "    print(\"Start clustering\")\n",
    "    start_time = time.time()\n",
    "    #Two parameters to tune:\n",
    "    #min_cluster_size: Only consider cluster that have at least 25 elements\n",
    "    #threshold: Consider sentence pairs with a cosine-similarity larger than threshold as similar\n",
    "    clusters = util.community_detection(corpus_embeddings, **kwargs)\n",
    "    print(\"Clustering done after {:.2f} sec\".format(time.time() - start_time))\n",
    "    return clusters"
   ]
  },
  {
   "cell_type": "code",
   "execution_count": 116,
   "id": "b8fc9ddc-32f6-4610-b8ee-1c41aa4e850a",
   "metadata": {
    "execution": {
     "iopub.execute_input": "2023-11-19T11:35:25.670620Z",
     "iopub.status.busy": "2023-11-19T11:35:25.670123Z",
     "iopub.status.idle": "2023-11-19T11:35:25.783000Z",
     "shell.execute_reply": "2023-11-19T11:35:25.781975Z",
     "shell.execute_reply.started": "2023-11-19T11:35:25.670591Z"
    }
   },
   "outputs": [],
   "source": [
    "def get_clusters(df, model, **kwargs):\n",
    "    \"\"\"Кластеризауия по всем уровням позиций\"\"\"\n",
    "    _df_cluster_list = []\n",
    "    with warnings.catch_warnings():\n",
    "        # Irnore pandas warnings.\n",
    "        warnings.filterwarnings(\"ignore\")\n",
    "        for i in df.job_level_intersect.unique():\n",
    "            # Select level job names.\n",
    "            _df = df[df.job_level_intersect == i]\n",
    "            job_name_list = list(_df.job_name)\n",
    "            print('Job level:', i)\n",
    "            cluster = clusterize(model, job_name_list, **kwargs)\n",
    "            _df['cluster'] = -1\n",
    "            for num, clst in enumerate(cluster):\n",
    "                for idx in clst:\n",
    "                    _df.loc[_df.index == idx, 'cluster'] = f'Cluster_{num}_level{i}'\n",
    "            _df_cluster_list.append(_df)\n",
    "\n",
    "    return reduce(lambda x, y: pd.concat([x, y]), _df_cluster_list)"
   ]
  },
  {
   "cell_type": "code",
   "execution_count": null,
   "id": "93e049e5-71a0-45ff-8a7e-03cc657bf1e1",
   "metadata": {},
   "outputs": [],
   "source": [
    "# Load model.\n",
    "model = SentenceTransformer('distiluse-base-multilingual-cased-v1')"
   ]
  },
  {
   "cell_type": "code",
   "execution_count": 117,
   "id": "bdc73af6-e4fd-4f67-8597-48776a64b67e",
   "metadata": {
    "execution": {
     "iopub.execute_input": "2023-11-19T11:35:26.196871Z",
     "iopub.status.busy": "2023-11-19T11:35:26.196503Z",
     "iopub.status.idle": "2023-11-19T11:36:07.551067Z",
     "shell.execute_reply": "2023-11-19T11:36:07.549363Z",
     "shell.execute_reply.started": "2023-11-19T11:35:26.196847Z"
    }
   },
   "outputs": [
    {
     "name": "stdout",
     "output_type": "stream",
     "text": [
      "Job level: 7\n",
      "Encode the corpus. This might take a while\n"
     ]
    },
    {
     "data": {
      "application/vnd.jupyter.widget-view+json": {
       "model_id": "da0483993b244bdeaa600632f9d8901e",
       "version_major": 2,
       "version_minor": 0
      },
      "text/plain": [
       "Batches:   0%|          | 0/3 [00:00<?, ?it/s]"
      ]
     },
     "metadata": {},
     "output_type": "display_data"
    },
    {
     "name": "stdout",
     "output_type": "stream",
     "text": [
      "Start clustering\n",
      "Clustering done after 0.01 sec\n",
      "Job level: 6\n",
      "Encode the corpus. This might take a while\n"
     ]
    },
    {
     "data": {
      "application/vnd.jupyter.widget-view+json": {
       "model_id": "0f7475aa2ce34b2aa3650bff85859913",
       "version_major": 2,
       "version_minor": 0
      },
      "text/plain": [
       "Batches:   0%|          | 0/5 [00:00<?, ?it/s]"
      ]
     },
     "metadata": {},
     "output_type": "display_data"
    },
    {
     "name": "stdout",
     "output_type": "stream",
     "text": [
      "Start clustering\n",
      "Clustering done after 0.00 sec\n",
      "Job level: 5\n",
      "Encode the corpus. This might take a while\n"
     ]
    },
    {
     "data": {
      "application/vnd.jupyter.widget-view+json": {
       "model_id": "c2f74c2d660143cea4e7f430914f4f7c",
       "version_major": 2,
       "version_minor": 0
      },
      "text/plain": [
       "Batches:   0%|          | 0/6 [00:00<?, ?it/s]"
      ]
     },
     "metadata": {},
     "output_type": "display_data"
    },
    {
     "name": "stdout",
     "output_type": "stream",
     "text": [
      "Start clustering\n",
      "Clustering done after 0.02 sec\n",
      "Job level: 4\n",
      "Encode the corpus. This might take a while\n"
     ]
    },
    {
     "data": {
      "application/vnd.jupyter.widget-view+json": {
       "model_id": "f4afd84b1aa74be0b92c13b6fa355f34",
       "version_major": 2,
       "version_minor": 0
      },
      "text/plain": [
       "Batches:   0%|          | 0/8 [00:00<?, ?it/s]"
      ]
     },
     "metadata": {},
     "output_type": "display_data"
    },
    {
     "name": "stdout",
     "output_type": "stream",
     "text": [
      "Start clustering\n",
      "Clustering done after 0.03 sec\n",
      "Job level: 3\n",
      "Encode the corpus. This might take a while\n"
     ]
    },
    {
     "data": {
      "application/vnd.jupyter.widget-view+json": {
       "model_id": "5446b6c7d64042b48a8064627f2880cc",
       "version_major": 2,
       "version_minor": 0
      },
      "text/plain": [
       "Batches:   0%|          | 0/11 [00:00<?, ?it/s]"
      ]
     },
     "metadata": {},
     "output_type": "display_data"
    },
    {
     "name": "stdout",
     "output_type": "stream",
     "text": [
      "Start clustering\n",
      "Clustering done after 0.06 sec\n",
      "Job level: 2\n",
      "Encode the corpus. This might take a while\n"
     ]
    },
    {
     "data": {
      "application/vnd.jupyter.widget-view+json": {
       "model_id": "fa8fa86c851342878e218be8b2653492",
       "version_major": 2,
       "version_minor": 0
      },
      "text/plain": [
       "Batches:   0%|          | 0/14 [00:00<?, ?it/s]"
      ]
     },
     "metadata": {},
     "output_type": "display_data"
    },
    {
     "name": "stdout",
     "output_type": "stream",
     "text": [
      "Start clustering\n",
      "Clustering done after 0.10 sec\n",
      "Job level: 1\n",
      "Encode the corpus. This might take a while\n"
     ]
    },
    {
     "data": {
      "application/vnd.jupyter.widget-view+json": {
       "model_id": "5b49300cdf3c490dbd71c424d81155fb",
       "version_major": 2,
       "version_minor": 0
      },
      "text/plain": [
       "Batches:   0%|          | 0/18 [00:00<?, ?it/s]"
      ]
     },
     "metadata": {},
     "output_type": "display_data"
    },
    {
     "name": "stdout",
     "output_type": "stream",
     "text": [
      "Start clustering\n",
      "Clustering done after 0.29 sec\n",
      "Job level: 8\n",
      "Encode the corpus. This might take a while\n"
     ]
    },
    {
     "data": {
      "application/vnd.jupyter.widget-view+json": {
       "model_id": "037daf7e0eef404ab6fea80cb031cf2c",
       "version_major": 2,
       "version_minor": 0
      },
      "text/plain": [
       "Batches:   0%|          | 0/2 [00:00<?, ?it/s]"
      ]
     },
     "metadata": {},
     "output_type": "display_data"
    },
    {
     "name": "stdout",
     "output_type": "stream",
     "text": [
      "Start clustering\n",
      "Clustering done after 0.01 sec\n",
      "Job level: 10\n",
      "Encode the corpus. This might take a while\n"
     ]
    },
    {
     "data": {
      "application/vnd.jupyter.widget-view+json": {
       "model_id": "f3d370115e7840b7951781b3da8eab51",
       "version_major": 2,
       "version_minor": 0
      },
      "text/plain": [
       "Batches:   0%|          | 0/1 [00:00<?, ?it/s]"
      ]
     },
     "metadata": {},
     "output_type": "display_data"
    },
    {
     "name": "stdout",
     "output_type": "stream",
     "text": [
      "Start clustering\n",
      "Clustering done after 0.00 sec\n",
      "Job level: 9\n",
      "Encode the corpus. This might take a while\n"
     ]
    },
    {
     "data": {
      "application/vnd.jupyter.widget-view+json": {
       "model_id": "e37672e041dc47ed9d1c183fefdddc3b",
       "version_major": 2,
       "version_minor": 0
      },
      "text/plain": [
       "Batches:   0%|          | 0/2 [00:00<?, ?it/s]"
      ]
     },
     "metadata": {},
     "output_type": "display_data"
    },
    {
     "name": "stdout",
     "output_type": "stream",
     "text": [
      "Start clustering\n",
      "Clustering done after 0.00 sec\n",
      "Job level: 13\n",
      "Encode the corpus. This might take a while\n"
     ]
    },
    {
     "data": {
      "application/vnd.jupyter.widget-view+json": {
       "model_id": "36097c3dd7404cb8b50491b15d5fe29d",
       "version_major": 2,
       "version_minor": 0
      },
      "text/plain": [
       "Batches:   0%|          | 0/1 [00:00<?, ?it/s]"
      ]
     },
     "metadata": {},
     "output_type": "display_data"
    },
    {
     "name": "stdout",
     "output_type": "stream",
     "text": [
      "Start clustering\n",
      "Clustering done after 0.00 sec\n",
      "Job level: 12\n",
      "Encode the corpus. This might take a while\n"
     ]
    },
    {
     "data": {
      "application/vnd.jupyter.widget-view+json": {
       "model_id": "d3cf04dfa30b45cda7b9e6a61543d8c3",
       "version_major": 2,
       "version_minor": 0
      },
      "text/plain": [
       "Batches:   0%|          | 0/1 [00:00<?, ?it/s]"
      ]
     },
     "metadata": {},
     "output_type": "display_data"
    },
    {
     "name": "stdout",
     "output_type": "stream",
     "text": [
      "Start clustering\n",
      "Clustering done after 0.00 sec\n",
      "Job level: 11\n",
      "Encode the corpus. This might take a while\n"
     ]
    },
    {
     "data": {
      "application/vnd.jupyter.widget-view+json": {
       "model_id": "0674cf0bfc754f4f9643f12ccf12a8cd",
       "version_major": 2,
       "version_minor": 0
      },
      "text/plain": [
       "Batches:   0%|          | 0/1 [00:00<?, ?it/s]"
      ]
     },
     "metadata": {},
     "output_type": "display_data"
    },
    {
     "name": "stdout",
     "output_type": "stream",
     "text": [
      "Start clustering\n",
      "Clustering done after 0.00 sec\n",
      "Job level: 15\n",
      "Encode the corpus. This might take a while\n"
     ]
    },
    {
     "data": {
      "application/vnd.jupyter.widget-view+json": {
       "model_id": "acae7091d8374648b2e04e81dac029cc",
       "version_major": 2,
       "version_minor": 0
      },
      "text/plain": [
       "Batches:   0%|          | 0/1 [00:00<?, ?it/s]"
      ]
     },
     "metadata": {},
     "output_type": "display_data"
    },
    {
     "name": "stdout",
     "output_type": "stream",
     "text": [
      "Start clustering\n",
      "Clustering done after 0.00 sec\n",
      "Job level: 14\n",
      "Encode the corpus. This might take a while\n"
     ]
    },
    {
     "data": {
      "application/vnd.jupyter.widget-view+json": {
       "model_id": "e2c2b086277e458cab07958f307a3ebb",
       "version_major": 2,
       "version_minor": 0
      },
      "text/plain": [
       "Batches:   0%|          | 0/1 [00:00<?, ?it/s]"
      ]
     },
     "metadata": {},
     "output_type": "display_data"
    },
    {
     "name": "stdout",
     "output_type": "stream",
     "text": [
      "Start clustering\n",
      "Clustering done after 0.00 sec\n",
      "Job level: 21\n",
      "Encode the corpus. This might take a while\n"
     ]
    },
    {
     "data": {
      "application/vnd.jupyter.widget-view+json": {
       "model_id": "b2254367d6de4c4ba6f5f11164e6c9f2",
       "version_major": 2,
       "version_minor": 0
      },
      "text/plain": [
       "Batches:   0%|          | 0/1 [00:00<?, ?it/s]"
      ]
     },
     "metadata": {},
     "output_type": "display_data"
    },
    {
     "name": "stdout",
     "output_type": "stream",
     "text": [
      "Start clustering\n",
      "Clustering done after 0.00 sec\n",
      "Job level: 20\n",
      "Encode the corpus. This might take a while\n"
     ]
    },
    {
     "data": {
      "application/vnd.jupyter.widget-view+json": {
       "model_id": "7e8d06a1f2dd4f90a7e555292fbaa083",
       "version_major": 2,
       "version_minor": 0
      },
      "text/plain": [
       "Batches:   0%|          | 0/1 [00:00<?, ?it/s]"
      ]
     },
     "metadata": {},
     "output_type": "display_data"
    },
    {
     "name": "stdout",
     "output_type": "stream",
     "text": [
      "Start clustering\n",
      "Clustering done after 0.00 sec\n",
      "Job level: 19\n",
      "Encode the corpus. This might take a while\n"
     ]
    },
    {
     "data": {
      "application/vnd.jupyter.widget-view+json": {
       "model_id": "f68d5d63183c4589b1e2638ae9758386",
       "version_major": 2,
       "version_minor": 0
      },
      "text/plain": [
       "Batches:   0%|          | 0/1 [00:00<?, ?it/s]"
      ]
     },
     "metadata": {},
     "output_type": "display_data"
    },
    {
     "name": "stdout",
     "output_type": "stream",
     "text": [
      "Start clustering\n",
      "Clustering done after 0.00 sec\n",
      "Job level: 18\n",
      "Encode the corpus. This might take a while\n"
     ]
    },
    {
     "data": {
      "application/vnd.jupyter.widget-view+json": {
       "model_id": "be2c206ce8e94b52bc3d87eb0e238c28",
       "version_major": 2,
       "version_minor": 0
      },
      "text/plain": [
       "Batches:   0%|          | 0/1 [00:00<?, ?it/s]"
      ]
     },
     "metadata": {},
     "output_type": "display_data"
    },
    {
     "name": "stdout",
     "output_type": "stream",
     "text": [
      "Start clustering\n",
      "Clustering done after 0.00 sec\n",
      "Job level: 17\n",
      "Encode the corpus. This might take a while\n"
     ]
    },
    {
     "data": {
      "application/vnd.jupyter.widget-view+json": {
       "model_id": "04068cb9c16e42908bc626f3ce652bbe",
       "version_major": 2,
       "version_minor": 0
      },
      "text/plain": [
       "Batches:   0%|          | 0/1 [00:00<?, ?it/s]"
      ]
     },
     "metadata": {},
     "output_type": "display_data"
    },
    {
     "name": "stdout",
     "output_type": "stream",
     "text": [
      "Start clustering\n",
      "Clustering done after 0.00 sec\n",
      "Job level: 16\n",
      "Encode the corpus. This might take a while\n"
     ]
    },
    {
     "data": {
      "application/vnd.jupyter.widget-view+json": {
       "model_id": "828e25831dc2424aba04a0f2ed193275",
       "version_major": 2,
       "version_minor": 0
      },
      "text/plain": [
       "Batches:   0%|          | 0/1 [00:00<?, ?it/s]"
      ]
     },
     "metadata": {},
     "output_type": "display_data"
    },
    {
     "name": "stdout",
     "output_type": "stream",
     "text": [
      "Start clustering\n",
      "Clustering done after 0.00 sec\n"
     ]
    }
   ],
   "source": [
    "data_cluster = get_clusters(df_rank, model, min_community_size=25, threshold=0.75)"
   ]
  },
  {
   "cell_type": "code",
   "execution_count": 119,
   "id": "3514ead1-d447-46a9-94cc-386fd70f921a",
   "metadata": {
    "execution": {
     "iopub.execute_input": "2023-11-19T11:37:26.776150Z",
     "iopub.status.busy": "2023-11-19T11:37:26.775598Z",
     "iopub.status.idle": "2023-11-19T11:37:26.900576Z",
     "shell.execute_reply": "2023-11-19T11:37:26.899376Z",
     "shell.execute_reply.started": "2023-11-19T11:37:26.776119Z"
    }
   },
   "outputs": [
    {
     "data": {
      "text/html": [
       "<div>\n",
       "<style scoped>\n",
       "    .dataframe tbody tr th:only-of-type {\n",
       "        vertical-align: middle;\n",
       "    }\n",
       "\n",
       "    .dataframe tbody tr th {\n",
       "        vertical-align: top;\n",
       "    }\n",
       "\n",
       "    .dataframe thead th {\n",
       "        text-align: right;\n",
       "    }\n",
       "</style>\n",
       "<table border=\"1\" class=\"dataframe\">\n",
       "  <thead>\n",
       "    <tr style=\"text-align: right;\">\n",
       "      <th></th>\n",
       "      <th>user_id</th>\n",
       "      <th>month_cnt</th>\n",
       "      <th>start_date</th>\n",
       "      <th>end_date</th>\n",
       "      <th>job_name</th>\n",
       "      <th>job_desc</th>\n",
       "      <th>job_level_simple</th>\n",
       "      <th>job_level_intersect</th>\n",
       "      <th>cluster</th>\n",
       "    </tr>\n",
       "  </thead>\n",
       "  <tbody>\n",
       "    <tr>\n",
       "      <th>0</th>\n",
       "      <td>0</td>\n",
       "      <td>68</td>\n",
       "      <td>2018-04-01</td>\n",
       "      <td>-1</td>\n",
       "      <td>Специалист сервисно-монтажной службы</td>\n",
       "      <td>Сборка, ремонт устройств селскохозяйственного ...</td>\n",
       "      <td>9</td>\n",
       "      <td>7</td>\n",
       "      <td>-1</td>\n",
       "    </tr>\n",
       "    <tr>\n",
       "      <th>1</th>\n",
       "      <td>8</td>\n",
       "      <td>6</td>\n",
       "      <td>2015-10-01</td>\n",
       "      <td>2016-03-01</td>\n",
       "      <td>Зам.директора по транспорту и логистике</td>\n",
       "      <td>Управление штатом водителей и диспетчером;\\n\\n...</td>\n",
       "      <td>8</td>\n",
       "      <td>7</td>\n",
       "      <td>-1</td>\n",
       "    </tr>\n",
       "    <tr>\n",
       "      <th>1</th>\n",
       "      <td>19</td>\n",
       "      <td>19</td>\n",
       "      <td>2019-08-01</td>\n",
       "      <td>2021-02-01</td>\n",
       "      <td>Тракторист-машинист</td>\n",
       "      <td>Работа на бульдозере CatD6NXL, CatD6R. Планиро...</td>\n",
       "      <td>9</td>\n",
       "      <td>7</td>\n",
       "      <td>-1</td>\n",
       "    </tr>\n",
       "    <tr>\n",
       "      <th>3</th>\n",
       "      <td>21</td>\n",
       "      <td>5</td>\n",
       "      <td>2014-04-01</td>\n",
       "      <td>2014-08-01</td>\n",
       "      <td>Агроном</td>\n",
       "      <td>Организация производства сельскохозяйственной ...</td>\n",
       "      <td>7</td>\n",
       "      <td>7</td>\n",
       "      <td>-1</td>\n",
       "    </tr>\n",
       "    <tr>\n",
       "      <th>3</th>\n",
       "      <td>28</td>\n",
       "      <td>24</td>\n",
       "      <td>2018-09-01</td>\n",
       "      <td>2020-08-01</td>\n",
       "      <td>Дорожный рабочий</td>\n",
       "      <td>Обслуживание дорог федерального и местного зна...</td>\n",
       "      <td>7</td>\n",
       "      <td>7</td>\n",
       "      <td>-1</td>\n",
       "    </tr>\n",
       "    <tr>\n",
       "      <th>...</th>\n",
       "      <td>...</td>\n",
       "      <td>...</td>\n",
       "      <td>...</td>\n",
       "      <td>...</td>\n",
       "      <td>...</td>\n",
       "      <td>...</td>\n",
       "      <td>...</td>\n",
       "      <td>...</td>\n",
       "      <td>...</td>\n",
       "    </tr>\n",
       "    <tr>\n",
       "      <th>4</th>\n",
       "      <td>793</td>\n",
       "      <td>6</td>\n",
       "      <td>2009-10-01</td>\n",
       "      <td>2010-03-01</td>\n",
       "      <td>Машинист трубоукладчика 5 разряда</td>\n",
       "      <td>Ведение технологического процесса по трубоукла...</td>\n",
       "      <td>17</td>\n",
       "      <td>17</td>\n",
       "      <td>-1</td>\n",
       "    </tr>\n",
       "    <tr>\n",
       "      <th>0</th>\n",
       "      <td>936</td>\n",
       "      <td>56</td>\n",
       "      <td>2019-04-01</td>\n",
       "      <td>-1</td>\n",
       "      <td>Главный ветеринарно-санитарный врач</td>\n",
       "      <td>Организация ветеринарно-санитарной экспертизы,...</td>\n",
       "      <td>17</td>\n",
       "      <td>17</td>\n",
       "      <td>-1</td>\n",
       "    </tr>\n",
       "    <tr>\n",
       "      <th>5</th>\n",
       "      <td>544</td>\n",
       "      <td>14</td>\n",
       "      <td>2007-10-01</td>\n",
       "      <td>2008-11-01</td>\n",
       "      <td>Агроном</td>\n",
       "      <td>Закупка посадочного материала и рулонного газо...</td>\n",
       "      <td>16</td>\n",
       "      <td>16</td>\n",
       "      <td>-1</td>\n",
       "    </tr>\n",
       "    <tr>\n",
       "      <th>5</th>\n",
       "      <td>793</td>\n",
       "      <td>12</td>\n",
       "      <td>2008-05-01</td>\n",
       "      <td>2009-04-01</td>\n",
       "      <td>Машинист трубоукладчика 5 разряда</td>\n",
       "      <td>Ведение технологического процесса по трубоукла...</td>\n",
       "      <td>16</td>\n",
       "      <td>16</td>\n",
       "      <td>-1</td>\n",
       "    </tr>\n",
       "    <tr>\n",
       "      <th>1</th>\n",
       "      <td>936</td>\n",
       "      <td>20</td>\n",
       "      <td>2017-08-01</td>\n",
       "      <td>2019-03-01</td>\n",
       "      <td>Начальник отдела противоэпизоотических меропри...</td>\n",
       "      <td>организация работы отдела, организация и прове...</td>\n",
       "      <td>16</td>\n",
       "      <td>16</td>\n",
       "      <td>-1</td>\n",
       "    </tr>\n",
       "  </tbody>\n",
       "</table>\n",
       "<p>4335 rows × 9 columns</p>\n",
       "</div>"
      ],
      "text/plain": [
       "   user_id month_cnt  start_date    end_date  \\\n",
       "0        0        68  2018-04-01          -1   \n",
       "1        8         6  2015-10-01  2016-03-01   \n",
       "1       19        19  2019-08-01  2021-02-01   \n",
       "3       21         5  2014-04-01  2014-08-01   \n",
       "3       28        24  2018-09-01  2020-08-01   \n",
       "..     ...       ...         ...         ...   \n",
       "4      793         6  2009-10-01  2010-03-01   \n",
       "0      936        56  2019-04-01          -1   \n",
       "5      544        14  2007-10-01  2008-11-01   \n",
       "5      793        12  2008-05-01  2009-04-01   \n",
       "1      936        20  2017-08-01  2019-03-01   \n",
       "\n",
       "                                             job_name  \\\n",
       "0                Специалист сервисно-монтажной службы   \n",
       "1             Зам.директора по транспорту и логистике   \n",
       "1                                 Тракторист-машинист   \n",
       "3                                             Агроном   \n",
       "3                                    Дорожный рабочий   \n",
       "..                                                ...   \n",
       "4                   Машинист трубоукладчика 5 разряда   \n",
       "0                 Главный ветеринарно-санитарный врач   \n",
       "5                                             Агроном   \n",
       "5                   Машинист трубоукладчика 5 разряда   \n",
       "1   Начальник отдела противоэпизоотических меропри...   \n",
       "\n",
       "                                             job_desc  job_level_simple  \\\n",
       "0   Сборка, ремонт устройств селскохозяйственного ...                 9   \n",
       "1   Управление штатом водителей и диспетчером;\\n\\n...                 8   \n",
       "1   Работа на бульдозере CatD6NXL, CatD6R. Планиро...                 9   \n",
       "3   Организация производства сельскохозяйственной ...                 7   \n",
       "3   Обслуживание дорог федерального и местного зна...                 7   \n",
       "..                                                ...               ...   \n",
       "4   Ведение технологического процесса по трубоукла...                17   \n",
       "0   Организация ветеринарно-санитарной экспертизы,...                17   \n",
       "5   Закупка посадочного материала и рулонного газо...                16   \n",
       "5   Ведение технологического процесса по трубоукла...                16   \n",
       "1   организация работы отдела, организация и прове...                16   \n",
       "\n",
       "    job_level_intersect cluster  \n",
       "0                     7      -1  \n",
       "1                     7      -1  \n",
       "1                     7      -1  \n",
       "3                     7      -1  \n",
       "3                     7      -1  \n",
       "..                  ...     ...  \n",
       "4                    17      -1  \n",
       "0                    17      -1  \n",
       "5                    16      -1  \n",
       "5                    16      -1  \n",
       "1                    16      -1  \n",
       "\n",
       "[4335 rows x 9 columns]"
      ]
     },
     "execution_count": 119,
     "metadata": {},
     "output_type": "execute_result"
    }
   ],
   "source": [
    "data_cluster"
   ]
  },
  {
   "cell_type": "code",
   "execution_count": null,
   "id": "275777c6-0751-4031-b9bf-ac956a99f40d",
   "metadata": {},
   "outputs": [],
   "source": []
  },
  {
   "cell_type": "markdown",
   "id": "428118c5-5409-44be-8cb2-d73aa9ee03d8",
   "metadata": {
    "execution": {
     "iopub.execute_input": "2023-11-18T21:16:39.014199Z",
     "iopub.status.busy": "2023-11-18T21:16:39.013611Z",
     "iopub.status.idle": "2023-11-18T21:16:39.119399Z",
     "shell.execute_reply": "2023-11-18T21:16:39.117836Z",
     "shell.execute_reply.started": "2023-11-18T21:16:39.014156Z"
    }
   },
   "source": [
    "# Cluster summarization"
   ]
  },
  {
   "cell_type": "code",
   "execution_count": 41,
   "id": "38c9dcbe-abcd-4d18-a56a-b68f2a359033",
   "metadata": {
    "execution": {
     "iopub.execute_input": "2023-11-19T08:00:22.225802Z",
     "iopub.status.busy": "2023-11-19T08:00:22.224807Z",
     "iopub.status.idle": "2023-11-19T08:00:22.375081Z",
     "shell.execute_reply": "2023-11-19T08:00:22.373529Z",
     "shell.execute_reply.started": "2023-11-19T08:00:22.225760Z"
    }
   },
   "outputs": [],
   "source": [
    "temp = list(set([corpus_sentences[c] for c in clusters[0]]))"
   ]
  },
  {
   "cell_type": "code",
   "execution_count": 42,
   "id": "83d2e543-2b15-4c60-9c7b-ead0fc4cf7ab",
   "metadata": {
    "execution": {
     "iopub.execute_input": "2023-11-19T08:00:22.634791Z",
     "iopub.status.busy": "2023-11-19T08:00:22.633093Z",
     "iopub.status.idle": "2023-11-19T08:00:22.736604Z",
     "shell.execute_reply": "2023-11-19T08:00:22.735449Z",
     "shell.execute_reply.started": "2023-11-19T08:00:22.634665Z"
    }
   },
   "outputs": [],
   "source": [
    "def compress_jobs(jobs_list, threshold, element=0):\n",
    "    indexes = []\n",
    "    for j in range(element+1, len(jobs_list)):\n",
    "        score = fuzz.token_set_ratio(jobs_list[element], jobs_list[j])\n",
    "        if score >= threshold:\n",
    "            indexes.append(j)\n",
    "    for index in sorted(indexes, reverse=True):\n",
    "        del jobs_list[index]"
   ]
  },
  {
   "cell_type": "code",
   "execution_count": 53,
   "id": "73670257-8357-47e6-b2ec-ef4996b88d32",
   "metadata": {
    "execution": {
     "iopub.execute_input": "2023-11-19T08:00:51.248125Z",
     "iopub.status.busy": "2023-11-19T08:00:51.247661Z",
     "iopub.status.idle": "2023-11-19T08:00:51.365543Z",
     "shell.execute_reply": "2023-11-19T08:00:51.363369Z",
     "shell.execute_reply.started": "2023-11-19T08:00:51.248086Z"
    }
   },
   "outputs": [],
   "source": [
    "# compress_jobs(jobs_list=temp, threshold=60, element=5)"
   ]
  },
  {
   "cell_type": "code",
   "execution_count": 58,
   "id": "c408fc13-cf08-4fff-8996-669973682f1c",
   "metadata": {
    "execution": {
     "iopub.execute_input": "2023-11-19T11:01:41.681723Z",
     "iopub.status.busy": "2023-11-19T11:01:41.681209Z",
     "iopub.status.idle": "2023-11-19T11:01:41.813441Z",
     "shell.execute_reply": "2023-11-19T11:01:41.811239Z",
     "shell.execute_reply.started": "2023-11-19T11:01:41.681694Z"
    }
   },
   "outputs": [],
   "source": [
    "all_jobs = []\n",
    "for n in range(len(clusters)):\n",
    "    jobs_list = list(set([corpus_sentences[i] for i in clusters[n]]))\n",
    "    length = len(jobs_list)\n",
    "    j= 0\n",
    "    while len(jobs_list) - length != 0:\n",
    "        compress_jobs(jobs_list=jobs_list, threshold=60, element=j)\n",
    "        length = len(jobs_list)\n",
    "        j =+ 1\n",
    "    all_jobs.append(jobs_list)"
   ]
  },
  {
   "cell_type": "code",
   "execution_count": 59,
   "id": "7065c26f-bc63-49ea-9c57-44cda7127303",
   "metadata": {
    "execution": {
     "iopub.execute_input": "2023-11-19T11:01:42.175982Z",
     "iopub.status.busy": "2023-11-19T11:01:42.175554Z",
     "iopub.status.idle": "2023-11-19T11:01:42.276148Z",
     "shell.execute_reply": "2023-11-19T11:01:42.275217Z",
     "shell.execute_reply.started": "2023-11-19T11:01:42.175953Z"
    }
   },
   "outputs": [
    {
     "data": {
      "text/plain": [
       "[['Заместитель главного ветеринарного врача',\n",
       "  'ветеринарный фельдшер',\n",
       "  'Ветеринарный врач отделения',\n",
       "  'Стажер ветеринарного врача',\n",
       "  'Ветеринарный врач, Управляюший МТФ',\n",
       "  'Ассистент ветеринарного врача',\n",
       "  'старший ветеринарный врач',\n",
       "  'участковый ветеринарный врач',\n",
       "  'Ветеринарный фельдшер',\n",
       "  'Асистент ветеринарного врача',\n",
       "  'Ветеринарный врач эпизоотолог',\n",
       "  'Ассистент ветеринарного врача ( стажёр)',\n",
       "  'главный ветеринарный врач',\n",
       "  'Ветеринарный врач,Главный ветеринарный врач',\n",
       "  'Помощник ветеринарного врача',\n",
       "  'Ветеринар',\n",
       "  'Менеджер - ветеринарный врач',\n",
       "  'Ветеринарный врач',\n",
       "  'Старший ветеринарный врач',\n",
       "  'Ветеринарный врач откорма',\n",
       "  'Помощник старшего ветеринарного врача',\n",
       "  'Ветеринарный врач-серолог',\n",
       "  'ветеринарный врач',\n",
       "  'Главный ветеринарный врач',\n",
       "  'Помощник главного ветеринарного врача',\n",
       "  'врач ветеринарной медицины',\n",
       "  'Врач ветеринарной медицины',\n",
       "  'Ветеринарный санитар'],\n",
       " ['механизатор-водитель',\n",
       "  'Заведующий машинно-тракторной мастерской',\n",
       "  'Водитель-механик',\n",
       "  'Машинист экскаватора',\n",
       "  'Тракторист-машинист',\n",
       "  'тракторист-машинист',\n",
       "  'Механизатор',\n",
       "  'машинист-металосборочных машин',\n",
       "  'Механик-водитель',\n",
       "  'машинист-тракторист',\n",
       "  'Механизатор-водитель',\n",
       "  'механизатор-эксковаторщик',\n",
       "  'механик наладчик',\n",
       "  'Механик-наладчик',\n",
       "  'Трактоврист-машинист',\n",
       "  'Механизатор - комбайнер',\n",
       "  'Инженер-механик',\n",
       "  'Машинист автокрана,механик',\n",
       "  'механизатор',\n",
       "  'Механизатор, машинист',\n",
       "  'тракторист / техник -механик',\n",
       "  'Автомеханик',\n",
       "  'Тракторист-машинист. Экскаваторщик',\n",
       "  'машинист трактора'],\n",
       " ['Инженер-электрик',\n",
       "  'сервисный инженер',\n",
       "  'инженер',\n",
       "  'Инженер механик ПТО',\n",
       "  'Техник',\n",
       "  'Техник-проотборщик',\n",
       "  'Гл. инженер ,гл. технолог',\n",
       "  'Инженер-эколог',\n",
       "  'Ведущий Инженер',\n",
       "  'ведущий инженер',\n",
       "  'Инженер-технолог',\n",
       "  'Техник-технолог',\n",
       "  'Инженер ОТК',\n",
       "  'Технолог',\n",
       "  'Инженер - конструктор',\n",
       "  'Техник-механик',\n",
       "  'Инженер-электронщик',\n",
       "  'Инженер',\n",
       "  'инженер технического надзора',\n",
       "  'гл.инженер',\n",
       "  'Инженер ПТО',\n",
       "  'Сервисный инженер',\n",
       "  'Техник-осеменатор',\n",
       "  'Главный инженер'],\n",
       " ['агрохимик',\n",
       "  'Заведующий фермами',\n",
       "  'Агроном ',\n",
       "  'агроном',\n",
       "  'Агрохимик',\n",
       "  'Агроном -стажер',\n",
       "  'главный агроном',\n",
       "  'Помощник агронома',\n",
       "  'Гл.агроном',\n",
       "  'Агроном по семеноводству',\n",
       "  'агроном-семеновод',\n",
       "  'помошник агронома',\n",
       "  'Агроном',\n",
       "  'Агроном-семеновод',\n",
       "  'Гл. агроном',\n",
       "  'Ведущий агроном',\n",
       "  'агроном семеновод',\n",
       "  'Агроном семеновод'],\n",
       " ['Гл.зоотехник',\n",
       "  'Старший зоотехник',\n",
       "  'Главный зоотехник',\n",
       "  'гл.зоотехник',\n",
       "  'зоотехник',\n",
       "  'главный зоотехник',\n",
       "  'главный зоотехник,директор',\n",
       "  'Зоотехник',\n",
       "  'Главный зоотехник-селекционер',\n",
       "  'Главный зоотехник по свиноводству',\n",
       "  'Зоотехник,заведующая',\n",
       "  'Помощник зоотехника',\n",
       "  'главный зооветспециалист.'],\n",
       " ['Агроном- семеновод, главный агроном',\n",
       "  'Главный агроном',\n",
       "  'главный агроном, начальник отдела растениеводства',\n",
       "  'главный агрохимик'],\n",
       " ['Станочник',\n",
       "  'Практикант',\n",
       "  'крепильщик',\n",
       "  'Тракторист ',\n",
       "  'Работник',\n",
       "  'Стажер',\n",
       "  'Тракторист',\n",
       "  'Промоутер',\n",
       "  'Кладовщик',\n",
       "  'Сторож',\n",
       "  'Заведующий'],\n",
       " ['механик автоколонны',\n",
       "  'Механик отделения',\n",
       "  'Механик кормоцеха',\n",
       "  'Механик технического оборудования',\n",
       "  'Механик',\n",
       "  'Помощник механика',\n",
       "  'механик отделения',\n",
       "  'механик',\n",
       "  'МЕХАНИЗАТОР']]"
      ]
     },
     "execution_count": 59,
     "metadata": {},
     "output_type": "execute_result"
    }
   ],
   "source": [
    "all_jobs"
   ]
  },
  {
   "cell_type": "code",
   "execution_count": null,
   "id": "fc62465e-314b-40b3-a0b1-cbab7b140ae3",
   "metadata": {},
   "outputs": [],
   "source": []
  },
  {
   "cell_type": "markdown",
   "id": "91e51564-ffab-4861-8a47-f6b256c60517",
   "metadata": {},
   "source": [
    "# References"
   ]
  },
  {
   "cell_type": "markdown",
   "id": "e8d59cb1-eec8-4fdf-bd7e-9e9f05318bb2",
   "metadata": {},
   "source": [
    "1. [Sentence Transformers](https://github.com/UKPLab/sentence-transformers): Multilingual Sentence, Paragraph, and Image Embeddings using BERT & Co.\n",
    "2. [Fast clustering](https://github.com/UKPLab/sentence-transformers/blob/master/examples/applications/clustering/fast_clustering.py) implementation.\n",
    "3. [Rapid fuzzy string matching ](https://github.com/maxbachmann/RapidFuzz) in Python and C++ using the Levenshtein Distance.\n",
    "4. [Gradio](https://www.gradio.app/guides/quickstart)\n",
    "5. [Streamsync](https://www.streamsync.cloud/getting-started.html)\n",
    "6. [head_hunter job positions clustering](https://www.kaggle.com/code/bogdankishchak/head-hunter-job-positions-clustering-in-progress)"
   ]
  },
  {
   "cell_type": "code",
   "execution_count": null,
   "id": "29273b24-3e68-4934-a014-6f6fd5a2dd8f",
   "metadata": {},
   "outputs": [],
   "source": []
  }
 ],
 "metadata": {
  "kernelspec": {
   "display_name": "Python 3 (ipykernel)",
   "language": "python",
   "name": "python3"
  },
  "language_info": {
   "codemirror_mode": {
    "name": "ipython",
    "version": 3
   },
   "file_extension": ".py",
   "mimetype": "text/x-python",
   "name": "python",
   "nbconvert_exporter": "python",
   "pygments_lexer": "ipython3",
   "version": "3.9.2"
  }
 },
 "nbformat": 4,
 "nbformat_minor": 5
}
