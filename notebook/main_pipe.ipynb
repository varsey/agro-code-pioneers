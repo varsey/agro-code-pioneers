{
 "cells": [
  {
   "cell_type": "markdown",
   "id": "c844e984-1744-4f6b-b26f-19c74f3b64fe",
   "metadata": {},
   "source": [
    "# Libs & Settings"
   ]
  },
  {
   "cell_type": "code",
   "execution_count": 1,
   "id": "8a989e9c-1227-4b71-8654-16ef4bc84b65",
   "metadata": {
    "execution": {
     "iopub.execute_input": "2023-11-18T19:04:04.546277Z",
     "iopub.status.busy": "2023-11-18T19:04:04.545548Z",
     "iopub.status.idle": "2023-11-18T19:04:05.194818Z",
     "shell.execute_reply": "2023-11-18T19:04:05.194081Z",
     "shell.execute_reply.started": "2023-11-18T19:04:04.546242Z"
    }
   },
   "outputs": [],
   "source": [
    "import re\n",
    "import sys\n",
    "import time\n",
    "import locale\n",
    "import warnings\n",
    "import numpy as np\n",
    "import pandas as pd\n",
    "from ncls import NCLS\n",
    "from pathlib import Path\n",
    "from tqdm.auto import tqdm\n",
    "from functools import reduce\n",
    "from bs4 import BeautifulSoup\n",
    "from datetime import datetime\n",
    "from typing import Tuple, List, Optional\n",
    "from sentence_transformers import SentenceTransformer, util"
   ]
  },
  {
   "cell_type": "code",
   "execution_count": 2,
   "id": "1325f874-0a71-446e-b9f1-6f322a95f92f",
   "metadata": {
    "execution": {
     "iopub.execute_input": "2023-11-18T19:04:05.197575Z",
     "iopub.status.busy": "2023-11-18T19:04:05.197225Z",
     "iopub.status.idle": "2023-11-18T19:04:05.227253Z",
     "shell.execute_reply": "2023-11-18T19:04:05.226514Z",
     "shell.execute_reply.started": "2023-11-18T19:04:05.197550Z"
    }
   },
   "outputs": [],
   "source": [
    "%load_ext autoreload\n",
    "%autoreload 2"
   ]
  },
  {
   "cell_type": "code",
   "execution_count": 3,
   "id": "5ced97b0-53ee-45a1-872b-b62fe3f0429f",
   "metadata": {
    "execution": {
     "iopub.execute_input": "2023-11-18T19:04:05.240359Z",
     "iopub.status.busy": "2023-11-18T19:04:05.239724Z",
     "iopub.status.idle": "2023-11-18T19:04:05.659058Z",
     "shell.execute_reply": "2023-11-18T19:04:05.658253Z",
     "shell.execute_reply.started": "2023-11-18T19:04:05.240322Z"
    }
   },
   "outputs": [],
   "source": [
    "# Import developer modules.\n",
    "module_path = str(Path.cwd().parent / \"utils\")\n",
    "if module_path not in sys.path:\n",
    "    sys.path.append(module_path)\n",
    "\n",
    "from processing import (\n",
    "    process_time,\n",
    "    count_months,\n",
    "    parse_resume,\n",
    "    hh_job_preparation,\n",
    "    get_job_rank\n",
    ")"
   ]
  },
  {
   "cell_type": "code",
   "execution_count": 4,
   "id": "0f0446ce-8350-4a3a-b10d-b8155b78b0d9",
   "metadata": {
    "execution": {
     "iopub.execute_input": "2023-11-18T19:04:05.660845Z",
     "iopub.status.busy": "2023-11-18T19:04:05.660267Z",
     "iopub.status.idle": "2023-11-18T19:04:05.684766Z",
     "shell.execute_reply": "2023-11-18T19:04:05.683828Z",
     "shell.execute_reply.started": "2023-11-18T19:04:05.660817Z"
    }
   },
   "outputs": [],
   "source": [
    "# Define data folder.\n",
    "data_folder = Path().cwd().parent / 'data'"
   ]
  },
  {
   "cell_type": "markdown",
   "id": "c7124a75-77d5-4e7c-890b-f84b3c1bf7f5",
   "metadata": {},
   "source": [
    "# Parsing Data"
   ]
  },
  {
   "cell_type": "code",
   "execution_count": 7,
   "id": "b4eb7426-a726-4564-9631-d3287aeb9aed",
   "metadata": {
    "execution": {
     "iopub.execute_input": "2023-11-18T19:04:56.526018Z",
     "iopub.status.busy": "2023-11-18T19:04:56.524745Z",
     "iopub.status.idle": "2023-11-18T19:05:40.524426Z",
     "shell.execute_reply": "2023-11-18T19:05:40.523363Z",
     "shell.execute_reply.started": "2023-11-18T19:04:56.525952Z"
    }
   },
   "outputs": [
    {
     "data": {
      "application/vnd.jupyter.widget-view+json": {
       "model_id": "15909b5dcfb749de9ce6f031fba2e88e",
       "version_major": 2,
       "version_minor": 0
      },
      "text/plain": [
       "Read and process resume:   0%|          | 0/1001 [00:00<?, ?it/s]"
      ]
     },
     "metadata": {},
     "output_type": "display_data"
    }
   ],
   "source": [
    "# File path generator.\n",
    "files = data_folder.glob('*.html')\n",
    "# Collect jobs from all resumes.\n",
    "df = reduce(\n",
    "    # Concatenate all dataframes together.\n",
    "    lambda x, y: pd.concat([x, y]),\n",
    "    # Generate a list of dataframes with jobs.\n",
    "    [\n",
    "        pd.DataFrame(\n",
    "            data=parse_resume(\n",
    "                file=file, \n",
    "                user_id=id,\n",
    "                name_process_func=hh_job_preparation # put here string processing function\n",
    "            ),\n",
    "            columns=['user_id', 'month_cnt', 'start_date', 'end_date', 'job_name', 'job_desc']\n",
    "        ) for id, file in enumerate(tqdm(list(files), 'Read and process resume'))\n",
    "    ]\n",
    ")"
   ]
  },
  {
   "cell_type": "code",
   "execution_count": 10,
   "id": "e138a758-bbba-49f2-974e-7e52c98fafde",
   "metadata": {
    "execution": {
     "iopub.execute_input": "2023-11-18T18:49:44.304463Z",
     "iopub.status.busy": "2023-11-18T18:49:44.303990Z",
     "iopub.status.idle": "2023-11-18T18:49:44.369508Z",
     "shell.execute_reply": "2023-11-18T18:49:44.368322Z",
     "shell.execute_reply.started": "2023-11-18T18:49:44.304427Z"
    }
   },
   "outputs": [],
   "source": [
    "# Save data.\n",
    "# df.to_pickle('parsed.pickle')"
   ]
  },
  {
   "cell_type": "markdown",
   "id": "6f037fc6-a84d-48f2-8079-2dd632d3bf43",
   "metadata": {},
   "source": [
    "# Process Data"
   ]
  },
  {
   "cell_type": "code",
   "execution_count": 5,
   "id": "cbc84a57-d741-4434-aa40-c836844354a7",
   "metadata": {
    "execution": {
     "iopub.execute_input": "2023-11-18T19:04:08.473783Z",
     "iopub.status.busy": "2023-11-18T19:04:08.473333Z",
     "iopub.status.idle": "2023-11-18T19:04:08.573332Z",
     "shell.execute_reply": "2023-11-18T19:04:08.571941Z",
     "shell.execute_reply.started": "2023-11-18T19:04:08.473751Z"
    }
   },
   "outputs": [],
   "source": [
    "# Load data.\n",
    "# df = pd.read_pickle('parsed.pickle')"
   ]
  },
  {
   "cell_type": "code",
   "execution_count": 8,
   "id": "04a1af59-9950-4db7-9757-c1e894807b97",
   "metadata": {
    "execution": {
     "iopub.execute_input": "2023-11-18T19:05:46.104261Z",
     "iopub.status.busy": "2023-11-18T19:05:46.103501Z",
     "iopub.status.idle": "2023-11-18T19:05:51.435193Z",
     "shell.execute_reply": "2023-11-18T19:05:51.434116Z",
     "shell.execute_reply.started": "2023-11-18T19:05:46.104223Z"
    }
   },
   "outputs": [
    {
     "data": {
      "application/vnd.jupyter.widget-view+json": {
       "model_id": "4ce7c72ba32947a7b6359faa0df64905",
       "version_major": 2,
       "version_minor": 0
      },
      "text/plain": [
       "Processing users:   0%|          | 0/1001 [00:00<?, ?it/s]"
      ]
     },
     "metadata": {},
     "output_type": "display_data"
    }
   ],
   "source": [
    "df_rank = get_job_rank(df=df)"
   ]
  },
  {
   "cell_type": "code",
   "execution_count": 9,
   "id": "c0698a44-d7d7-449f-87ac-375dfd8b5eaf",
   "metadata": {
    "execution": {
     "iopub.execute_input": "2023-11-18T19:05:58.175798Z",
     "iopub.status.busy": "2023-11-18T19:05:58.175263Z",
     "iopub.status.idle": "2023-11-18T19:05:58.224561Z",
     "shell.execute_reply": "2023-11-18T19:05:58.223762Z",
     "shell.execute_reply.started": "2023-11-18T19:05:58.175759Z"
    }
   },
   "outputs": [
    {
     "data": {
      "text/html": [
       "<div>\n",
       "<style scoped>\n",
       "    .dataframe tbody tr th:only-of-type {\n",
       "        vertical-align: middle;\n",
       "    }\n",
       "\n",
       "    .dataframe tbody tr th {\n",
       "        vertical-align: top;\n",
       "    }\n",
       "\n",
       "    .dataframe thead th {\n",
       "        text-align: right;\n",
       "    }\n",
       "</style>\n",
       "<table border=\"1\" class=\"dataframe\">\n",
       "  <thead>\n",
       "    <tr style=\"text-align: right;\">\n",
       "      <th></th>\n",
       "      <th>user_id</th>\n",
       "      <th>month_cnt</th>\n",
       "      <th>start_date</th>\n",
       "      <th>end_date</th>\n",
       "      <th>job_name</th>\n",
       "      <th>job_desc</th>\n",
       "      <th>job_level_simple</th>\n",
       "      <th>job_level_intersect</th>\n",
       "    </tr>\n",
       "  </thead>\n",
       "  <tbody>\n",
       "    <tr>\n",
       "      <th>0</th>\n",
       "      <td>0</td>\n",
       "      <td>68</td>\n",
       "      <td>2018-04-01</td>\n",
       "      <td>-1</td>\n",
       "      <td>специалист сервисно-монтажной службы</td>\n",
       "      <td>Сборка, ремонт устройств селскохозяйственного ...</td>\n",
       "      <td>9</td>\n",
       "      <td>7</td>\n",
       "    </tr>\n",
       "    <tr>\n",
       "      <th>1</th>\n",
       "      <td>0</td>\n",
       "      <td>8</td>\n",
       "      <td>2017-09-01</td>\n",
       "      <td>2018-04-01</td>\n",
       "      <td>менеджер</td>\n",
       "      <td>Совершение холодных звонков, поиск клиентов, з...</td>\n",
       "      <td>8</td>\n",
       "      <td>6</td>\n",
       "    </tr>\n",
       "    <tr>\n",
       "      <th>2</th>\n",
       "      <td>0</td>\n",
       "      <td>3</td>\n",
       "      <td>2016-08-01</td>\n",
       "      <td>2016-10-01</td>\n",
       "      <td>продавец-консультант</td>\n",
       "      <td>Консультирование и обслуживание покупателей.\\n...</td>\n",
       "      <td>7</td>\n",
       "      <td>5</td>\n",
       "    </tr>\n",
       "    <tr>\n",
       "      <th>3</th>\n",
       "      <td>0</td>\n",
       "      <td>12</td>\n",
       "      <td>2015-08-01</td>\n",
       "      <td>2016-07-01</td>\n",
       "      <td>менеджер товароучета и хранения</td>\n",
       "      <td>Работа с клиентами, обработка заявок в програм...</td>\n",
       "      <td>6</td>\n",
       "      <td>4</td>\n",
       "    </tr>\n",
       "    <tr>\n",
       "      <th>4</th>\n",
       "      <td>0</td>\n",
       "      <td>6</td>\n",
       "      <td>2013-11-01</td>\n",
       "      <td>2014-04-01</td>\n",
       "      <td>заведующий складом в магазине одежды</td>\n",
       "      <td>Руководство работой склада по приему, хранению...</td>\n",
       "      <td>5</td>\n",
       "      <td>3</td>\n",
       "    </tr>\n",
       "  </tbody>\n",
       "</table>\n",
       "</div>"
      ],
      "text/plain": [
       "  user_id month_cnt  start_date    end_date  \\\n",
       "0       0        68  2018-04-01          -1   \n",
       "1       0         8  2017-09-01  2018-04-01   \n",
       "2       0         3  2016-08-01  2016-10-01   \n",
       "3       0        12  2015-08-01  2016-07-01   \n",
       "4       0         6  2013-11-01  2014-04-01   \n",
       "\n",
       "                               job_name  \\\n",
       "0  специалист сервисно-монтажной службы   \n",
       "1                              менеджер   \n",
       "2                  продавец-консультант   \n",
       "3       менеджер товароучета и хранения   \n",
       "4  заведующий складом в магазине одежды   \n",
       "\n",
       "                                            job_desc  job_level_simple  \\\n",
       "0  Сборка, ремонт устройств селскохозяйственного ...                 9   \n",
       "1  Совершение холодных звонков, поиск клиентов, з...                 8   \n",
       "2  Консультирование и обслуживание покупателей.\\n...                 7   \n",
       "3  Работа с клиентами, обработка заявок в програм...                 6   \n",
       "4  Руководство работой склада по приему, хранению...                 5   \n",
       "\n",
       "   job_level_intersect  \n",
       "0                    7  \n",
       "1                    6  \n",
       "2                    5  \n",
       "3                    4  \n",
       "4                    3  "
      ]
     },
     "execution_count": 9,
     "metadata": {},
     "output_type": "execute_result"
    }
   ],
   "source": [
    "df_rank.head()"
   ]
  },
  {
   "cell_type": "markdown",
   "id": "b8c412cc-e04c-4bc3-90f5-68dfe31b4c03",
   "metadata": {},
   "source": [
    "# Clusterization"
   ]
  },
  {
   "cell_type": "code",
   "execution_count": 12,
   "id": "5441ee4b-7c52-4b0e-9f46-616984244f7e",
   "metadata": {
    "execution": {
     "iopub.execute_input": "2023-11-18T19:33:45.674822Z",
     "iopub.status.busy": "2023-11-18T19:33:45.674193Z",
     "iopub.status.idle": "2023-11-18T19:34:44.531748Z",
     "shell.execute_reply": "2023-11-18T19:34:44.530967Z",
     "shell.execute_reply.started": "2023-11-18T19:33:45.674779Z"
    }
   },
   "outputs": [
    {
     "data": {
      "application/vnd.jupyter.widget-view+json": {
       "model_id": "358e830f73014bff87ecc025445f9405",
       "version_major": 2,
       "version_minor": 0
      },
      "text/plain": [
       ".gitattributes:   0%|          | 0.00/690 [00:00<?, ?B/s]"
      ]
     },
     "metadata": {},
     "output_type": "display_data"
    },
    {
     "data": {
      "application/vnd.jupyter.widget-view+json": {
       "model_id": "cf6bac0d0680474cbb8651323d97b66e",
       "version_major": 2,
       "version_minor": 0
      },
      "text/plain": [
       "1_Pooling/config.json:   0%|          | 0.00/190 [00:00<?, ?B/s]"
      ]
     },
     "metadata": {},
     "output_type": "display_data"
    },
    {
     "data": {
      "application/vnd.jupyter.widget-view+json": {
       "model_id": "496aea5851804f2c96b0ba2fe53e1c0b",
       "version_major": 2,
       "version_minor": 0
      },
      "text/plain": [
       "2_Dense/config.json:   0%|          | 0.00/114 [00:00<?, ?B/s]"
      ]
     },
     "metadata": {},
     "output_type": "display_data"
    },
    {
     "data": {
      "application/vnd.jupyter.widget-view+json": {
       "model_id": "f0e06459795a45a49f8112d79114f8ed",
       "version_major": 2,
       "version_minor": 0
      },
      "text/plain": [
       "pytorch_model.bin:   0%|          | 0.00/1.58M [00:00<?, ?B/s]"
      ]
     },
     "metadata": {},
     "output_type": "display_data"
    },
    {
     "data": {
      "application/vnd.jupyter.widget-view+json": {
       "model_id": "616e6ca439c8484ab8dc32ac6fe82e8e",
       "version_major": 2,
       "version_minor": 0
      },
      "text/plain": [
       "README.md:   0%|          | 0.00/2.45k [00:00<?, ?B/s]"
      ]
     },
     "metadata": {},
     "output_type": "display_data"
    },
    {
     "data": {
      "application/vnd.jupyter.widget-view+json": {
       "model_id": "3a46d9234d5e40398d60d3a30b2c2a4a",
       "version_major": 2,
       "version_minor": 0
      },
      "text/plain": [
       "config.json:   0%|          | 0.00/556 [00:00<?, ?B/s]"
      ]
     },
     "metadata": {},
     "output_type": "display_data"
    },
    {
     "data": {
      "application/vnd.jupyter.widget-view+json": {
       "model_id": "fab5d62c516543ea8f5aad8a9ba14d0c",
       "version_major": 2,
       "version_minor": 0
      },
      "text/plain": [
       "config_sentence_transformers.json:   0%|          | 0.00/122 [00:00<?, ?B/s]"
      ]
     },
     "metadata": {},
     "output_type": "display_data"
    },
    {
     "data": {
      "application/vnd.jupyter.widget-view+json": {
       "model_id": "05df3223d9e848f3b3b2e7899bafeeb8",
       "version_major": 2,
       "version_minor": 0
      },
      "text/plain": [
       "pytorch_model.bin:   0%|          | 0.00/539M [00:00<?, ?B/s]"
      ]
     },
     "metadata": {},
     "output_type": "display_data"
    },
    {
     "data": {
      "application/vnd.jupyter.widget-view+json": {
       "model_id": "b294f53676ad43da96aaddb5805ce7cd",
       "version_major": 2,
       "version_minor": 0
      },
      "text/plain": [
       "sentence_bert_config.json:   0%|          | 0.00/53.0 [00:00<?, ?B/s]"
      ]
     },
     "metadata": {},
     "output_type": "display_data"
    },
    {
     "data": {
      "application/vnd.jupyter.widget-view+json": {
       "model_id": "3748f448d6e04c46803c8e09def7dffe",
       "version_major": 2,
       "version_minor": 0
      },
      "text/plain": [
       "special_tokens_map.json:   0%|          | 0.00/112 [00:00<?, ?B/s]"
      ]
     },
     "metadata": {},
     "output_type": "display_data"
    },
    {
     "data": {
      "application/vnd.jupyter.widget-view+json": {
       "model_id": "8d16c740b319442cab3a3e76c30b751b",
       "version_major": 2,
       "version_minor": 0
      },
      "text/plain": [
       "tokenizer.json:   0%|          | 0.00/1.96M [00:00<?, ?B/s]"
      ]
     },
     "metadata": {},
     "output_type": "display_data"
    },
    {
     "data": {
      "application/vnd.jupyter.widget-view+json": {
       "model_id": "7cb3a3bf6ee14bf39b9dc0a105c3c180",
       "version_major": 2,
       "version_minor": 0
      },
      "text/plain": [
       "tokenizer_config.json:   0%|          | 0.00/452 [00:00<?, ?B/s]"
      ]
     },
     "metadata": {},
     "output_type": "display_data"
    },
    {
     "data": {
      "application/vnd.jupyter.widget-view+json": {
       "model_id": "c06f5291456d4ca284ec0bd0178c12d1",
       "version_major": 2,
       "version_minor": 0
      },
      "text/plain": [
       "vocab.txt:   0%|          | 0.00/996k [00:00<?, ?B/s]"
      ]
     },
     "metadata": {},
     "output_type": "display_data"
    },
    {
     "data": {
      "application/vnd.jupyter.widget-view+json": {
       "model_id": "3a01609c11e14349af573eaa437802cb",
       "version_major": 2,
       "version_minor": 0
      },
      "text/plain": [
       "modules.json:   0%|          | 0.00/341 [00:00<?, ?B/s]"
      ]
     },
     "metadata": {},
     "output_type": "display_data"
    }
   ],
   "source": [
    "# Load model.\n",
    "model = SentenceTransformer('distiluse-base-multilingual-cased-v1')"
   ]
  },
  {
   "cell_type": "code",
   "execution_count": 14,
   "id": "cb9c4e41-714e-4a90-af3a-9e866cfebe0e",
   "metadata": {
    "execution": {
     "iopub.execute_input": "2023-11-18T19:35:01.716328Z",
     "iopub.status.busy": "2023-11-18T19:35:01.715981Z",
     "iopub.status.idle": "2023-11-18T19:35:06.594019Z",
     "shell.execute_reply": "2023-11-18T19:35:06.593233Z",
     "shell.execute_reply.started": "2023-11-18T19:35:01.716305Z"
    }
   },
   "outputs": [
    {
     "name": "stdout",
     "output_type": "stream",
     "text": [
      "Encode the corpus. This might take a while\n"
     ]
    },
    {
     "data": {
      "application/vnd.jupyter.widget-view+json": {
       "model_id": "618d7c5b6e8b411487dd8f553637ca01",
       "version_major": 2,
       "version_minor": 0
      },
      "text/plain": [
       "Batches:   0%|          | 0/18 [00:00<?, ?it/s]"
      ]
     },
     "metadata": {},
     "output_type": "display_data"
    }
   ],
   "source": [
    "# Select level1 job names.\n",
    "corpus_sentences = list(df_rank[df_rank.job_level_intersect == 1].job_name)\n",
    "# Apply encoding.\n",
    "print(\"Encode the corpus. This might take a while\")\n",
    "corpus_embeddings = model.encode(corpus_sentences, batch_size=64, show_progress_bar=True, convert_to_tensor=True)"
   ]
  },
  {
   "cell_type": "code",
   "execution_count": 15,
   "id": "554811a7-43f2-4fde-8bbb-834d3e6805e0",
   "metadata": {
    "execution": {
     "iopub.execute_input": "2023-11-18T19:35:09.013206Z",
     "iopub.status.busy": "2023-11-18T19:35:09.012285Z",
     "iopub.status.idle": "2023-11-18T19:35:09.384675Z",
     "shell.execute_reply": "2023-11-18T19:35:09.383750Z",
     "shell.execute_reply.started": "2023-11-18T19:35:09.013152Z"
    }
   },
   "outputs": [
    {
     "name": "stdout",
     "output_type": "stream",
     "text": [
      "Start clustering\n",
      "Clustering done after 0.29 sec\n",
      "\n",
      "Cluster 1, #143 Elements \n",
      "\t главный ветеринарный врач\n",
      "\t ветеринарный врач\n",
      "\t ветеринарный фельдшер\n",
      "\t ...\n",
      "\t ветеринарный фельдшер\n",
      "\t ветеринарный врач\n",
      "\t главный ветеринарный врач\n",
      "\n",
      "Cluster 2, #119 Elements \n",
      "\t механик\n",
      "\t главный инженер\n",
      "\t инженер\n",
      "\t ...\n",
      "\t инженер-механик\n",
      "\t механик\n",
      "\t инженер-технолог\n",
      "\n",
      "Cluster 3, #100 Elements \n",
      "\t агроном\n",
      "\t агроном\n",
      "\t главный агроном\n",
      "\t ...\n",
      "\t главный агроном\n",
      "\t агроном\n",
      "\t агроном\n",
      "\n",
      "Cluster 4, #54 Elements \n",
      "\t тракторист-машинист\n",
      "\t тракторист-машинист\n",
      "\t тракторист-машинист\n",
      "\t ...\n",
      "\t машинист бульдозерист\n",
      "\t тракторист-машинист\n",
      "\t тракторист-машинист\n",
      "\n",
      "Cluster 5, #53 Elements \n",
      "\t менеджер\n",
      "\t начальник отдела\n",
      "\t директор\n",
      "\t ...\n",
      "\t заместитель директора\n",
      "\t директор\n",
      "\t менеджер\n",
      "\n",
      "Cluster 6, #48 Elements \n",
      "\t главный зоотехник\n",
      "\t главный зоотехник\n",
      "\t главный зоотехник-селекционер\n",
      "\t ...\n",
      "\t зоотехник\n",
      "\t зоотехник\n",
      "\t главный зоотехник-селекционер\n",
      "\n",
      "Cluster 7, #43 Elements \n",
      "\t механик-водитель\n",
      "\t главный механик\n",
      "\t механизатор\n",
      "\t ...\n",
      "\t технолог\n",
      "\t водитель-механик\n",
      "\t механизатор\n",
      "\n",
      "Cluster 8, #31 Elements \n",
      "\t ветврач\n",
      "\t гл\n",
      "\t зам\n",
      "\t ...\n",
      "\t зав\n",
      "\t гл\n",
      "\t слесарь\n"
     ]
    }
   ],
   "source": [
    "# Get clusters\n",
    "print(\"Start clustering\")\n",
    "start_time = time.time()\n",
    "#Two parameters to tune:\n",
    "#min_cluster_size: Only consider cluster that have at least 25 elements\n",
    "#threshold: Consider sentence pairs with a cosine-similarity larger than threshold as similar\n",
    "clusters = util.community_detection(corpus_embeddings, min_community_size=25, threshold=0.75)\n",
    "print(\"Clustering done after {:.2f} sec\".format(time.time() - start_time))\n",
    "\n",
    "#Print for all clusters the top 3 and bottom 3 elements\n",
    "for i, cluster in enumerate(clusters):\n",
    "    print(\"\\nCluster {}, #{} Elements \".format(i+1, len(cluster)))\n",
    "    for sentence_id in cluster[0:3]:\n",
    "        print(\"\\t\", corpus_sentences[sentence_id])\n",
    "    print(\"\\t\", \"...\")\n",
    "    for sentence_id in cluster[-3:]:\n",
    "        print(\"\\t\", corpus_sentences[sentence_id])"
   ]
  },
  {
   "cell_type": "markdown",
   "id": "91e51564-ffab-4861-8a47-f6b256c60517",
   "metadata": {},
   "source": [
    "# References"
   ]
  },
  {
   "cell_type": "markdown",
   "id": "e8d59cb1-eec8-4fdf-bd7e-9e9f05318bb2",
   "metadata": {},
   "source": [
    "1. [Sentence Transformers](https://github.com/UKPLab/sentence-transformers): Multilingual Sentence, Paragraph, and Image Embeddings using BERT & Co.\n",
    "2. [Fast clustering](https://github.com/UKPLab/sentence-transformers/blob/master/examples/applications/clustering/fast_clustering.py) implementation."
   ]
  }
 ],
 "metadata": {
  "kernelspec": {
   "display_name": "Python 3 (ipykernel)",
   "language": "python",
   "name": "python3"
  },
  "language_info": {
   "codemirror_mode": {
    "name": "ipython",
    "version": 3
   },
   "file_extension": ".py",
   "mimetype": "text/x-python",
   "name": "python",
   "nbconvert_exporter": "python",
   "pygments_lexer": "ipython3",
   "version": "3.9.2"
  }
 },
 "nbformat": 4,
 "nbformat_minor": 5
}
