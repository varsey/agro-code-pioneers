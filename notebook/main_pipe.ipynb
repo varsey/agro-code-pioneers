{
 "cells": [
  {
   "cell_type": "markdown",
   "id": "c844e984-1744-4f6b-b26f-19c74f3b64fe",
   "metadata": {},
   "source": [
    "# Libs & Settings"
   ]
  },
  {
   "cell_type": "code",
   "execution_count": 1,
   "id": "8a989e9c-1227-4b71-8654-16ef4bc84b65",
   "metadata": {
    "execution": {
     "iopub.execute_input": "2023-11-18T19:04:04.546277Z",
     "iopub.status.busy": "2023-11-18T19:04:04.545548Z",
     "iopub.status.idle": "2023-11-18T19:04:05.194818Z",
     "shell.execute_reply": "2023-11-18T19:04:05.194081Z",
     "shell.execute_reply.started": "2023-11-18T19:04:04.546242Z"
    }
   },
   "outputs": [],
   "source": [
    "import re\n",
    "import sys\n",
    "import locale\n",
    "import warnings\n",
    "import numpy as np\n",
    "import pandas as pd\n",
    "from ncls import NCLS\n",
    "from pathlib import Path\n",
    "from tqdm.auto import tqdm\n",
    "from functools import reduce\n",
    "from bs4 import BeautifulSoup\n",
    "from datetime import datetime\n",
    "from typing import Tuple, List, Optional"
   ]
  },
  {
   "cell_type": "code",
   "execution_count": 2,
   "id": "1325f874-0a71-446e-b9f1-6f322a95f92f",
   "metadata": {
    "execution": {
     "iopub.execute_input": "2023-11-18T19:04:05.197575Z",
     "iopub.status.busy": "2023-11-18T19:04:05.197225Z",
     "iopub.status.idle": "2023-11-18T19:04:05.227253Z",
     "shell.execute_reply": "2023-11-18T19:04:05.226514Z",
     "shell.execute_reply.started": "2023-11-18T19:04:05.197550Z"
    }
   },
   "outputs": [],
   "source": [
    "%load_ext autoreload\n",
    "%autoreload 2"
   ]
  },
  {
   "cell_type": "code",
   "execution_count": 3,
   "id": "5ced97b0-53ee-45a1-872b-b62fe3f0429f",
   "metadata": {
    "execution": {
     "iopub.execute_input": "2023-11-18T19:04:05.240359Z",
     "iopub.status.busy": "2023-11-18T19:04:05.239724Z",
     "iopub.status.idle": "2023-11-18T19:04:05.659058Z",
     "shell.execute_reply": "2023-11-18T19:04:05.658253Z",
     "shell.execute_reply.started": "2023-11-18T19:04:05.240322Z"
    }
   },
   "outputs": [],
   "source": [
    "# Import developer modules.\n",
    "module_path = str(Path.cwd().parent / \"utils\")\n",
    "if module_path not in sys.path:\n",
    "    sys.path.append(module_path)\n",
    "\n",
    "from processing import (\n",
    "    process_time,\n",
    "    count_months,\n",
    "    parse_resume,\n",
    "    hh_job_preparation,\n",
    "    get_job_rank\n",
    ")"
   ]
  },
  {
   "cell_type": "code",
   "execution_count": 4,
   "id": "0f0446ce-8350-4a3a-b10d-b8155b78b0d9",
   "metadata": {
    "execution": {
     "iopub.execute_input": "2023-11-18T19:04:05.660845Z",
     "iopub.status.busy": "2023-11-18T19:04:05.660267Z",
     "iopub.status.idle": "2023-11-18T19:04:05.684766Z",
     "shell.execute_reply": "2023-11-18T19:04:05.683828Z",
     "shell.execute_reply.started": "2023-11-18T19:04:05.660817Z"
    }
   },
   "outputs": [],
   "source": [
    "# Define data folder.\n",
    "data_folder = Path().cwd().parent / 'data'"
   ]
  },
  {
   "cell_type": "markdown",
   "id": "c7124a75-77d5-4e7c-890b-f84b3c1bf7f5",
   "metadata": {},
   "source": [
    "# Parsing Data"
   ]
  },
  {
   "cell_type": "code",
   "execution_count": 7,
   "id": "b4eb7426-a726-4564-9631-d3287aeb9aed",
   "metadata": {
    "execution": {
     "iopub.execute_input": "2023-11-18T19:04:56.526018Z",
     "iopub.status.busy": "2023-11-18T19:04:56.524745Z",
     "iopub.status.idle": "2023-11-18T19:05:40.524426Z",
     "shell.execute_reply": "2023-11-18T19:05:40.523363Z",
     "shell.execute_reply.started": "2023-11-18T19:04:56.525952Z"
    }
   },
   "outputs": [
    {
     "data": {
      "application/vnd.jupyter.widget-view+json": {
       "model_id": "15909b5dcfb749de9ce6f031fba2e88e",
       "version_major": 2,
       "version_minor": 0
      },
      "text/plain": [
       "Read and process resume:   0%|          | 0/1001 [00:00<?, ?it/s]"
      ]
     },
     "metadata": {},
     "output_type": "display_data"
    }
   ],
   "source": [
    "# File path generator.\n",
    "files = data_folder.glob('*.html')\n",
    "# Collect jobs from all resumes.\n",
    "df = reduce(\n",
    "    # Concatenate all dataframes together.\n",
    "    lambda x, y: pd.concat([x, y]),\n",
    "    # Generate a list of dataframes with jobs.\n",
    "    [\n",
    "        pd.DataFrame(\n",
    "            data=parse_resume(\n",
    "                file=file, \n",
    "                user_id=id,\n",
    "                name_process_func=hh_job_preparation # put here string processing function\n",
    "            ),\n",
    "            columns=['user_id', 'month_cnt', 'start_date', 'end_date', 'job_name', 'job_desc']\n",
    "        ) for id, file in enumerate(tqdm(list(files), 'Read and process resume'))\n",
    "    ]\n",
    ")"
   ]
  },
  {
   "cell_type": "code",
   "execution_count": 10,
   "id": "e138a758-bbba-49f2-974e-7e52c98fafde",
   "metadata": {
    "execution": {
     "iopub.execute_input": "2023-11-18T18:49:44.304463Z",
     "iopub.status.busy": "2023-11-18T18:49:44.303990Z",
     "iopub.status.idle": "2023-11-18T18:49:44.369508Z",
     "shell.execute_reply": "2023-11-18T18:49:44.368322Z",
     "shell.execute_reply.started": "2023-11-18T18:49:44.304427Z"
    }
   },
   "outputs": [],
   "source": [
    "# Save data.\n",
    "# df.to_pickle('parsed.pickle')"
   ]
  },
  {
   "cell_type": "markdown",
   "id": "6f037fc6-a84d-48f2-8079-2dd632d3bf43",
   "metadata": {},
   "source": [
    "# Process Data"
   ]
  },
  {
   "cell_type": "code",
   "execution_count": 5,
   "id": "cbc84a57-d741-4434-aa40-c836844354a7",
   "metadata": {
    "execution": {
     "iopub.execute_input": "2023-11-18T19:04:08.473783Z",
     "iopub.status.busy": "2023-11-18T19:04:08.473333Z",
     "iopub.status.idle": "2023-11-18T19:04:08.573332Z",
     "shell.execute_reply": "2023-11-18T19:04:08.571941Z",
     "shell.execute_reply.started": "2023-11-18T19:04:08.473751Z"
    }
   },
   "outputs": [],
   "source": [
    "# Load data.\n",
    "# df = pd.read_pickle('parsed.pickle')"
   ]
  },
  {
   "cell_type": "code",
   "execution_count": 8,
   "id": "04a1af59-9950-4db7-9757-c1e894807b97",
   "metadata": {
    "execution": {
     "iopub.execute_input": "2023-11-18T19:05:46.104261Z",
     "iopub.status.busy": "2023-11-18T19:05:46.103501Z",
     "iopub.status.idle": "2023-11-18T19:05:51.435193Z",
     "shell.execute_reply": "2023-11-18T19:05:51.434116Z",
     "shell.execute_reply.started": "2023-11-18T19:05:46.104223Z"
    }
   },
   "outputs": [
    {
     "data": {
      "application/vnd.jupyter.widget-view+json": {
       "model_id": "4ce7c72ba32947a7b6359faa0df64905",
       "version_major": 2,
       "version_minor": 0
      },
      "text/plain": [
       "Processing users:   0%|          | 0/1001 [00:00<?, ?it/s]"
      ]
     },
     "metadata": {},
     "output_type": "display_data"
    }
   ],
   "source": [
    "df_rank = get_job_rank(df=df)"
   ]
  },
  {
   "cell_type": "code",
   "execution_count": 9,
   "id": "c0698a44-d7d7-449f-87ac-375dfd8b5eaf",
   "metadata": {
    "execution": {
     "iopub.execute_input": "2023-11-18T19:05:58.175798Z",
     "iopub.status.busy": "2023-11-18T19:05:58.175263Z",
     "iopub.status.idle": "2023-11-18T19:05:58.224561Z",
     "shell.execute_reply": "2023-11-18T19:05:58.223762Z",
     "shell.execute_reply.started": "2023-11-18T19:05:58.175759Z"
    }
   },
   "outputs": [
    {
     "data": {
      "text/html": [
       "<div>\n",
       "<style scoped>\n",
       "    .dataframe tbody tr th:only-of-type {\n",
       "        vertical-align: middle;\n",
       "    }\n",
       "\n",
       "    .dataframe tbody tr th {\n",
       "        vertical-align: top;\n",
       "    }\n",
       "\n",
       "    .dataframe thead th {\n",
       "        text-align: right;\n",
       "    }\n",
       "</style>\n",
       "<table border=\"1\" class=\"dataframe\">\n",
       "  <thead>\n",
       "    <tr style=\"text-align: right;\">\n",
       "      <th></th>\n",
       "      <th>user_id</th>\n",
       "      <th>month_cnt</th>\n",
       "      <th>start_date</th>\n",
       "      <th>end_date</th>\n",
       "      <th>job_name</th>\n",
       "      <th>job_desc</th>\n",
       "      <th>job_level_simple</th>\n",
       "      <th>job_level_intersect</th>\n",
       "    </tr>\n",
       "  </thead>\n",
       "  <tbody>\n",
       "    <tr>\n",
       "      <th>0</th>\n",
       "      <td>0</td>\n",
       "      <td>68</td>\n",
       "      <td>2018-04-01</td>\n",
       "      <td>-1</td>\n",
       "      <td>специалист сервисно-монтажной службы</td>\n",
       "      <td>Сборка, ремонт устройств селскохозяйственного ...</td>\n",
       "      <td>9</td>\n",
       "      <td>7</td>\n",
       "    </tr>\n",
       "    <tr>\n",
       "      <th>1</th>\n",
       "      <td>0</td>\n",
       "      <td>8</td>\n",
       "      <td>2017-09-01</td>\n",
       "      <td>2018-04-01</td>\n",
       "      <td>менеджер</td>\n",
       "      <td>Совершение холодных звонков, поиск клиентов, з...</td>\n",
       "      <td>8</td>\n",
       "      <td>6</td>\n",
       "    </tr>\n",
       "    <tr>\n",
       "      <th>2</th>\n",
       "      <td>0</td>\n",
       "      <td>3</td>\n",
       "      <td>2016-08-01</td>\n",
       "      <td>2016-10-01</td>\n",
       "      <td>продавец-консультант</td>\n",
       "      <td>Консультирование и обслуживание покупателей.\\n...</td>\n",
       "      <td>7</td>\n",
       "      <td>5</td>\n",
       "    </tr>\n",
       "    <tr>\n",
       "      <th>3</th>\n",
       "      <td>0</td>\n",
       "      <td>12</td>\n",
       "      <td>2015-08-01</td>\n",
       "      <td>2016-07-01</td>\n",
       "      <td>менеджер товароучета и хранения</td>\n",
       "      <td>Работа с клиентами, обработка заявок в програм...</td>\n",
       "      <td>6</td>\n",
       "      <td>4</td>\n",
       "    </tr>\n",
       "    <tr>\n",
       "      <th>4</th>\n",
       "      <td>0</td>\n",
       "      <td>6</td>\n",
       "      <td>2013-11-01</td>\n",
       "      <td>2014-04-01</td>\n",
       "      <td>заведующий складом в магазине одежды</td>\n",
       "      <td>Руководство работой склада по приему, хранению...</td>\n",
       "      <td>5</td>\n",
       "      <td>3</td>\n",
       "    </tr>\n",
       "  </tbody>\n",
       "</table>\n",
       "</div>"
      ],
      "text/plain": [
       "  user_id month_cnt  start_date    end_date  \\\n",
       "0       0        68  2018-04-01          -1   \n",
       "1       0         8  2017-09-01  2018-04-01   \n",
       "2       0         3  2016-08-01  2016-10-01   \n",
       "3       0        12  2015-08-01  2016-07-01   \n",
       "4       0         6  2013-11-01  2014-04-01   \n",
       "\n",
       "                               job_name  \\\n",
       "0  специалист сервисно-монтажной службы   \n",
       "1                              менеджер   \n",
       "2                  продавец-консультант   \n",
       "3       менеджер товароучета и хранения   \n",
       "4  заведующий складом в магазине одежды   \n",
       "\n",
       "                                            job_desc  job_level_simple  \\\n",
       "0  Сборка, ремонт устройств селскохозяйственного ...                 9   \n",
       "1  Совершение холодных звонков, поиск клиентов, з...                 8   \n",
       "2  Консультирование и обслуживание покупателей.\\n...                 7   \n",
       "3  Работа с клиентами, обработка заявок в програм...                 6   \n",
       "4  Руководство работой склада по приему, хранению...                 5   \n",
       "\n",
       "   job_level_intersect  \n",
       "0                    7  \n",
       "1                    6  \n",
       "2                    5  \n",
       "3                    4  \n",
       "4                    3  "
      ]
     },
     "execution_count": 9,
     "metadata": {},
     "output_type": "execute_result"
    }
   ],
   "source": [
    "df_rank.head()"
   ]
  },
  {
   "cell_type": "code",
   "execution_count": null,
   "id": "fdd2c4a0-fecf-4d89-bfba-69a58d55e2a5",
   "metadata": {},
   "outputs": [],
   "source": []
  }
 ],
 "metadata": {
  "kernelspec": {
   "display_name": "Python 3 (ipykernel)",
   "language": "python",
   "name": "python3"
  },
  "language_info": {
   "codemirror_mode": {
    "name": "ipython",
    "version": 3
   },
   "file_extension": ".py",
   "mimetype": "text/x-python",
   "name": "python",
   "nbconvert_exporter": "python",
   "pygments_lexer": "ipython3",
   "version": "3.9.2"
  }
 },
 "nbformat": 4,
 "nbformat_minor": 5
}
