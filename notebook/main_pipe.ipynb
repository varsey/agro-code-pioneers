{
 "cells": [
  {
   "cell_type": "markdown",
   "id": "c844e984-1744-4f6b-b26f-19c74f3b64fe",
   "metadata": {},
   "source": [
    "# Libs & Settings"
   ]
  },
  {
   "cell_type": "code",
   "execution_count": 1,
   "id": "8a989e9c-1227-4b71-8654-16ef4bc84b65",
   "metadata": {
    "execution": {
     "iopub.execute_input": "2023-11-19T12:12:04.966618Z",
     "iopub.status.busy": "2023-11-19T12:12:04.966088Z",
     "iopub.status.idle": "2023-11-19T12:12:10.071757Z",
     "shell.execute_reply": "2023-11-19T12:12:10.070683Z",
     "shell.execute_reply.started": "2023-11-19T12:12:04.966590Z"
    }
   },
   "outputs": [],
   "source": [
    "import re\n",
    "import sys\n",
    "import time\n",
    "import locale\n",
    "import warnings\n",
    "import numpy as np\n",
    "import pandas as pd\n",
    "from ncls import NCLS\n",
    "from pathlib import Path\n",
    "from rapidfuzz import fuzz\n",
    "from tqdm.auto import tqdm\n",
    "from functools import reduce\n",
    "from bs4 import BeautifulSoup\n",
    "from datetime import datetime\n",
    "from typing import Tuple, List, Optional\n",
    "from sentence_transformers import SentenceTransformer, util"
   ]
  },
  {
   "cell_type": "code",
   "execution_count": 2,
   "id": "1325f874-0a71-446e-b9f1-6f322a95f92f",
   "metadata": {
    "execution": {
     "iopub.execute_input": "2023-11-19T12:12:10.074611Z",
     "iopub.status.busy": "2023-11-19T12:12:10.074149Z",
     "iopub.status.idle": "2023-11-19T12:12:10.147715Z",
     "shell.execute_reply": "2023-11-19T12:12:10.147048Z",
     "shell.execute_reply.started": "2023-11-19T12:12:10.074584Z"
    }
   },
   "outputs": [],
   "source": [
    "%load_ext autoreload\n",
    "%autoreload 2"
   ]
  },
  {
   "cell_type": "code",
   "execution_count": 3,
   "id": "5ced97b0-53ee-45a1-872b-b62fe3f0429f",
   "metadata": {
    "execution": {
     "iopub.execute_input": "2023-11-19T12:12:10.149535Z",
     "iopub.status.busy": "2023-11-19T12:12:10.148632Z",
     "iopub.status.idle": "2023-11-19T12:12:10.212778Z",
     "shell.execute_reply": "2023-11-19T12:12:10.212061Z",
     "shell.execute_reply.started": "2023-11-19T12:12:10.149509Z"
    }
   },
   "outputs": [],
   "source": [
    "# Import developer modules.\n",
    "module_path = str(Path.cwd().parent / \"utils\")\n",
    "if module_path not in sys.path:\n",
    "    sys.path.append(module_path)\n",
    "\n",
    "from processing import (\n",
    "    process_time,\n",
    "    count_months,\n",
    "    parse_resume,\n",
    "    hh_job_preparation,\n",
    "    get_job_rank\n",
    ")"
   ]
  },
  {
   "cell_type": "code",
   "execution_count": 4,
   "id": "0f0446ce-8350-4a3a-b10d-b8155b78b0d9",
   "metadata": {
    "execution": {
     "iopub.execute_input": "2023-11-19T12:12:10.214238Z",
     "iopub.status.busy": "2023-11-19T12:12:10.213856Z",
     "iopub.status.idle": "2023-11-19T12:12:10.275334Z",
     "shell.execute_reply": "2023-11-19T12:12:10.274114Z",
     "shell.execute_reply.started": "2023-11-19T12:12:10.214208Z"
    }
   },
   "outputs": [],
   "source": [
    "# Define data folder.\n",
    "data_folder = Path().cwd().parent / 'data'"
   ]
  },
  {
   "cell_type": "markdown",
   "id": "c7124a75-77d5-4e7c-890b-f84b3c1bf7f5",
   "metadata": {},
   "source": [
    "# Parsing Data"
   ]
  },
  {
   "cell_type": "code",
   "execution_count": 5,
   "id": "b4eb7426-a726-4564-9631-d3287aeb9aed",
   "metadata": {
    "execution": {
     "iopub.execute_input": "2023-11-19T12:12:10.280592Z",
     "iopub.status.busy": "2023-11-19T12:12:10.280295Z",
     "iopub.status.idle": "2023-11-19T12:12:56.705955Z",
     "shell.execute_reply": "2023-11-19T12:12:56.705100Z",
     "shell.execute_reply.started": "2023-11-19T12:12:10.280572Z"
    }
   },
   "outputs": [
    {
     "data": {
      "application/vnd.jupyter.widget-view+json": {
       "model_id": "cd766642b0b54290819b949515dc2820",
       "version_major": 2,
       "version_minor": 0
      },
      "text/plain": [
       "Read and process resume:   0%|          | 0/1001 [00:00<?, ?it/s]"
      ]
     },
     "metadata": {},
     "output_type": "display_data"
    }
   ],
   "source": [
    "# File path generator.\n",
    "files = data_folder.glob('*.html')\n",
    "# Collect jobs from all resumes.\n",
    "df = reduce(\n",
    "    # Concatenate all dataframes together.\n",
    "    lambda x, y: pd.concat([x, y]),\n",
    "    # Generate a list of dataframes with jobs.\n",
    "    [\n",
    "        pd.DataFrame(\n",
    "            data=parse_resume(\n",
    "                file=file, \n",
    "                user_id=id,\n",
    "                name_process_func=hh_job_preparation # put here string processing function\n",
    "            ),\n",
    "            columns=['user_id', 'month_cnt', 'start_date', 'end_date', 'job_name', 'job_desc']\n",
    "        ) for id, file in enumerate(tqdm(list(files), 'Read and process resume'))\n",
    "    ]\n",
    ")"
   ]
  },
  {
   "cell_type": "code",
   "execution_count": 6,
   "id": "e138a758-bbba-49f2-974e-7e52c98fafde",
   "metadata": {
    "execution": {
     "iopub.execute_input": "2023-11-19T12:21:59.168165Z",
     "iopub.status.busy": "2023-11-19T12:21:59.167646Z",
     "iopub.status.idle": "2023-11-19T12:21:59.270371Z",
     "shell.execute_reply": "2023-11-19T12:21:59.268273Z",
     "shell.execute_reply.started": "2023-11-19T12:21:59.168131Z"
    }
   },
   "outputs": [],
   "source": [
    "# Save data.\n",
    "# df.to_pickle('parsed.pickle')"
   ]
  },
  {
   "cell_type": "markdown",
   "id": "6f037fc6-a84d-48f2-8079-2dd632d3bf43",
   "metadata": {},
   "source": [
    "# Process Data"
   ]
  },
  {
   "cell_type": "code",
   "execution_count": 7,
   "id": "cbc84a57-d741-4434-aa40-c836844354a7",
   "metadata": {
    "execution": {
     "iopub.execute_input": "2023-11-19T12:22:00.325123Z",
     "iopub.status.busy": "2023-11-19T12:22:00.324640Z",
     "iopub.status.idle": "2023-11-19T12:22:00.405121Z",
     "shell.execute_reply": "2023-11-19T12:22:00.403660Z",
     "shell.execute_reply.started": "2023-11-19T12:22:00.325099Z"
    }
   },
   "outputs": [],
   "source": [
    "# Load data.\n",
    "# df = pd.read_pickle('parsed.pickle')"
   ]
  },
  {
   "cell_type": "code",
   "execution_count": 8,
   "id": "04a1af59-9950-4db7-9757-c1e894807b97",
   "metadata": {
    "execution": {
     "iopub.execute_input": "2023-11-19T12:22:00.583166Z",
     "iopub.status.busy": "2023-11-19T12:22:00.582773Z",
     "iopub.status.idle": "2023-11-19T12:22:06.930854Z",
     "shell.execute_reply": "2023-11-19T12:22:06.930157Z",
     "shell.execute_reply.started": "2023-11-19T12:22:00.583138Z"
    }
   },
   "outputs": [
    {
     "data": {
      "application/vnd.jupyter.widget-view+json": {
       "model_id": "c5cfaf91a98948ee865d301dbcff4044",
       "version_major": 2,
       "version_minor": 0
      },
      "text/plain": [
       "Processing users:   0%|          | 0/1001 [00:00<?, ?it/s]"
      ]
     },
     "metadata": {},
     "output_type": "display_data"
    }
   ],
   "source": [
    "df_rank = get_job_rank(df=df)"
   ]
  },
  {
   "cell_type": "code",
   "execution_count": 9,
   "id": "c0698a44-d7d7-449f-87ac-375dfd8b5eaf",
   "metadata": {
    "execution": {
     "iopub.execute_input": "2023-11-19T12:22:06.932716Z",
     "iopub.status.busy": "2023-11-19T12:22:06.932410Z",
     "iopub.status.idle": "2023-11-19T12:22:07.018202Z",
     "shell.execute_reply": "2023-11-19T12:22:07.016909Z",
     "shell.execute_reply.started": "2023-11-19T12:22:06.932694Z"
    }
   },
   "outputs": [
    {
     "data": {
      "text/html": [
       "<div>\n",
       "<style scoped>\n",
       "    .dataframe tbody tr th:only-of-type {\n",
       "        vertical-align: middle;\n",
       "    }\n",
       "\n",
       "    .dataframe tbody tr th {\n",
       "        vertical-align: top;\n",
       "    }\n",
       "\n",
       "    .dataframe thead th {\n",
       "        text-align: right;\n",
       "    }\n",
       "</style>\n",
       "<table border=\"1\" class=\"dataframe\">\n",
       "  <thead>\n",
       "    <tr style=\"text-align: right;\">\n",
       "      <th></th>\n",
       "      <th>user_id</th>\n",
       "      <th>month_cnt</th>\n",
       "      <th>start_date</th>\n",
       "      <th>end_date</th>\n",
       "      <th>job_name</th>\n",
       "      <th>job_desc</th>\n",
       "      <th>job_level_simple</th>\n",
       "      <th>job_level_intersect</th>\n",
       "    </tr>\n",
       "  </thead>\n",
       "  <tbody>\n",
       "    <tr>\n",
       "      <th>0</th>\n",
       "      <td>0</td>\n",
       "      <td>68</td>\n",
       "      <td>2018-04-01</td>\n",
       "      <td>-1</td>\n",
       "      <td>специалист сервисно-монтажной службы</td>\n",
       "      <td>Сборка, ремонт устройств селскохозяйственного ...</td>\n",
       "      <td>9</td>\n",
       "      <td>7</td>\n",
       "    </tr>\n",
       "    <tr>\n",
       "      <th>1</th>\n",
       "      <td>0</td>\n",
       "      <td>8</td>\n",
       "      <td>2017-09-01</td>\n",
       "      <td>2018-04-01</td>\n",
       "      <td>менеджер</td>\n",
       "      <td>Совершение холодных звонков, поиск клиентов, з...</td>\n",
       "      <td>8</td>\n",
       "      <td>6</td>\n",
       "    </tr>\n",
       "    <tr>\n",
       "      <th>2</th>\n",
       "      <td>0</td>\n",
       "      <td>3</td>\n",
       "      <td>2016-08-01</td>\n",
       "      <td>2016-10-01</td>\n",
       "      <td>продавец-консультант</td>\n",
       "      <td>Консультирование и обслуживание покупателей.\\n...</td>\n",
       "      <td>7</td>\n",
       "      <td>5</td>\n",
       "    </tr>\n",
       "    <tr>\n",
       "      <th>3</th>\n",
       "      <td>0</td>\n",
       "      <td>12</td>\n",
       "      <td>2015-08-01</td>\n",
       "      <td>2016-07-01</td>\n",
       "      <td>менеджер товароучета и хранения</td>\n",
       "      <td>Работа с клиентами, обработка заявок в програм...</td>\n",
       "      <td>6</td>\n",
       "      <td>4</td>\n",
       "    </tr>\n",
       "    <tr>\n",
       "      <th>4</th>\n",
       "      <td>0</td>\n",
       "      <td>6</td>\n",
       "      <td>2013-11-01</td>\n",
       "      <td>2014-04-01</td>\n",
       "      <td>заведующий складом в магазине одежды</td>\n",
       "      <td>Руководство работой склада по приему, хранению...</td>\n",
       "      <td>5</td>\n",
       "      <td>3</td>\n",
       "    </tr>\n",
       "  </tbody>\n",
       "</table>\n",
       "</div>"
      ],
      "text/plain": [
       "  user_id month_cnt  start_date    end_date  \\\n",
       "0       0        68  2018-04-01          -1   \n",
       "1       0         8  2017-09-01  2018-04-01   \n",
       "2       0         3  2016-08-01  2016-10-01   \n",
       "3       0        12  2015-08-01  2016-07-01   \n",
       "4       0         6  2013-11-01  2014-04-01   \n",
       "\n",
       "                               job_name  \\\n",
       "0  специалист сервисно-монтажной службы   \n",
       "1                              менеджер   \n",
       "2                  продавец-консультант   \n",
       "3       менеджер товароучета и хранения   \n",
       "4  заведующий складом в магазине одежды   \n",
       "\n",
       "                                            job_desc  job_level_simple  \\\n",
       "0  Сборка, ремонт устройств селскохозяйственного ...                 9   \n",
       "1  Совершение холодных звонков, поиск клиентов, з...                 8   \n",
       "2  Консультирование и обслуживание покупателей.\\n...                 7   \n",
       "3  Работа с клиентами, обработка заявок в програм...                 6   \n",
       "4  Руководство работой склада по приему, хранению...                 5   \n",
       "\n",
       "   job_level_intersect  \n",
       "0                    7  \n",
       "1                    6  \n",
       "2                    5  \n",
       "3                    4  \n",
       "4                    3  "
      ]
     },
     "execution_count": 9,
     "metadata": {},
     "output_type": "execute_result"
    }
   ],
   "source": [
    "df_rank.head()"
   ]
  },
  {
   "cell_type": "markdown",
   "id": "b8c412cc-e04c-4bc3-90f5-68dfe31b4c03",
   "metadata": {},
   "source": [
    "# Clusterization"
   ]
  },
  {
   "cell_type": "code",
   "execution_count": 10,
   "id": "b1a84b79-2127-4fbe-ba16-441bc0ccdcc8",
   "metadata": {
    "execution": {
     "iopub.execute_input": "2023-11-19T12:22:15.536591Z",
     "iopub.status.busy": "2023-11-19T12:22:15.536210Z",
     "iopub.status.idle": "2023-11-19T12:22:15.615128Z",
     "shell.execute_reply": "2023-11-19T12:22:15.614337Z",
     "shell.execute_reply.started": "2023-11-19T12:22:15.536562Z"
    }
   },
   "outputs": [],
   "source": [
    "def clusterize(model: object, job_name_list: list, **kwargs) -> List[list]:\n",
    "    \"\"\"Клсастеризация набора должностей.\"\"\"\n",
    "    # Apply encoding.\n",
    "    print(\"Encode the corpus. This might take a while\")\n",
    "    corpus_embeddings = model.encode(\n",
    "        job_name_list, \n",
    "        batch_size=64, \n",
    "        show_progress_bar=True, \n",
    "        convert_to_tensor=True\n",
    "    )\n",
    "    # Get clusters\n",
    "    print(\"Start clustering\")\n",
    "    start_time = time.time()\n",
    "    #Two parameters to tune:\n",
    "    #min_cluster_size: Only consider cluster that have at least 25 elements\n",
    "    #threshold: Consider sentence pairs with a cosine-similarity larger than threshold as similar\n",
    "    clusters = util.community_detection(corpus_embeddings, **kwargs)\n",
    "    print(\"Clustering done after {:.2f} sec\".format(time.time() - start_time))\n",
    "    return clusters"
   ]
  },
  {
   "cell_type": "code",
   "execution_count": 32,
   "id": "b8fc9ddc-32f6-4610-b8ee-1c41aa4e850a",
   "metadata": {
    "execution": {
     "iopub.execute_input": "2023-11-19T12:37:33.855178Z",
     "iopub.status.busy": "2023-11-19T12:37:33.854574Z",
     "iopub.status.idle": "2023-11-19T12:37:33.957816Z",
     "shell.execute_reply": "2023-11-19T12:37:33.955711Z",
     "shell.execute_reply.started": "2023-11-19T12:37:33.855153Z"
    }
   },
   "outputs": [],
   "source": [
    "def get_clusters(df, model, **kwargs):\n",
    "    \"\"\"Кластеризация по всем уровням позиций\"\"\"\n",
    "    _df_cluster_list = []\n",
    "    with warnings.catch_warnings():\n",
    "        # Irnore pandas warnings.\n",
    "        warnings.filterwarnings(\"ignore\")\n",
    "        for i in df.job_level_intersect.unique():\n",
    "            print('Job level:', i)\n",
    "            # Select level job names.\n",
    "            _df = df[df.job_level_intersect == i].reset_index(drop=True)\n",
    "            job_name_list = list(_df.job_name)\n",
    "            cluster = clusterize(model, job_name_list, **kwargs)\n",
    "            _df['cluster'] = -1\n",
    "            for num, clst in enumerate(cluster):\n",
    "                for idx in clst:\n",
    "                    _df.loc[_df.index == idx, 'cluster'] = f'Cluster_{num}_level{i}'\n",
    "            _df_cluster_list.append(_df)\n",
    "\n",
    "    return reduce(lambda x, y: pd.concat([x, y]), _df_cluster_list), cluster"
   ]
  },
  {
   "cell_type": "code",
   "execution_count": 33,
   "id": "93e049e5-71a0-45ff-8a7e-03cc657bf1e1",
   "metadata": {
    "execution": {
     "iopub.execute_input": "2023-11-19T12:37:34.494411Z",
     "iopub.status.busy": "2023-11-19T12:37:34.494095Z",
     "iopub.status.idle": "2023-11-19T12:37:36.553041Z",
     "shell.execute_reply": "2023-11-19T12:37:36.552161Z",
     "shell.execute_reply.started": "2023-11-19T12:37:34.494389Z"
    }
   },
   "outputs": [],
   "source": [
    "# Load model.\n",
    "model = SentenceTransformer('distiluse-base-multilingual-cased-v1')"
   ]
  },
  {
   "cell_type": "code",
   "execution_count": 38,
   "id": "bdc73af6-e4fd-4f67-8597-48776a64b67e",
   "metadata": {
    "execution": {
     "iopub.execute_input": "2023-11-19T12:39:46.648214Z",
     "iopub.status.busy": "2023-11-19T12:39:46.647683Z",
     "iopub.status.idle": "2023-11-19T12:40:12.852770Z",
     "shell.execute_reply": "2023-11-19T12:40:12.851703Z",
     "shell.execute_reply.started": "2023-11-19T12:39:46.648174Z"
    }
   },
   "outputs": [
    {
     "name": "stdout",
     "output_type": "stream",
     "text": [
      "Encode the corpus. This might take a while\n"
     ]
    },
    {
     "data": {
      "application/vnd.jupyter.widget-view+json": {
       "model_id": "e08b9fc149724ede9971e4512904dda6",
       "version_major": 2,
       "version_minor": 0
      },
      "text/plain": [
       "Batches:   0%|          | 0/3 [00:00<?, ?it/s]"
      ]
     },
     "metadata": {},
     "output_type": "display_data"
    },
    {
     "name": "stdout",
     "output_type": "stream",
     "text": [
      "Start clustering\n",
      "Clustering done after 0.01 sec\n",
      "Encode the corpus. This might take a while\n"
     ]
    },
    {
     "data": {
      "application/vnd.jupyter.widget-view+json": {
       "model_id": "19ec10a886fc462a973f596d433164f3",
       "version_major": 2,
       "version_minor": 0
      },
      "text/plain": [
       "Batches:   0%|          | 0/5 [00:00<?, ?it/s]"
      ]
     },
     "metadata": {},
     "output_type": "display_data"
    },
    {
     "name": "stdout",
     "output_type": "stream",
     "text": [
      "Start clustering\n",
      "Clustering done after 0.01 sec\n",
      "Encode the corpus. This might take a while\n"
     ]
    },
    {
     "data": {
      "application/vnd.jupyter.widget-view+json": {
       "model_id": "059c4291eaf3452aa8f79bc8d570d203",
       "version_major": 2,
       "version_minor": 0
      },
      "text/plain": [
       "Batches:   0%|          | 0/6 [00:00<?, ?it/s]"
      ]
     },
     "metadata": {},
     "output_type": "display_data"
    },
    {
     "name": "stdout",
     "output_type": "stream",
     "text": [
      "Start clustering\n",
      "Clustering done after 0.03 sec\n",
      "Encode the corpus. This might take a while\n"
     ]
    },
    {
     "data": {
      "application/vnd.jupyter.widget-view+json": {
       "model_id": "b1b003536aa349b5886d522122d8b334",
       "version_major": 2,
       "version_minor": 0
      },
      "text/plain": [
       "Batches:   0%|          | 0/8 [00:00<?, ?it/s]"
      ]
     },
     "metadata": {},
     "output_type": "display_data"
    },
    {
     "name": "stdout",
     "output_type": "stream",
     "text": [
      "Start clustering\n",
      "Clustering done after 0.08 sec\n",
      "Encode the corpus. This might take a while\n"
     ]
    },
    {
     "data": {
      "application/vnd.jupyter.widget-view+json": {
       "model_id": "f5eee193b9d847aba929d7a47f6cb53a",
       "version_major": 2,
       "version_minor": 0
      },
      "text/plain": [
       "Batches:   0%|          | 0/11 [00:00<?, ?it/s]"
      ]
     },
     "metadata": {},
     "output_type": "display_data"
    },
    {
     "name": "stdout",
     "output_type": "stream",
     "text": [
      "Start clustering\n",
      "Clustering done after 0.12 sec\n",
      "Encode the corpus. This might take a while\n"
     ]
    },
    {
     "data": {
      "application/vnd.jupyter.widget-view+json": {
       "model_id": "d367f0f674dc46edb316624f381d1f17",
       "version_major": 2,
       "version_minor": 0
      },
      "text/plain": [
       "Batches:   0%|          | 0/14 [00:00<?, ?it/s]"
      ]
     },
     "metadata": {},
     "output_type": "display_data"
    },
    {
     "name": "stdout",
     "output_type": "stream",
     "text": [
      "Start clustering\n",
      "Clustering done after 0.14 sec\n",
      "Encode the corpus. This might take a while\n"
     ]
    },
    {
     "data": {
      "application/vnd.jupyter.widget-view+json": {
       "model_id": "3141608deb564c3d9fbacda7f75d31db",
       "version_major": 2,
       "version_minor": 0
      },
      "text/plain": [
       "Batches:   0%|          | 0/18 [00:00<?, ?it/s]"
      ]
     },
     "metadata": {},
     "output_type": "display_data"
    },
    {
     "name": "stdout",
     "output_type": "stream",
     "text": [
      "Start clustering\n",
      "Clustering done after 0.37 sec\n",
      "Encode the corpus. This might take a while\n"
     ]
    },
    {
     "data": {
      "application/vnd.jupyter.widget-view+json": {
       "model_id": "1802d0bcd52b44d297706b4d9eb479aa",
       "version_major": 2,
       "version_minor": 0
      },
      "text/plain": [
       "Batches:   0%|          | 0/2 [00:00<?, ?it/s]"
      ]
     },
     "metadata": {},
     "output_type": "display_data"
    },
    {
     "name": "stdout",
     "output_type": "stream",
     "text": [
      "Start clustering\n",
      "Clustering done after 0.00 sec\n",
      "Encode the corpus. This might take a while\n"
     ]
    },
    {
     "data": {
      "application/vnd.jupyter.widget-view+json": {
       "model_id": "136a665762e648629ba3deaeec378d5c",
       "version_major": 2,
       "version_minor": 0
      },
      "text/plain": [
       "Batches:   0%|          | 0/1 [00:00<?, ?it/s]"
      ]
     },
     "metadata": {},
     "output_type": "display_data"
    },
    {
     "name": "stdout",
     "output_type": "stream",
     "text": [
      "Start clustering\n",
      "Clustering done after 0.00 sec\n",
      "Encode the corpus. This might take a while\n"
     ]
    },
    {
     "data": {
      "application/vnd.jupyter.widget-view+json": {
       "model_id": "488f4d0fbd1f42b98a2a3a2267ea104a",
       "version_major": 2,
       "version_minor": 0
      },
      "text/plain": [
       "Batches:   0%|          | 0/2 [00:00<?, ?it/s]"
      ]
     },
     "metadata": {},
     "output_type": "display_data"
    },
    {
     "name": "stdout",
     "output_type": "stream",
     "text": [
      "Start clustering\n",
      "Clustering done after 0.00 sec\n",
      "Encode the corpus. This might take a while\n"
     ]
    },
    {
     "data": {
      "application/vnd.jupyter.widget-view+json": {
       "model_id": "4bf5e6d2060a4f02a127aa65e1336579",
       "version_major": 2,
       "version_minor": 0
      },
      "text/plain": [
       "Batches:   0%|          | 0/1 [00:00<?, ?it/s]"
      ]
     },
     "metadata": {},
     "output_type": "display_data"
    },
    {
     "name": "stdout",
     "output_type": "stream",
     "text": [
      "Start clustering\n",
      "Clustering done after 0.00 sec\n",
      "Encode the corpus. This might take a while\n"
     ]
    },
    {
     "data": {
      "application/vnd.jupyter.widget-view+json": {
       "model_id": "1592057f0360408eb3c509f4e051a0ad",
       "version_major": 2,
       "version_minor": 0
      },
      "text/plain": [
       "Batches:   0%|          | 0/1 [00:00<?, ?it/s]"
      ]
     },
     "metadata": {},
     "output_type": "display_data"
    },
    {
     "name": "stdout",
     "output_type": "stream",
     "text": [
      "Start clustering\n",
      "Clustering done after 0.00 sec\n",
      "Encode the corpus. This might take a while\n"
     ]
    },
    {
     "data": {
      "application/vnd.jupyter.widget-view+json": {
       "model_id": "c104de84f9f440bead411a945e8acc4f",
       "version_major": 2,
       "version_minor": 0
      },
      "text/plain": [
       "Batches:   0%|          | 0/1 [00:00<?, ?it/s]"
      ]
     },
     "metadata": {},
     "output_type": "display_data"
    },
    {
     "name": "stdout",
     "output_type": "stream",
     "text": [
      "Start clustering\n",
      "Clustering done after 0.00 sec\n",
      "Encode the corpus. This might take a while\n"
     ]
    },
    {
     "data": {
      "application/vnd.jupyter.widget-view+json": {
       "model_id": "6471ee448a51472a891ecc13f3627c00",
       "version_major": 2,
       "version_minor": 0
      },
      "text/plain": [
       "Batches:   0%|          | 0/1 [00:00<?, ?it/s]"
      ]
     },
     "metadata": {},
     "output_type": "display_data"
    },
    {
     "name": "stdout",
     "output_type": "stream",
     "text": [
      "Start clustering\n",
      "Clustering done after 0.00 sec\n",
      "Encode the corpus. This might take a while\n"
     ]
    },
    {
     "data": {
      "application/vnd.jupyter.widget-view+json": {
       "model_id": "9e41fd7619394ff28901ca80634dbf3f",
       "version_major": 2,
       "version_minor": 0
      },
      "text/plain": [
       "Batches:   0%|          | 0/1 [00:00<?, ?it/s]"
      ]
     },
     "metadata": {},
     "output_type": "display_data"
    },
    {
     "name": "stdout",
     "output_type": "stream",
     "text": [
      "Start clustering\n",
      "Clustering done after 0.00 sec\n",
      "Encode the corpus. This might take a while\n"
     ]
    },
    {
     "data": {
      "application/vnd.jupyter.widget-view+json": {
       "model_id": "362c179417de4da090f0db21c1c599d4",
       "version_major": 2,
       "version_minor": 0
      },
      "text/plain": [
       "Batches:   0%|          | 0/1 [00:00<?, ?it/s]"
      ]
     },
     "metadata": {},
     "output_type": "display_data"
    },
    {
     "name": "stdout",
     "output_type": "stream",
     "text": [
      "Start clustering\n",
      "Clustering done after 0.00 sec\n",
      "Encode the corpus. This might take a while\n"
     ]
    },
    {
     "data": {
      "application/vnd.jupyter.widget-view+json": {
       "model_id": "d29cdb5aad5543ec82945727590707c7",
       "version_major": 2,
       "version_minor": 0
      },
      "text/plain": [
       "Batches:   0%|          | 0/1 [00:00<?, ?it/s]"
      ]
     },
     "metadata": {},
     "output_type": "display_data"
    },
    {
     "name": "stdout",
     "output_type": "stream",
     "text": [
      "Start clustering\n",
      "Clustering done after 0.00 sec\n",
      "Encode the corpus. This might take a while\n"
     ]
    },
    {
     "data": {
      "application/vnd.jupyter.widget-view+json": {
       "model_id": "7dc0bba555e64128aaf8a5663c5be8fb",
       "version_major": 2,
       "version_minor": 0
      },
      "text/plain": [
       "Batches:   0%|          | 0/1 [00:00<?, ?it/s]"
      ]
     },
     "metadata": {},
     "output_type": "display_data"
    },
    {
     "name": "stdout",
     "output_type": "stream",
     "text": [
      "Start clustering\n",
      "Clustering done after 0.00 sec\n",
      "Encode the corpus. This might take a while\n"
     ]
    },
    {
     "data": {
      "application/vnd.jupyter.widget-view+json": {
       "model_id": "36c28ccc96c24cf1adb9e89629768ed0",
       "version_major": 2,
       "version_minor": 0
      },
      "text/plain": [
       "Batches:   0%|          | 0/1 [00:00<?, ?it/s]"
      ]
     },
     "metadata": {},
     "output_type": "display_data"
    },
    {
     "name": "stdout",
     "output_type": "stream",
     "text": [
      "Start clustering\n",
      "Clustering done after 0.00 sec\n",
      "Encode the corpus. This might take a while\n"
     ]
    },
    {
     "data": {
      "application/vnd.jupyter.widget-view+json": {
       "model_id": "c0d0b9bef01e4e21be86f9937c922708",
       "version_major": 2,
       "version_minor": 0
      },
      "text/plain": [
       "Batches:   0%|          | 0/1 [00:00<?, ?it/s]"
      ]
     },
     "metadata": {},
     "output_type": "display_data"
    },
    {
     "name": "stdout",
     "output_type": "stream",
     "text": [
      "Start clustering\n",
      "Clustering done after 0.00 sec\n",
      "Encode the corpus. This might take a while\n"
     ]
    },
    {
     "data": {
      "application/vnd.jupyter.widget-view+json": {
       "model_id": "4826fa53723b4a888841180dad798818",
       "version_major": 2,
       "version_minor": 0
      },
      "text/plain": [
       "Batches:   0%|          | 0/1 [00:00<?, ?it/s]"
      ]
     },
     "metadata": {},
     "output_type": "display_data"
    },
    {
     "name": "stdout",
     "output_type": "stream",
     "text": [
      "Start clustering\n",
      "Clustering done after 0.00 sec\n"
     ]
    }
   ],
   "source": [
    "data_cluster, clst = get_clusters(df_rank, model, min_community_size=25, threshold=0.75)"
   ]
  },
  {
   "cell_type": "markdown",
   "id": "428118c5-5409-44be-8cb2-d73aa9ee03d8",
   "metadata": {
    "execution": {
     "iopub.execute_input": "2023-11-18T21:16:39.014199Z",
     "iopub.status.busy": "2023-11-18T21:16:39.013611Z",
     "iopub.status.idle": "2023-11-18T21:16:39.119399Z",
     "shell.execute_reply": "2023-11-18T21:16:39.117836Z",
     "shell.execute_reply.started": "2023-11-18T21:16:39.014156Z"
    }
   },
   "source": [
    "# Cluster summarization"
   ]
  },
  {
   "cell_type": "code",
   "execution_count": 39,
   "id": "83d2e543-2b15-4c60-9c7b-ead0fc4cf7ab",
   "metadata": {
    "execution": {
     "iopub.execute_input": "2023-11-19T12:40:37.482838Z",
     "iopub.status.busy": "2023-11-19T12:40:37.482363Z",
     "iopub.status.idle": "2023-11-19T12:40:37.568973Z",
     "shell.execute_reply": "2023-11-19T12:40:37.568047Z",
     "shell.execute_reply.started": "2023-11-19T12:40:37.482810Z"
    }
   },
   "outputs": [],
   "source": [
    "def compress_jobs(jobs_list, threshold, element=0):\n",
    "    indexes = []\n",
    "    for j in range(element+1, len(jobs_list)):\n",
    "        score = fuzz.token_set_ratio(jobs_list[element], jobs_list[j])\n",
    "        if score >= threshold:\n",
    "            indexes.append(j)\n",
    "    for index in sorted(indexes, reverse=True):\n",
    "        del jobs_list[index]"
   ]
  },
  {
   "cell_type": "code",
   "execution_count": 58,
   "id": "7065c26f-bc63-49ea-9c57-44cda7127303",
   "metadata": {
    "execution": {
     "iopub.execute_input": "2023-11-19T12:46:51.393547Z",
     "iopub.status.busy": "2023-11-19T12:46:51.392968Z",
     "iopub.status.idle": "2023-11-19T12:46:51.485712Z",
     "shell.execute_reply": "2023-11-19T12:46:51.484885Z",
     "shell.execute_reply.started": "2023-11-19T12:46:51.393518Z"
    }
   },
   "outputs": [],
   "source": [
    "# all_jobs['Cluster_0_level1']\n",
    "temp = data_cluster[data_cluster.cluster == 'Cluster_0_level1'].job_name.to_list()"
   ]
  },
  {
   "cell_type": "code",
   "execution_count": 59,
   "id": "c164a43b-c805-47d6-9be2-b6bfe19af1d1",
   "metadata": {
    "execution": {
     "iopub.execute_input": "2023-11-19T12:46:51.706118Z",
     "iopub.status.busy": "2023-11-19T12:46:51.705733Z",
     "iopub.status.idle": "2023-11-19T12:46:51.825233Z",
     "shell.execute_reply": "2023-11-19T12:46:51.823767Z",
     "shell.execute_reply.started": "2023-11-19T12:46:51.706094Z"
    }
   },
   "outputs": [],
   "source": [
    "# TODO: function to iteratively throw away similar jobs\n",
    "compress_jobs(jobs_list=temp, threshold=70, element=0)\n",
    "compress_jobs(jobs_list=temp, threshold=70, element=1)\n",
    "compress_jobs(jobs_list=temp, threshold=70, element=3)"
   ]
  },
  {
   "cell_type": "code",
   "execution_count": 60,
   "id": "fc62465e-314b-40b3-a0b1-cbab7b140ae3",
   "metadata": {
    "execution": {
     "iopub.execute_input": "2023-11-19T12:46:52.086333Z",
     "iopub.status.busy": "2023-11-19T12:46:52.085957Z",
     "iopub.status.idle": "2023-11-19T12:46:52.169385Z",
     "shell.execute_reply": "2023-11-19T12:46:52.168336Z",
     "shell.execute_reply.started": "2023-11-19T12:46:52.086308Z"
    }
   },
   "outputs": [
    {
     "data": {
      "text/plain": [
       "['главный ветеринарный врач',\n",
       " 'стажер ветеринарного врача',\n",
       " 'менеджер-ветеринарный врач',\n",
       " 'врач гениколог',\n",
       " 'ветеринар']"
      ]
     },
     "execution_count": 60,
     "metadata": {},
     "output_type": "execute_result"
    }
   ],
   "source": [
    "temp"
   ]
  },
  {
   "cell_type": "markdown",
   "id": "91e51564-ffab-4861-8a47-f6b256c60517",
   "metadata": {},
   "source": [
    "# References"
   ]
  },
  {
   "cell_type": "markdown",
   "id": "e8d59cb1-eec8-4fdf-bd7e-9e9f05318bb2",
   "metadata": {},
   "source": [
    "1. [Sentence Transformers](https://github.com/UKPLab/sentence-transformers): Multilingual Sentence, Paragraph, and Image Embeddings using BERT & Co.\n",
    "2. [Fast clustering](https://github.com/UKPLab/sentence-transformers/blob/master/examples/applications/clustering/fast_clustering.py) implementation.\n",
    "3. [Rapid fuzzy string matching ](https://github.com/maxbachmann/RapidFuzz) in Python and C++ using the Levenshtein Distance.\n",
    "4. [Gradio](https://www.gradio.app/guides/quickstart)\n",
    "5. [Streamsync](https://www.streamsync.cloud/getting-started.html)\n",
    "6. [head_hunter job positions clustering](https://www.kaggle.com/code/bogdankishchak/head-hunter-job-positions-clustering-in-progress)"
   ]
  },
  {
   "cell_type": "code",
   "execution_count": null,
   "id": "29273b24-3e68-4934-a014-6f6fd5a2dd8f",
   "metadata": {},
   "outputs": [],
   "source": []
  }
 ],
 "metadata": {
  "kernelspec": {
   "display_name": "Python 3 (ipykernel)",
   "language": "python",
   "name": "python3"
  },
  "language_info": {
   "codemirror_mode": {
    "name": "ipython",
    "version": 3
   },
   "file_extension": ".py",
   "mimetype": "text/x-python",
   "name": "python",
   "nbconvert_exporter": "python",
   "pygments_lexer": "ipython3",
   "version": "3.9.2"
  }
 },
 "nbformat": 4,
 "nbformat_minor": 5
}
