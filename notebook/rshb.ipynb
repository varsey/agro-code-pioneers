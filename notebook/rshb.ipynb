{
 "cells": [
  {
   "cell_type": "code",
   "execution_count": 1,
   "id": "53e0bbb1-b83f-42a8-aa6c-28484652ed19",
   "metadata": {
    "ExecuteTime": {
     "end_time": "2023-11-18T11:22:44.033554491Z",
     "start_time": "2023-11-18T11:22:42.951063350Z"
    }
   },
   "outputs": [],
   "source": [
    "import os\n",
    "import pandas as pd\n",
    "from requests_html import HTML\n",
    "\n",
    "import re\n",
    "from pymystem3 import Mystem\n",
    "from sklearn.feature_extraction.text import CountVectorizer\n",
    "from nltk.corpus import stopwords\n",
    "import nltk"
   ]
  },
  {
   "cell_type": "code",
   "execution_count": 31,
   "id": "7811177e-5900-49e1-b243-101e045f7bea",
   "metadata": {
    "ExecuteTime": {
     "end_time": "2023-11-18T11:29:28.135477603Z",
     "start_time": "2023-11-18T11:29:28.131871994Z"
    }
   },
   "outputs": [
    {
     "name": "stderr",
     "output_type": "stream",
     "text": [
      "[nltk_data] Downloading package stopwords to /home/varsey-\n",
      "[nltk_data]     fabuza/nltk_data...\n",
      "[nltk_data]   Package stopwords is already up-to-date!\n"
     ]
    }
   ],
   "source": [
    "m = Mystem()\n",
    "nltk.download('stopwords')\n",
    "stop_words = stopwords.words('russian') + stopwords.words('english')\n",
    "count_vect = CountVectorizer(stop_words=stop_words, ngram_range=(2, 2))"
   ]
  },
  {
   "cell_type": "code",
   "execution_count": 3,
   "id": "a2743bca-97df-4c30-9a34-fa64dfbb5a8f",
   "metadata": {
    "ExecuteTime": {
     "end_time": "2023-11-18T11:22:44.206083594Z",
     "start_time": "2023-11-18T11:22:44.194381198Z"
    }
   },
   "outputs": [],
   "source": [
    "def lemmatize(lst):\n",
    "    for n in range(len(lst)):\n",
    "        lst[n] = m.lemmatize(lst[n])\n",
    "        lst[n] = lst[n][:-1]\n",
    "    return lst"
   ]
  },
  {
   "cell_type": "code",
   "execution_count": 4,
   "id": "cdcb5b71-3553-4def-9021-4a9b8ae71131",
   "metadata": {
    "ExecuteTime": {
     "end_time": "2023-11-18T11:22:44.246158346Z",
     "start_time": "2023-11-18T11:22:44.197843626Z"
    }
   },
   "outputs": [],
   "source": [
    "def clear_text(text):\n",
    "    text = re.sub(r'[^а-яА-ЯёЁa-zA-Z ]', ' ', text)\n",
    "    text = text.split()\n",
    "    return ' '.join(text)"
   ]
  },
  {
   "cell_type": "code",
   "execution_count": 5,
   "id": "9bf7c76c-bb76-45e5-8edd-af80b66f282a",
   "metadata": {
    "ExecuteTime": {
     "end_time": "2023-11-18T11:22:44.612915001Z",
     "start_time": "2023-11-18T11:22:44.608428459Z"
    }
   },
   "outputs": [],
   "source": [
    "global_counter_modify_jobs = 0"
   ]
  },
  {
   "cell_type": "code",
   "execution_count": 6,
   "id": "cfe3b49b-3d39-4503-81e9-b525bd41f84e",
   "metadata": {
    "ExecuteTime": {
     "end_time": "2023-11-18T11:22:45.021368433Z",
     "start_time": "2023-11-18T11:22:45.019924835Z"
    }
   },
   "outputs": [],
   "source": [
    "#функция обработки названий работ из резюме \n",
    "\n",
    "def hh_job_preparation(string):\n",
    "    global global_counter_modify_jobs\n",
    "    \n",
    "    result = string.lower()\n",
    "\n",
    "    temp_string = result\n",
    "\n",
    "    result = result.replace(\"зам. \", \"заместитель \")\n",
    "    result = result.replace(\"нач. \", \"начальник \")\n",
    "    result = result.replace(\"рук. \", \"руководитель \")\n",
    "    result = result.replace(\"ген. \", \"генеральный \")\n",
    "    result = result.replace(\"гендиректор\", \"генеральный директор\")\n",
    "    result = result.replace(\"–\", \"-\")\n",
    "    result = result.replace(\" - \", \"-\")\n",
    "\n",
    "    if (result.find(\"(\")>0 and result.find(\")\")>0):\n",
    "        temp = \"\"\n",
    "        not_closed = False\n",
    "        for i in range(len(result)):\n",
    "            if result[i] == \"(\":\n",
    "                not_closed = True\n",
    "            elif result[i] == \")\":\n",
    "                not_closed = False\n",
    "            else:\n",
    "                if not not_closed:\n",
    "                    temp += result[i]\n",
    "        result = temp\n",
    "\n",
    "    if (result.find(\"«\")>0 and result.find(\"»\")>0):\n",
    "        temp = \"\"\n",
    "        not_closed = False\n",
    "        for i in range(len(result)):\n",
    "            if result[i] == \"«\":\n",
    "                not_closed = True\n",
    "            elif result[i] == \"»\":\n",
    "                not_closed = False\n",
    "            else:\n",
    "                if not not_closed:\n",
    "                    temp += result[i]\n",
    "        result = temp\n",
    "\n",
    "    if (result.find(\",\") > 0) :\n",
    "        result=result.partition(',')[0]\n",
    "\n",
    "    if (result.find(\";\") > 0) :\n",
    "        result=result.partition(';')[0]\n",
    "\n",
    "    if (result.find(\".\") > 0) :\n",
    "        result=result.partition('.')[0]\n",
    "\n",
    "    if (result.find(\"/\") > 0) :\n",
    "        result=result.partition('/')[0]\n",
    "\n",
    "    if (result.find(\" по \") > 0) :\n",
    "        result=result.partition(' по ')[0]\n",
    "\n",
    "\n",
    "    if (result.find(\"начальник \") > -1 or result.find(\"руководитель \") > -1):\n",
    "        if (result.find(\"отдела\") > -1):\n",
    "            result = \"начальник отдела\"\n",
    "        elif (result.find(\"службы\") > -1):\n",
    "            result = \"начальник службы\"\n",
    "        elif (result.find(\"управления\") > -1):\n",
    "            result = \"начальник управления\"\n",
    "        elif (result.find(\"подразделения\") > -1):\n",
    "            result = \"начальник подразделения\"\n",
    "        elif (result.find(\"группы\") > -1):\n",
    "            result = \"начальник группы\"\n",
    "\n",
    "    if (result.find(\"заместитель начальника\") > -1 or result.find(\"заместитель руководителя \") > -1):\n",
    "        if (result.find(\"отдела\") > -1):\n",
    "            result = \"заместитель начальника отдела\"\n",
    "        elif (result.find(\"службы\") > -1):\n",
    "            result = \"заместитель начальника службы\"\n",
    "        elif (result.find(\"управления\") > -1):\n",
    "            result = \"заместитель начальника управления\"\n",
    "        elif (result.find(\"подразделения\") > -1):\n",
    "            result = \"заместитель начальника подразделения\"\n",
    "        elif (result.find(\"группы\") > -1):\n",
    "            result = \"заместитель начальника группы\"\n",
    "\n",
    "    if (result.find(\"developer\") > -1 or result.find(\"programmer\") > -1 ):\n",
    "        result=\"программист\"\n",
    "\n",
    "    if (result.find(\"генеральный директор\") > -1 or result.find(\"programmer\") > -1 ):\n",
    "        result = \"генеральный директор\"\n",
    "\n",
    "    result = result.strip()\n",
    "\n",
    "    if (result != temp_string):\n",
    "        global_counter_modify_jobs += 1\n",
    "\n",
    "\n",
    "    return(result)"
   ]
  },
  {
   "cell_type": "code",
   "execution_count": 7,
   "id": "08e315be-603e-4997-9576-7370bb0918d6",
   "metadata": {
    "ExecuteTime": {
     "end_time": "2023-11-18T11:22:45.379634175Z",
     "start_time": "2023-11-18T11:22:45.376779933Z"
    }
   },
   "outputs": [],
   "source": [
    "#функция обработки временного периода из резюме с hh\n",
    "def hh_time_preparation(string):\n",
    "    # Вариант 1 - Долго работал\n",
    "    # ['Март', '1986', '—', 'Май', '1989', '3', 'года', '3', 'месяца']\n",
    "    # Вариант 2 - Круглые года\n",
    "    # ['Февраль', '2019', '—', 'Январь', '2022', '3', 'года']\n",
    "    # Вариант 3 - Круглые месяцы\n",
    "    # ['Май', '2003', '—', 'Август', '2003', '4', 'месяца']\n",
    "    # Вариант 4 - долго работал и по настоящее время\n",
    "    # ['Июнь', '2020', '—', 'по', 'настоящее', 'время', '2', 'года', '8', 'месяцев']\n",
    "    # Вариант 5 - Круглые года и по настоящее время\n",
    "    # ['Июнь', '2020', '—', 'по', 'настоящее', 'время', '2', 'года']\n",
    "    # Вариант 6 - Круглые месяцы и по настоящее время\n",
    "    # ['Май', '2022', '—', 'по', 'настоящее', 'время', '9', 'месяцев']\n",
    "    word_array = string.split()\n",
    "    months = 0\n",
    "    if ((word_array[4] == \"настоящее\") or (word_array[3] == \"currently\")): \n",
    "        months = 10000\n",
    "    elif (len(word_array) == 9): \n",
    "        months = 12 * int(word_array[5]) + int(word_array[7])\n",
    "    elif word_array[6] in ['месяца', 'месяцев', 'months', 'month']: \n",
    "        months = int(word_array[5])\n",
    "    elif word_array[6] in ['года', 'лет', 'год', 'years', 'year']: \n",
    "        months = 12 * int(word_array[5])\n",
    "    else:\n",
    "        months = 1\n",
    "        print(\"Некорректное резюме, проблема со временем в должности: \"+ str(word_array))\n",
    "    return (int(months))"
   ]
  },
  {
   "cell_type": "code",
   "execution_count": 10,
   "id": "f863e827-1057-4199-85a1-541d9fd494b4",
   "metadata": {
    "ExecuteTime": {
     "end_time": "2023-11-18T11:22:57.394162119Z",
     "start_time": "2023-11-18T11:22:57.389887802Z"
    }
   },
   "outputs": [],
   "source": [
    "data = []"
   ]
  },
  {
   "cell_type": "code",
   "execution_count": 11,
   "id": "cfd0ac17-cfed-4bd6-9baa-96ebd3327fc2",
   "metadata": {
    "ExecuteTime": {
     "end_time": "2023-11-18T11:22:57.581708644Z",
     "start_time": "2023-11-18T11:22:57.573069886Z"
    }
   },
   "outputs": [],
   "source": [
    "def hh_resume_online_parser(input_file, client_id):\n",
    "    resume = HTML(html=input_file)\n",
    "\n",
    "    time = []\n",
    "    job = []\n",
    "    des = []\n",
    "\n",
    "    resume_experience = resume.find('div[data-qa=resume-block-experience]')\n",
    "    resume_experience_len = len(resume_experience)\n",
    "    if (resume_experience_len == 1):\n",
    "        resume_times = resume_experience[0].find('.bloko-column.bloko-column_xs-4.bloko-column_s-2.bloko-column_m-2.bloko-column_l-2')\n",
    "        resume_jobs = resume_experience[0].find('div[data-qa=resume-block-experience-position]')\n",
    "        resume_des = resume_experience[0].find('div[data-qa=resume-block-experience-description]')\n",
    "        for i in range(len(resume_jobs)):  # смотрим места работы\n",
    "            time.append(hh_time_preparation(resume_times[i].text))\n",
    "            job.append(resume_jobs[i].text)\n",
    "            des.append(resume_des[i].text)\n",
    "\n",
    "    elif (resume_experience_len == 0):\n",
    "        print(\"Не удалось открыть резюме\")\n",
    "        return 0\n",
    "    \n",
    "    else:\n",
    "        print(\"Некорректное резюме, количество resume-block-experience = \" + str(resume_experience_len))\n",
    "        return 0\n",
    "\n",
    "    # des = lemmatize(des)\n",
    "    \n",
    "    prof_id = 0\n",
    "    for n in range(len(job)):\n",
    "        data.append([client_id, prof_id, job[n], time[n], des[n]])\n",
    "        prof_id += 1\n",
    "    client_id += 1"
   ]
  },
  {
   "cell_type": "code",
   "execution_count": 11,
   "id": "1ce19eb5-8d69-4a6a-adee-19a8390325a2",
   "metadata": {
    "ExecuteTime": {
     "end_time": "2023-11-18T11:22:58.142078676Z",
     "start_time": "2023-11-18T11:22:58.129651277Z"
    }
   },
   "outputs": [],
   "source": []
  },
  {
   "cell_type": "code",
   "execution_count": 19,
   "id": "e53abba6-246d-4c78-804e-6740bec866e7",
   "metadata": {
    "ExecuteTime": {
     "end_time": "2023-11-18T11:27:04.511809863Z",
     "start_time": "2023-11-18T11:27:04.506876842Z"
    }
   },
   "outputs": [],
   "source": [
    "# files = os.listdir('data\\\\resumes')\n",
    "files = os.listdir(\n",
    "    os.path.abspath(os.path.join(os.getcwd(), os.pardir)) + '/data/resumes'\n",
    ")"
   ]
  },
  {
   "cell_type": "code",
   "execution_count": 20,
   "outputs": [
    {
     "data": {
      "text/plain": "['24d775840002c421fb0039ed1f386c33337735.html',\n '2542d4fd0001ead1ab0039ed1f515030687057.html',\n '2c776cd800028a38d80039ed1f7646436d4e77.html',\n '21947f4f0007fcd3c50039ed1f624344354d58.html',\n '3224bcf400039786160039ed1f6f7745373547.html',\n '44bd436200024053ec0039ed1f774b36584749.html',\n '6813806d0002c9bb970039ed1f557630324b74.html',\n 'bb44d09a0001fa75960039ed1f736d64537632.html',\n 'cf4148ce0002691bae0039ed1f72546c55594d.html',\n '7fb685eb0002c0c4ef0039ed1f5a4f6b683238.html',\n '160558610000c340dc0039ed1f5356614b3039.html',\n 'aa30390800038e8f050039ed1f46685548456d.html',\n 'cd255e9e000026d2020039ed1f736563726574.html',\n 'd14155d900036eb5920039ed1f4e4256644674.html',\n '6b9089c10003d4b3f90039ed1f6c4d6d443632.html',\n '0ff2699d0003971f5b0039ed1f76776c637564.html',\n '0e755fa20002fca7380039ed1f36364d443043.html',\n '6aac52b10006322b710039ed1f685555773142.html',\n 'a4a0c9db00035696f60039ed1f6f4c5666504d.html',\n '6bd2288c0007cc85fd0039ed1f6c6441796232.html',\n '957db86800036915190039ed1f656a387a7634.html',\n '05816d50000632daf70039ed1f365a64725757.html',\n 'acf8b5200002578dce0039ed1f51756a574956.html',\n 'dca4d61f0000b0a9c60039ed1f736563726574.html',\n '9f1792ab0001c4969c0039ed1f456e5479306d.html',\n 'b574265e00015d74cc0039ed1f7a7455464877.html',\n '4fdf709b0002f952190039ed1f7043394d704f.html',\n 'fe1928ec000213a2960039ed1f483741366665.html',\n '8c3d9eaf0002791a5b0039ed1f45667a506c70.html',\n '7b5e911000023738340039ed1f586754576735.html',\n '33b37da10003044d8c0039ed1f4861725a3776.html',\n '9fa6e2f50002971ae70039ed1f646c4b574e53.html',\n '8a3dae77000901906c0039ed1f783559784557.html',\n '7c0742580003ce6caf0039ed1f6d5a62416959.html',\n '9efef8560002413c970039ed1f48477a703843.html',\n 'f584251500032fc7c90039ed1f7349306a7561.html',\n 'ae6acde40003748a570039ed1f4c4c36635630.html',\n 'b64d92a000042d9e8e0039ed1f757756325049.html',\n '11cfaf0400010d01720039ed1f68427642776d.html',\n '7e35a25700037965c90039ed1f3575385a5439.html',\n '95fd627a000222b9080039ed1f436875706978.html',\n '7303dcb70005b1c3fb0039ed1f6a79596b6554.html',\n '6b7f611900016e288c0039ed1f376131667869.html',\n 'b99e6cbf0002a0df070039ed1f6d5979583572.html',\n '0f6fbd56000354dea60039ed1f745248587757.html',\n '92d592d70002a80ed50039ed1f3453547a3854.html',\n '4ae81ed10000d380050039ed1f506572476a50.html',\n '5296851700029fb20d0039ed1f384844345569.html',\n '6bea0b13000332c1af0039ed1f6a785a653344.html',\n '91bda44c0001d8a1850039ed1f776445664b63.html',\n '5d28f7c60002faf68b0039ed1f366a794d6d39.html',\n '8091b8eb0003970d610039ed1f54744f597361.html',\n '26004e8400029003fd0039ed1f425643376568.html',\n '8bcdd0f40002a9692e0039ed1f703143744645.html',\n 'f0d916ba0002efddfd0039ed1f5752634f5569.html',\n '1fdf5cbc00020ffde10039ed1f54576c584e53.html',\n '4162d3bc0001ea88270039ed1f644d724c6643.html',\n '59297b49000351ef880039ed1f467939367531.html',\n 'fe12b16a00088455510039ed1f523561666f30.html',\n '8eba8b5c00032f62bb0039ed1f6a65466c4867.html',\n '14f8413c00014991f80039ed1f536b35355345.html',\n 'adb0c62b00021151260039ed1f754d336b5057.html',\n '083791010002095db20039ed1f695576684374.html',\n '22725f2c00013236ef0039ed1f354342335735.html',\n 'd1e713cd00022246060039ed1f776b4f466e64.html',\n 'caf36b5200028a6fa80039ed1f4c567a326659.html',\n '7435c2b3000221ea730039ed1f4f4d747a3078.html',\n '274331440004719b110039ed1f456354453868.html',\n 'a5b072170007455a590039ed1f486a4c565235.html',\n '7f47b9980005ae24960039ed1f343754594874.html',\n '72514edd00048264470039ed1f42614b353443.html',\n '77a7cac000010dc2360039ed1f56346b6a6872.html',\n '4490df3000024068260039ed1f795447433056.html',\n 'ab3be06e000364505c0039ed1f557364503730.html',\n '320d662100038a5aee0039ed1f536545385370.html',\n '4b4cd2f100039bea5d0039ed1f39716d536430.html',\n 'ab90e8680008d77a960039ed1f55586c635333.html',\n 'de9177e000045915a30039ed1f6d3265595135.html',\n 'a0ccc3010001da68c20039ed1f594b31774231.html',\n '84bee90b000206a6d70039ed1f42716a667053.html',\n '2f0255040001c5b21e0039ed1f3159456a3775.html',\n '3823545f0001cd6cc70039ed1f675738446d50.html',\n '90e189e40002ca61d70039ed1f6d7054486c36.html',\n 'cfc586a3000246a0680039ed1f767263696161.html',\n 'fb7b5df9000202ad3b0039ed1f666b736d4d47.html',\n '15c3e0160002d8a7ed0039ed1f624e6b6f6d54.html',\n '1cc0f2890001f270dd0039ed1f507761507341.html',\n 'd41befca0002bcb0160039ed1f6c4752763845.html',\n '24a7b681000397497c0039ed1f41374d4d434f.html',\n 'dc0647ba00072f5fe30039ed1f383642454361.html',\n '3e1b23c500015293e00039ed1f384975384939.html',\n '5a2de3e900037ca9cb0039ed1f386c37484a78.html',\n '29ba9ea80001df729e0039ed1f5a5658416376.html',\n '386e88520002d3a0aa0039ed1f4a56595a6134.html',\n '25ef88c100027049a90039ed1f4a516e716645.html',\n '38f06a9e00040a5c0f0039ed1f484d4b433564.html',\n '2c03977f00021755e50039ed1f467253724261.html',\n 'dd43915d0007466f610039ed1f353257486179.html',\n '05e4bdcf0002f83acc0039ed1f4d6e626a6c50.html',\n 'f98014c60001cfc83b0039ed1f5a4d4744514d.html',\n 'bc8af7f40002f5b4b80039ed1f345151376637.html',\n '54571e250003f793dc0039ed1f4c4938506576.html',\n 'f99b77360006d69e970039ed1f323539303750.html',\n 'a324aeaf00036820850039ed1f6c5063573055.html',\n '93d5e99d00018c7fdb0039ed1f56625456336b.html',\n '7cdfac5900026251e30039ed1f517138706139.html',\n '5740c6e9000392545c0039ed1f4d6a476f4373.html',\n '4efcd0b700035e5b400039ed1f694175353475.html',\n '5d05ab5000039e4a9a0039ed1f45774a395066.html',\n '23b83c25000216ee3d0039ed1f4e356b335074.html',\n 'fb960afe0001e9fadf0039ed1f49534a454d66.html',\n '61622ef500022614010039ed1f346964704d77.html',\n 'cf90017200076f4a9e0039ed1f63666f763856.html',\n '592bc6e60003493bff0039ed1f514f4f497746.html',\n 'bbe231890003145f590039ed1f534f50636750.html',\n '27c02eab0002e50e740039ed1f5a5643776832.html',\n 'd1f5d5b700023ede030039ed1f476378555949.html',\n '136004310007205f6f0039ed1f4e4e76483751.html',\n '9271e77500020969860039ed1f3374484f3854.html',\n 'b97bd7f40005aca6b80039ed1f686d694c3277.html',\n '5b539b2600026c23d90039ed1f6b7350753443.html',\n '3efb9e8a000897106f0039ed1f4d387764714b.html',\n '0f8022e30002b59a080039ed1f625655797972.html',\n '2305cfa1000356a9510039ed1f567279664b45.html',\n '0e56cbb1000295a8640039ed1f524b574c3156.html',\n '7216d2c60002845d7f0039ed1f43357441784f.html',\n 'fcd5b8c300047ef5f70039ed1f79566459536f.html',\n '71fc11970002d1179b0039ed1f543056794d38.html',\n '652c8443000208876c0039ed1f713162706f71.html',\n 'cd2689eb00039e52950039ed1f59716a303976.html',\n '3c20c2bb00017c8c030039ed1f724873687359.html',\n 'ac369f190002c23a900039ed1f434e354b5831.html',\n '678dca370001832fcd0039ed1f6d4b49666a63.html',\n 'd4568e6a00034de6b10039ed1f506543454d6b.html',\n '0022b6c30002332ae80039ed1f3330306f4c6d.html',\n '155f562600059c9a0f0039ed1f594154476141.html',\n '009c2792000154d6710039ed1f74724b314c43.html',\n '4728b61e0001e17d5b0039ed1f414657397268.html',\n '6f4e5518000212bc800039ed1f7a3737694c4d.html',\n 'b455b7b800061b0c920039ed1f7264734c4f41.html',\n '487ef01e000214f4de0039ed1f503337365632.html',\n '13ffbea30001ec45940039ed1f66784836554f.html',\n '1615c8de00022019bc0039ed1f496c43485177.html',\n 'b02d14d600011f7ecc0039ed1f4b4150345745.html',\n 'db13e99d00039eda2c0039ed1f456a59314f66.html',\n 'a6bcf93800035e2a4c0039ed1f453541773465.html',\n '066bb6da00026becc80039ed1f316d66567074.html',\n '8c3b171a000220b6690039ed1f596e73766652.html',\n 'bbdb92d00003fa37ce0039ed1f4d6459426c39.html',\n 'dc30b54b00015ecd0a0039ed1f48796a514755.html',\n '3082fab1000214383b0039ed1f6c6243516965.html',\n 'bd1565ea00028791960039ed1f695452644146.html',\n '36b85d2400066096b90039ed1f703737483756.html',\n 'a8c7b23a00020508080039ed1f4e4951783932.html',\n 'f1d636c90002e595810039ed1f4d54774e4378.html',\n '4d89814600011088680039ed1f69576f464648.html',\n 'cdeb419e00050c07ae0039ed1f767341617273.html',\n '6830bc9a00024077ca0039ed1f493261754a33.html',\n '891c09c10002ea69500039ed1f4b4f6c316349.html',\n 'ddf3c14900015eda850039ed1f4a5356653775.html',\n '5e7e85c900031a3d740039ed1f776278446a39.html',\n '50da7d530001b66fbe0039ed1f4d3951326e44.html',\n 'faba0de7000343e7360039ed1f4d4d4c526974.html',\n '61ba2a1d00042f3b4e0039ed1f697532685641.html',\n '542bd18400074fde800039ed1f69673167584f.html',\n 'd443fcbd0005c9f67a0039ed1f653748616268.html',\n 'cc9c7d4400021372430039ed1f6f38584e5533.html',\n 'cfed04c6000733a3020039ed1f4c4444445230.html',\n '967a9b7400031533300039ed1f457472454959.html',\n 'd7e4c5b10001d8126a0039ed1f4859684f5977.html',\n 'c49a0fa70003ef1eca0039ed1f36714e523576.html',\n '4b50705500016439630039ed1f584676463662.html',\n 'a730285000079538b10039ed1f736f314d5379.html',\n '8a9824f30001faa9d60039ed1f53317539686d.html',\n '8098bd4b000205c5f70039ed1f6a4e437a4336.html',\n '6d1ec06d0001bba5ce0039ed1f5632357a636f.html',\n '50ddd29d000153d8380039ed1f366b57796f54.html',\n '27c9622600074b5e500039ed1f6d4149753537.html',\n '9d18e6ae0002196b770039ed1f36554f517073.html',\n '5e30aa280002eefe400039ed1f655150504934.html',\n 'c12f644100024352fb0039ed1f793469763451.html',\n '5a9332b30003cc02490039ed1f577756364b38.html',\n 'c59c2ad60002faccb10039ed1f586230394e63.html',\n 'cb7a2dee0001aed8920039ed1f43444a467138.html',\n '596877a700042e530b0039ed1f4942684a494d.html',\n 'f6f5caec00032b5b660039ed1f564357327a56.html',\n '395d90a500037d6efa0039ed1f304775657045.html',\n '86347459000758e0010039ed1f5a5042514371.html',\n 'bf8e779f000428c9610039ed1f347178376277.html',\n '03ca06a7000310882b0039ed1f374a74767a49.html',\n '8e2640ef0001f613780039ed1f455877443450.html',\n '5faa9c5000064857e60039ed1f784161656951.html',\n '8a39ef4e000540bb8e0039ed1f676436676957.html',\n '7d3ac79d0002f880460039ed1f4f52796f4a47.html',\n '5ba410820002419a150039ed1f6130346a5064.html',\n '6b95119e0004618a930039ed1f616244493444.html',\n '8614890500024078110039ed1f534b34416542.html',\n '16befcbc0002059bb20039ed1f4d4930317046.html',\n 'bfab90e60001d6fe130039ed1f783974706438.html',\n '5252ba550001d855e00039ed1f50754e613734.html',\n 'd1a0e55900039edc660039ed1f496e666e4162.html',\n '379636c800031eea150039ed1f7137734c6659.html',\n 'bf94980d0003d2fd080039ed1f503675613169.html',\n 'b13dcfd600015802f80039ed1f413950717464.html',\n '616e32c00003f9cfb80039ed1f356c506d5546.html',\n '595690250008a968870039ed1f4d3434523767.html',\n '0bbffc8d00020b51a00039ed1f4755316e7463.html',\n '557e1cf70002bcf87a0039ed1f517935703563.html',\n '17ad563000015e643c0039ed1f4c4a53594f72.html',\n '9a18521b000256fa9b0039ed1f4d5472753364.html',\n 'd2e7e872000157465e0039ed1f65316f564658.html',\n '77eeff52000305e14b0039ed1f51716c4f6a52.html',\n '78f6e49200016fe9e60039ed1f645142656e30.html',\n '67132432000596385a0039ed1f617466756953.html',\n '37d31b4100038dbbd00039ed1f414756625638.html',\n '75ea30c900020134ab0039ed1f4c7a384f7763.html',\n 'd07673b900059284670039ed1f415774747a32.html',\n '580b2ed700029bddd80039ed1f3970676a6975.html',\n '42296ff70001b15d530039ed1f784637306d6f.html',\n '4fb0f8e9000596a2800039ed1f44704c625435.html',\n 'ff66b9680002708a720039ed1f743936506859.html',\n '62f19dee00022567cb0039ed1f4f764c374b50.html',\n 'bb5d7d030002fc23ef0039ed1f347962616541.html',\n '9b3683be0002acf9b00039ed1f677348443446.html',\n '8cce85970002df3dfc0039ed1f4778586b6343.html',\n '888696220000d6835b0039ed1f585845524e42.html',\n 'cc45ad7000024f67890039ed1f626748556541.html',\n '04c13d360005ca9cfe0039ed1f6451445a7035.html',\n '3af223070002e1cb5a0039ed1f617752494f42.html',\n '473b06600003a269840039ed1f6d4430627343.html',\n '025df5fd00032fe4a90039ed1f44487a346348.html',\n '8dddcc880003ee88f90039ed1f7a6a6c743061.html',\n '33620c4e00022471df0039ed1f585a5a657251.html',\n '1ef244e60000de689f0039ed1f53694c725376.html',\n '93a7f27000025767270039ed1f694873676577.html',\n '2f7f3a4700011e61ee0039ed1f706274713253.html',\n 'fc4851d50001bda8e60039ed1f676c31667275.html',\n '126d32f60005ac50800039ed1f316756515741.html',\n '41ee92d000029993310039ed1f445a4c323932.html',\n 'bbaa2cd2000582ae530039ed1f586f694c4253.html',\n '4ee4166a00023e92db0039ed1f36763847766f.html',\n 'bf3de52a00011afc960039ed1f6b4c50467356.html',\n '240bf3ce0002d019da0039ed1f495731705944.html',\n '2855dfb1000178e4fe0039ed1f4c4969535468.html',\n '45b04320000200134d0039ed1f307941754152.html',\n '38f34f7700040577a30039ed1f634733736d71.html',\n 'a8c9283100072f5b030039ed1f5a4a76455531.html',\n '422e547500039f7e340039ed1f554779427552.html',\n '3f8aa13500016e17050039ed1f727a69486965.html',\n '3a5938960001bd863c0039ed1f4f6f72674432.html',\n 'b7de2085000251b18a0039ed1f666758724375.html',\n '9fc8cd290002066c360039ed1f476a57354951.html',\n 'c635985700016488750039ed1f684371506c61.html',\n 'afb16b8f000220c5f80039ed1f334d6a315645.html',\n '824fb66b000352c2800039ed1f57334570746b.html',\n '5116511000016e5f280039ed1f4764756b6a4b.html',\n 'b42b491c00034fffee0039ed1f336658505244.html',\n '288b9fa600016256740039ed1f564f55676355.html',\n 'ad6609680001347e880039ed1f716261633850.html',\n '881b1c310003cb27de0039ed1f326e33537478.html',\n '6cff7afc00075b225a0039ed1f744d4c364e6d.html',\n '976ef8750001ac7c9d0039ed1f367961523047.html',\n 'c36b7565000338cec70039ed1f43764630586d.html',\n '232d43a300026847ad0039ed1f546372797841.html',\n '14f85ac90001c6cd650039ed1f427374627236.html',\n 'ac7802cb00034baee80039ed1f7a44644e6975.html',\n 'd3e4f06e0003a000540039ed1f434d34587330.html',\n 'a9fa2e9a0001d7fc130039ed1f686133343139.html',\n '20a1d52600058c34ba0039ed1f6b6556447556.html',\n '3338197c0000e262930039ed1f5674354c3671.html',\n 'ce0d74cc00011739480039ed1f6d4d65413862.html',\n '280d31a6000274a9bf0039ed1f54374a34636d.html',\n '2d2cd76800012e69290039ed1f723738736533.html',\n '917dfafe00029e76730039ed1f716956483448.html',\n 'bd171a50000235908a0039ed1f774b6f323148.html',\n '2cf43eab0000f3a8070039ed1f785530383366.html',\n '1641b524000433302f0039ed1f50704b735a42.html',\n '75080e6f00010f7a370039ed1f38434f743032.html',\n '55f0e7d80001428af10039ed1f444c65627672.html',\n '3de610780001e6ce840039ed1f625675376e54.html',\n '3648a7a20002e4fcb30039ed1f66397a335448.html',\n '6c276f7800089fcb310039ed1f304644494c76.html',\n '53d1af810002d754d80039ed1f376e75567457.html',\n '4f5876b60001086a360039ed1f434756627a64.html',\n 'bcd01afb0002f5e50d0039ed1f5354547a4a31.html',\n 'f0958e320005d66c8c0039ed1f673631476472.html',\n '23adcf8000020c30100039ed1f50754c313543.html',\n '7fea3575000868e6da0039ed1f686969625633.html',\n 'b26de59100008183c60039ed1f736563726574.html',\n '93c14c5400031f3c640039ed1f3532544a654d.html',\n 'dd1800f60005aaaaad0039ed1f575652577735.html',\n '0790f1740003cdf2610039ed1f734e75794765.html',\n '3f9d066600028402140039ed1f356c55724469.html',\n '4f423b2f0003a07b9c0039ed1f483156746949.html',\n '7d4f86d40004203e780039ed1f686b58645434.html',\n 'bcef3d03000200f2a10039ed1f4e6e33537343.html',\n '628812cf00021706cb0039ed1f793079574549.html',\n '8a8a40ab00029323b40039ed1f575376573149.html',\n 'b0fec0a900027632fa0039ed1f756f43457a79.html',\n '7d87b41d0002567a170039ed1f6f4f70386f4d.html',\n 'b797cfbf0007853e0b0039ed1f387a746e7157.html',\n '47243b880003487e500039ed1f444379436958.html',\n 'ad354ce50002aaf57c0039ed1f4d3830765035.html',\n '3e308e31000268935e0039ed1f4570706e5439.html',\n '5074e0a400042095500039ed1f72344251444d.html',\n '4b438cb30002ab85610039ed1f69376f765541.html',\n 'f747c6a00007abd9020039ed1f645446506e6d.html',\n '85dc5e3a0003d1faee0039ed1f347a714b5a57.html',\n '8c581f61000662b1930039ed1f4839615a7070.html',\n '3c921a8a0003516c430039ed1f54694f543465.html',\n '8f7f4def0002cc339b0039ed1f744f674a5643.html',\n '3de6a62f00034ea5e80039ed1f74585a4b3546.html',\n '0afec02a0005af39aa0039ed1f646543363746.html',\n '94e8c5900003f252aa0039ed1f44533635624b.html',\n '47c6b82700058a21fb0039ed1f484f79774169.html',\n '157db35700015cdac90039ed1f6c746765774b.html',\n 'a33270bf000735de490039ed1f615163353936.html',\n 'ca604f2b00034c73c40039ed1f5436356a3374.html',\n 'fe96029f0001ac970c0039ed1f4a4471653352.html',\n '96575dde0003361fe10039ed1f747a43457377.html',\n '3736f98f0001536c0a0039ed1f466b43633832.html',\n '7cd3b955000177fe500039ed1f646b466e4e45.html',\n 'a21dba280003d4014c0039ed1f31616b766564.html',\n '161fa74700020963020039ed1f574b426d5241.html',\n 'b5663f8b00039c6e670039ed1f484237787074.html',\n '00abf8fa0003f155f70039ed1f306b3461684d.html',\n '0690bd3700029829da0039ed1f6b6f61377351.html',\n '8473d39800021a07d40039ed1f716b394e3736.html',\n '15d90280000398b9e20039ed1f736d6a7a7653.html',\n '87f2fda500019190510039ed1f515071766f48.html',\n '9e013bb300074314c90039ed1f52336c627632.html',\n '017e5f14000349160f0039ed1f516279474248.html',\n '832cbe460002ea4d6e0039ed1f5877485a4e66.html',\n '1a5ef4f2000432f5660039ed1f494c7a333936.html',\n '409f9fb00003a18c020039ed1f506e67303035.html',\n '51f31ee100026ac6380039ed1f336971645345.html',\n 'f26343c700030263a40039ed1f595a62335769.html',\n '687396190003a5913d0039ed1f7169356e6841.html',\n '992f54e500039f5a7b0039ed1f327261565864.html',\n '3ac7180e0002700f980039ed1f515642637231.html',\n '72327a8d00058304140039ed1f47344c554a6f.html',\n '41721a580003030a240039ed1f4e51314c656f.html',\n 'bc9d9c90000647b79c0039ed1f6c4f507a3671.html',\n 'ab3d04ce0001c43c1f0039ed1f35515a646273.html',\n '5e1dab0d00051ae02e0039ed1f6e457662346d.html',\n '9a751c3d0003f64c840039ed1f6a714462674d.html',\n '9a9ebc220000dfbb000039ed1f6a6f45314c47.html',\n '10b967a300028e47fc0039ed1f337136696f43.html',\n '09e0f08a0002c1e6710039ed1f416f69383564.html',\n 'b9cb704f000217862d0039ed1f4f7073306162.html',\n 'a9c60f2a00030421840039ed1f37534537704f.html',\n '39dbc4010002bdbf7e0039ed1f744d5a326f42.html',\n '6bcfde6500034b55950039ed1f545961636f31.html',\n '381a334d0003551c710039ed1f48625a31446f.html',\n 'bb0650070004f39fc20039ed1f556830357864.html',\n '4db1db0b0003de5fc40039ed1f5a4b524c6d44.html',\n '6603add70003f06b790039ed1f4c5975393343.html',\n '38996ab40003f91dfd0039ed1f425077386143.html',\n 'cb04b50b000268ba3a0039ed1f6c3066713742.html',\n '3216639f0003f687f20039ed1f594b32537067.html',\n '941892c10005cf814e0039ed1f543164476d34.html',\n '6f6fd33c000225684f0039ed1f534c4a303674.html',\n '6c6fe27700024320320039ed1f366353305162.html',\n 'ac57874400075997040039ed1f4437697a4254.html',\n 'a310cd2900032fb1c30039ed1f467753533774.html',\n '0f9e361400038e28a80039ed1f474c6b646e74.html',\n '8c48d3660001a1b6900039ed1f506c68657456.html',\n '16e850410002fee7030039ed1f366a636a6332.html',\n '9b2d9cdd00020e423e0039ed1f6c6d445a6968.html',\n '0f876c3c0002a2ede30039ed1f77634d6d6262.html',\n '686842c300022189ef0039ed1f784a714c4152.html',\n '96227b6700023c062a0039ed1f565a6c52594b.html',\n '3412a820000240ea600039ed1f6c3953444a32.html',\n '79df457f00032319290039ed1f7a6272543649.html',\n '7fb02c270001259c1d0039ed1f454f637a5770.html',\n 'fa79d7c6000248f9730039ed1f756d61503246.html',\n 'd3da39e3000293dea10039ed1f6e4e57726775.html',\n '0bf6746b0003135c6b0039ed1f4a53414c7944.html',\n 'c1dd34cd000211180a0039ed1f7057684c4943.html',\n '2148061300073ff06d0039ed1f4d506a617337.html',\n 'f6edc208000353114d0039ed1f305043515154.html',\n 'ae49df6300040cf6e00039ed1f38485a6d3678.html',\n '4d2a34be00038c74390039ed1f70734a6f3331.html',\n 'fce93eb70002bb9f8d0039ed1f4c3752656471.html',\n '5849e3b300029fd0d80039ed1f5a326e686c49.html',\n '2a62e064000259026b0039ed1f786a37626b49.html',\n '240c6abb000223a6320039ed1f694b45676678.html',\n 'ad58ab74000258bb480039ed1f69666c4b4a38.html',\n 'f4b8e42b0007cf1d460039ed1f547448646332.html',\n '525711450005b251080039ed1f4744626f4c70.html',\n '1717570a00034b4bf70039ed1f6d653847574d.html',\n '26b542bb00025526050039ed1f417264374642.html',\n 'fdcba979000206dfb30039ed1f41727a30636d.html',\n '9aaa176100039895530039ed1f653255566a50.html',\n '9d47907e0008b7834a0039ed1f4d4441724c78.html',\n '72f01d23000206cb9b0039ed1f787043543863.html',\n 'd876332e00032a4dc80039ed1f325465536742.html',\n '6a913fde000326b77f0039ed1f55696d466461.html',\n 'a2f2c66b000218fcb80039ed1f676172486747.html',\n '5da0d87500039067b80039ed1f617a6a4d7534.html',\n '8e346e320005a4f65f0039ed1f593151553150.html',\n 'a40a0ded000883a32f0039ed1f657a58524562.html',\n '8309d7000002020ce90039ed1f7a474c786d57.html',\n '9b5f708900079732240039ed1f326d34364654.html',\n 'ddb5b09f0002e904880039ed1f686458745570.html',\n '840d7d840001dfac1e0039ed1f333178736c6d.html',\n '2b2219960002590f020039ed1f6e7a324a4c72.html',\n '8b5a20f70000bb398f0039ed1f736563726574.html',\n 'f7b40f42000357dae50039ed1f4d3275354648.html',\n '88526c460001c8611f0039ed1f364b7a6e4e45.html',\n '4fa0c17e0007b62f4e0039ed1f676d3979396f.html',\n 'ddd3fef000049db6aa0039ed1f30694c4d4468.html',\n '418341920002138cdd0039ed1f4968747a6368.html',\n '5b377af5000209a9380039ed1f676943574c55.html',\n '612c7cfb0003cb909f0039ed1f6b7938694e48.html',\n '040966ed0001f6c3850039ed1f397030343072.html',\n '3de5600900039a76c20039ed1f6951384d6231.html',\n 'cdb76ff100017374da0039ed1f464a43435548.html',\n '837d24fe0002ddf9420039ed1f5a696159454f.html',\n 'f94bd7b20002e44c200039ed1f744b42586d33.html',\n '8e50b5170001a2d0eb0039ed1f435a59496f73.html',\n '19dfaf410002d786620039ed1f6c6f37557932.html',\n 'f5bc55ed000643553d0039ed1f556574573562.html',\n '532304460003df69720039ed1f65594d7a7650.html',\n '3346a9100001c3b8e00039ed1f52544b6e7131.html',\n 'a455a9a50001e9b9fd0039ed1f7476774f4d72.html',\n '20d1aa9a00029436690039ed1f4e4d42466f54.html',\n '50ba3a5f00050217530039ed1f63536b6a6230.html',\n 'f49d8df100068a72a60039ed1f773463795433.html',\n '323de5960006df9dd90039ed1f4c6271506b45.html',\n 'bda6828900027d9d890039ed1f526e6e6d3975.html',\n '0bbfd0730002da32f40039ed1f63424255536d.html',\n '7350dfa70000dc13ef0039ed1f576870374b6f.html',\n '6169cb4d00023ff35d0039ed1f575853655735.html',\n '9e84c50900039b2c1d0039ed1f505745544641.html',\n '24d67b9e00020ee4df0039ed1f584d794a4e38.html',\n '3ef37d0000045f8e1b0039ed1f464867684d79.html',\n '68bbda250003707cfd0039ed1f4e4b68634f53.html',\n 'd15e1769000296d1640039ed1f4b4b614c584d.html',\n 'b1a461f30003593ef60039ed1f316156685a6f.html',\n '7b2f684e000254338f0039ed1f7a6e534c3179.html',\n 'f5d0d9da00018216a50039ed1f4f4e7452316b.html',\n '2033b56200032363030039ed1f4b3455764d32.html',\n '3222f2ec000317d8920039ed1f6f336d627a49.html',\n '53d7cbbb000239ab030039ed1f6b5730497131.html',\n '4b67d13a0001b37c640039ed1f6461514c7534.html',\n '97d8e5c1000629231b0039ed1f786f4f773959.html',\n '3c2930190002ce35c80039ed1f437242326273.html',\n '8a2f90200002e9ade70039ed1f6f4c4e787235.html',\n '862b2155000242e87e0039ed1f715262424364.html',\n '39cfec430003f49db00039ed1f766f4b526e49.html',\n 'f90ef89b00077a4bd10039ed1f66466c754530.html',\n '181d2a1f0005ad52300039ed1f344332447669.html',\n 'a16bcfee000291eff10039ed1f4b574e706638.html',\n 'f3c63b3a00013294cf0039ed1f474b68684638.html',\n '296c7ca20002ab954c0039ed1f4d4879555365.html',\n 'dad0965000038380da0039ed1f566930314241.html',\n 'd623faf1000748cf8a0039ed1f374478796970.html',\n '978c4f4900020f39350039ed1f5444524c5873.html',\n 'cc2e5eb80003de3d550039ed1f635735487337.html',\n '4e09f9a0000269ea9a0039ed1f4c5836756444.html',\n '86f4a98e0003a207620039ed1f694371733972.html',\n '6c81635a00036d0d520039ed1f335464586e4b.html',\n '1c40051c00038eabfb0039ed1f754153565a35.html',\n '5a807f8800021fedb30039ed1f586265466730.html',\n '20f9ea31000327ca230039ed1f3837654e3546.html',\n 'a40d0f8900070eb03f0039ed1f425072676a50.html',\n '833f66000002cfbc790039ed1f443232643750.html',\n 'df0b424600088417d70039ed1f4e3679594d41.html',\n '05ce9488000474b6460039ed1f426a59615453.html',\n '9a3d3ae400032d045a0039ed1f6d47304b6773.html',\n 'f8aafa1200074cf4070039ed1f784141596434.html',\n '03fe612800022183c10039ed1f546f4e306c38.html',\n 'f6e25cc80003841d1f0039ed1f625174427354.html',\n '7dc530940001ff89f30039ed1f496d3670304f.html',\n 'f09558770002c02b950039ed1f636446654479.html',\n 'aa58bddc0003a31e050039ed1f356f4952634d.html',\n 'c51921850001f1627d0039ed1f335a41756d70.html',\n '2cd62fc50003e293ed0039ed1f62764c496f66.html',\n '3475e67b00024f4c600039ed1f714e596f3344.html',\n '911dda6f0004d757270039ed1f4f674a53484d.html',\n 'a4a87aad00075145610039ed1f417567563775.html',\n 'b422fec8000241b29a0039ed1f6853356c3139.html',\n 'dd430b2800029800d50039ed1f767648594b55.html',\n '06196d3b00058dd8830039ed1f544b55653757.html',\n '71f5c23b000284084a0039ed1f56695a325168.html',\n '391da37a00020795da0039ed1f764173556877.html',\n 'f7f9bc9100040d53b60039ed1f4e6c42736174.html',\n '3939ebc90003661f6b0039ed1f6f7154743432.html',\n '92bd295700024184ea0039ed1f4a4951735461.html',\n 'd117beff000738bf910039ed1f6d4136315966.html',\n 'ced719b50001cca1730039ed1f715350617873.html',\n 'cd7b4cd200020057da0039ed1f6672727a6558.html',\n '1737c886000170573b0039ed1f766c34375872.html',\n '6d3cf6dd0003035be00039ed1f6e7154726852.html',\n 'd0c1dc320008bd49bf0039ed1f6553474b6f67.html',\n '35b5d42200018731d00039ed1f465854766643.html',\n 'f10f4156000354024c0039ed1f696244746451.html',\n 'ce55daca00026d6c350039ed1f7a3471615138.html',\n '0ad2482100023f9ddb0039ed1f313346673961.html',\n '27a178850002d6ede10039ed1f716b37426b59.html',\n '2ee5eb5f0005aa8fc90039ed1f6d6f70716331.html',\n '619ffca70002ddbddf0039ed1f6146416c5435.html',\n 'bbd6d76e0003fcb4790039ed1f413545344e30.html',\n '61377f120002a3ae410039ed1f33544975504b.html',\n '1a406a340003a4107b0039ed1f6f705a576273.html',\n '84d701b50003085df80039ed1f657a32394469.html',\n 'c47d20f10002143a850039ed1f55425758744b.html',\n 'ffb081fb00019bc4a50039ed1f655641623835.html',\n '93566e5a00020d0fab0039ed1f685a6a304e45.html',\n '46c8d4270002d3923a0039ed1f6e4536584c50.html',\n '62bc015d000464501d0039ed1f56556f796963.html',\n 'df9b90e60002a1c45b0039ed1f3770386c4f71.html',\n 'fca603ad0001ef06730039ed1f444757587842.html',\n '03e8c6250001478d220039ed1f5a4835693730.html',\n '4c1b566e000597ab950039ed1f735974547a78.html',\n '4aa4cad0000157649f0039ed1f5843646f6e58.html',\n '99955e0600034f7df60039ed1f624175307869.html',\n '2c6e77a600042d712b0039ed1f684d65636439.html',\n '4d33ef8b00032d21910039ed1f656454556d70.html',\n 'd5bf563f00072e22ed0039ed1f4279504d3830.html',\n 'd6dceb7000019bc9520039ed1f736179536466.html',\n '76009b4700021106b10039ed1f474f74786436.html',\n '5fe0d7450003ee70660039ed1f696161697335.html',\n 'ac348cd5000677034e0039ed1f514a634b4833.html',\n '8e8a1ca500034ec06c0039ed1f6e4b715a3842.html',\n '8e5137410002847cb40039ed1f394b63783635.html',\n 'a75e98970003195ab50039ed1f6a554f545530.html',\n '83885cfe00042d1cb00039ed1f3977594c6667.html',\n '3ec236db00024009da0039ed1f30456f7a5835.html',\n '34b11cac0004d3825f0039ed1f6e704938374d.html',\n '01cdd04600025227670039ed1f656131386235.html',\n 'fe87ff3500044fea640039ed1f474432765a30.html',\n '9541b34e00034027a50039ed1f76764e473742.html',\n '94651f1200034d4b3b0039ed1f426363655158.html',\n '73a4452500032eb4ea0039ed1f464945375837.html',\n '3484cfb70002bace980039ed1f457847375438.html',\n '5ef1ca730001f1baa00039ed1f676163476c48.html',\n '11c1d8070002f7474d0039ed1f66706a6c6b77.html',\n '13fdcc140001bf65fa0039ed1f453746525a38.html',\n '5a6879790002980f0e0039ed1f31493772774d.html',\n '6c78ffcb0001d3ead30039ed1f336b66414973.html',\n '7dd06fab00074728dd0039ed1f584c74357747.html',\n 'bf0c8bf10000dfdbe10039ed1f6e6770463976.html',\n '44e05b23000204396d0039ed1f4b4938774b54.html',\n '9b144885000202b8f20039ed1f6b4234797638.html',\n '5967d49400077a70550039ed1f716b3550686b.html',\n 'a4a4186b0003832eef0039ed1f504b37414d50.html',\n '367891f100030d91080039ed1f716868737a4f.html',\n 'd4f3583a0000b0d93d0039ed1f736563726574.html',\n '398ea7220003d366d50039ed1f577767787471.html',\n '71e9cd090002a8bf340039ed1f61346f743756.html',\n '1579f9db00016b97e70039ed1f756a374a4452.html',\n '03afb2460001e0536b0039ed1f4a6749414647.html',\n '5d24f57e000190d6af0039ed1f3631566e6349.html',\n '5b385f530007d46b6e0039ed1f457331516731.html',\n '4fdf69fc00042dc9c40039ed1f6f6743703653.html',\n '891ea4b30002182b690039ed1f344971614754.html',\n 'f6a7388200071509ed0039ed1f345263425576.html',\n '6400f5fc000280a9270039ed1f4f5766454b71.html',\n '0234e14d0003a32dda0039ed1f52685831634d.html',\n 'c1b1a1040001e15d410039ed1f423234363054.html',\n '191584330002dea2220039ed1f6c5457514541.html',\n '2943d8bf0004d2fd0f0039ed1f734950507255.html',\n '07d8e6710003969e750039ed1f784e50516448.html',\n '15db440c00023e132f0039ed1f44796a336761.html',\n 'f58463830006f045e50039ed1f687141396469.html',\n '03b07f0c0001313c610039ed1f4c356a523878.html',\n '4fc7adb7000393f4fb0039ed1f747a6f475975.html',\n '54a33f690002f894880039ed1f6b627a445352.html',\n 'cfae21fd0003b7b7650039ed1f747961566b56.html',\n '38d838b00002d645290039ed1f4b41526a4279.html',\n 'bd06084b0001a09cf00039ed1f586a4e763436.html',\n 'a2f37c2d000430805a0039ed1f49564c306236.html',\n '2d07659a00012691b20039ed1f737a4f596862.html',\n 'ac0da41a0001c206ad0039ed1f414a76724166.html',\n '558fe26000034569240039ed1f515971453553.html',\n 'a9b60b450002e40b1e0039ed1f614a38364b34.html',\n 'c8c624120002997f420039ed1f556151655530.html',\n '2e562e450002a8d12f0039ed1f327361424d64.html',\n '8c6c14e5000311d58d0039ed1f496256775342.html',\n 'd63ae8d30007bbe5e70039ed1f41446e766244.html',\n '9b0d4a8600055a48360039ed1f624d65414164.html',\n '25684dc9000869e94f0039ed1f454d63587034.html',\n '202a5ac000058dcb6f0039ed1f536358413659.html',\n '8a9e76150007315ad90039ed1f69443256654d.html',\n '2c76b5e300029a17fd0039ed1f334f4f44616d.html',\n 'ac7c5d67000335e1f40039ed1f6c76764b3961.html',\n 'bde412eb000322bb600039ed1f544943416d38.html',\n '238640bf000702cd0a0039ed1f6b6158775035.html',\n '094c20640002338cfa0039ed1f534c4e446737.html',\n '728ff2710003f61aa10039ed1f627035355938.html',\n 'dc06a5d00000dc679e0039ed1f66767a496f41.html',\n 'd13e01370002fbb18c0039ed1f346345535a79.html',\n '1bd8b76f0003d5533c0039ed1f784d44724358.html',\n '94d9ae2f000637bf690039ed1f64344c745054.html',\n '639eaaac00025349fb0039ed1f4f4e68655a44.html',\n '90838594000218a47b0039ed1f665068727168.html',\n '7627de8000012fbfdd0039ed1f7246556a6c4d.html',\n 'c74a89680001dd61650039ed1f713259726942.html',\n '89613f9a0003d3b55a0039ed1f4e4346324647.html',\n '4efcaa300002a6a23d0039ed1f6e7144323361.html',\n 'a591293000025620ea0039ed1f66675a5a7642.html',\n '33a04d350001b3fa810039ed1f6a654b4c5545.html',\n '7286c2f40002d34f8d0039ed1f49514b706552.html',\n '4da9a4fb00058755c00039ed1f564263617879.html',\n '10e21a5a0002ba90140039ed1f613549614b30.html',\n '95e996bd0001d4f33f0039ed1f6f4258307862.html',\n '358f852a00023e22cc0039ed1f304869754c79.html',\n '958ffc440005cede1a0039ed1f765a57415570.html',\n '6e1f9c3200021681ff0039ed1f44774f354e47.html',\n 'bbbb52250006d4dbd60039ed1f3453584c3351.html',\n '945f2f55000167b8ef0039ed1f3271426a7364.html',\n 'cf5ecffb0000f73c8f0039ed1f6873566a7035.html',\n '6dece65800037929d20039ed1f58316d793266.html',\n '5b7ed80900035a490c0039ed1f7149564b5052.html',\n '86455367000174b0e30039ed1f334873563551.html',\n 'f5af626a0001db06ac0039ed1f4a494e624a74.html',\n 'd17f773100022220980039ed1f594741556533.html',\n 'a1c49c6a0002bf38070039ed1f4e3331416a32.html',\n '320c5ef50001a1cbc00039ed1f6b3467656c6f.html',\n 'c4aab4110003ed95380039ed1f7a426b456972.html',\n 'f676fb7f00037ed7ce0039ed1f313161473568.html',\n '4e0d4b180003a33b440039ed1f53546c417567.html',\n 'a9ae10f60002aac5640039ed1f387136574d68.html',\n '8e49db29000654808e0039ed1f6b6c58377167.html',\n 'f61129600002ea0bac0039ed1f427737753469.html',\n '8b31a9e5000390b1510039ed1f69336e334553.html',\n '3b485ba70002adc8cf0039ed1f653275614f73.html',\n '3c6423e00003db6a4c0039ed1f32646a4e3632.html',\n '2a20abb700057146ab0039ed1f356f356a7848.html',\n '2148753f000265d3750039ed1f6664484d6150.html',\n 'b6f5fdbb00020649cd0039ed1f4c4a78395457.html',\n '5b5693b80001bcaef90039ed1f7a634c654a73.html',\n '5ad42622000218c58d0039ed1f577858347032.html',\n '552d17f60002c82c270039ed1f6d4631576b4b.html',\n '4130d4be0005d1eff30039ed1f63476b616773.html',\n '0ce149120001abe8bc0039ed1f38556d757849.html',\n '9c41977d0001a5676f0039ed1f76546f6a6845.html',\n 'a4c3ac970001d7c6850039ed1f6d3366775135.html',\n '21587244000203146b0039ed1f4d7a58773653.html',\n '9f0d3a3b00031d88b40039ed1f306c69445349.html',\n '1cc05f7e00017887b60039ed1f426b4b434f4b.html',\n '329bbcba0005eefc6b0039ed1f334665736d71.html',\n 'f76aaded000271d2590039ed1f56584c326837.html',\n '49d2ecf5000620fc360039ed1f31486e734959.html',\n '8cc4a0580004373a6f0039ed1f4c3652564243.html',\n 'c901c0b70005354a0c0039ed1f4b5477504f36.html',\n '4ac97c9400039e70a90039ed1f5a333345564f.html',\n '4a93733000059135ab0039ed1f756949486478.html',\n '4ecc80280006e658a80039ed1f566362675173.html',\n 'd0b8e6b60002cc497f0039ed1f743642595557.html',\n '839d373b0003a5be730039ed1f647a356c6751.html',\n '1f04eb160003491e990039ed1f754838516f58.html',\n 'af3a86670002fa9a660039ed1f4e3748786862.html',\n '914c29f40001b8688c0039ed1f694877684652.html',\n '5a0f9f320001a45d120039ed1f4c686f504331.html',\n '2966f40900061cbe7b0039ed1f4d7350457246.html',\n '7cb1e0490001fea1740039ed1f6c6d6f655676.html',\n 'ca1274cc0003494fba0039ed1f726945674c54.html',\n '9dfca1dd0002408e680039ed1f4f6a58636b39.html',\n '97b201bf0001b51ea50039ed1f517a4b7a6642.html',\n 'a6df62f9000588fe990039ed1f76754a4b7053.html',\n '096e7ba8000391096a0039ed1f41786f686a67.html',\n '6ffe7a9200032c316d0039ed1f546979387835.html',\n 'c612c06d0004f3f4330039ed1f376c35494377.html',\n 'cd7d1e080000e6a7570039ed1f6931364d4c54.html',\n '718525a500023a79ca0039ed1f706739625679.html',\n '613336700001f458f80039ed1f4e6776484a72.html',\n 'f41580a40000bc0d4e0039ed1f736563726574.html',\n '058ae1850003a0841c0039ed1f7053787a6d53.html',\n '3d9d778a0002c252390039ed1f4c315a534759.html',\n '008f32a800022074d80039ed1f31596a736c37.html',\n 'ccd27ddc00036c2da90039ed1f763046716e52.html',\n 'ad2824990003cea8680039ed1f5a5032787347.html',\n 'f409e58f0002975d3c0039ed1f435566394130.html',\n '66fa2d4600023b3fcb0039ed1f336341486142.html',\n 'a04f5a5000046dc47f0039ed1f524b53627541.html',\n 'cff39c7c0001f510240039ed1f734a32494a33.html',\n '74569ee30003fd0ad30039ed1f55524a735770.html',\n 'c23f40d1000094f0a60039ed1f736563726574.html',\n '3deb339d0001ba20100039ed1f43356c345347.html',\n '7af5002b00039e93780039ed1f4e6865485a4d.html',\n '3f32954700063f5e770039ed1f38514e456378.html',\n '502a77f20002037b150039ed1f6b7858784c4b.html',\n '41f41793000432d9540039ed1f44534c596179.html',\n 'cd0973c600029a9a350039ed1f697031773763.html',\n '78e4860f0007ba66e90039ed1f685271754c50.html',\n '2f55f5fa000889c27b0039ed1f696665645843.html',\n '6a6220870003cecdcc0039ed1f56756c383657.html',\n '895c197e00040936350039ed1f766e73386649.html',\n '4ad5cb3800026b99fd0039ed1f593672587955.html',\n 'ba73ee4d00061574a00039ed1f427948346759.html',\n 'd72714720002d358790039ed1f396276663274.html',\n '87ae95150000c7b1ac0039ed1f314963613565.html',\n '1778022000034c83e30039ed1f6b6c71495631.html',\n '0ac1a1be00077c186e0039ed1f59524e533471.html',\n '529031bc0002d0088e0039ed1f6d366e775873.html',\n '195d85980005131a760039ed1f3545664e6f65.html',\n '22cd66f2000218ff070039ed1f794b49524967.html',\n '41df56290006247e260039ed1f44384b78546b.html',\n 'd1b389ad00073334fe0039ed1f4970544d4c67.html',\n 'c0bdccb200025d6b190039ed1f4d62637a3663.html',\n '7cf32c14000255039a0039ed1f636d5a684579.html',\n '44d7135700044e5bf90039ed1f56565a386f46.html',\n '6a558a8500042b99b90039ed1f65366b4e4638.html',\n 'dcebc946000359a5510039ed1f67374c546c71.html',\n '600112cd0002a320130039ed1f6576447a4731.html',\n '5f1cbb8900025431470039ed1f58394f477234.html',\n 'ac6c64de00023edc7f0039ed1f4d4657534869.html',\n '6a0a34f10003565fb00039ed1f79346c496354.html',\n 'd4a1153a0005e187d70039ed1f747345416a62.html',\n 'a7d8945a00042a47d50039ed1f753572786441.html',\n '4c4b52db0002fd30bd0039ed1f76776a796e44.html',\n 'cb3ca676000258e17b0039ed1f30736a695076.html',\n '8976be940001b41c010039ed1f54324c416f66.html',\n 'fa57147a0005996cdd0039ed1f76565a686d70.html',\n 'fa28f9a4000612db530039ed1f52584b574f69.html',\n '45463f270007dd21570039ed1f46336c354f65.html',\n '477096e20003cec78a0039ed1f4c5141414f58.html',\n '5851eeb7000885f5390039ed1f5a386b714b53.html',\n '021785d20007ae6c020039ed1f31335a6d6c39.html',\n '90e377210000ecdc5d0039ed1f58544c76454d.html',\n 'd904e36f000292ff4f0039ed1f483734783341.html',\n '68017a5800021668800039ed1f544d61704f36.html',\n '72de398900030d5d680039ed1f7274545a7242.html',\n 'b8024862000135e9470039ed1f6157716a6971.html',\n '4e544385000520d6100039ed1f774159423241.html',\n '1195dcfa000243e29b0039ed1f654270647450.html',\n '6c04afd3000430defa0039ed1f646e367a6747.html',\n '4f202a040003ca64e30039ed1f496b35384e6f.html',\n '47118ab30004ab47d10039ed1f517a6e4a5975.html',\n '2e298b1200073e10970039ed1f76635a6d4231.html',\n '9114d4670003ec26480039ed1f616854585847.html',\n '5da7c2820001beae290039ed1f7a784c4d6479.html',\n '30ef19580001f97c060039ed1f536d534c4258.html',\n '8f84a21000052dfd100039ed1f4b6c3332636d.html',\n '6550a66700063def660039ed1f544b6a763267.html',\n '929d9aa300017424c40039ed1f683166577556.html',\n '81b8186f00061e343b0039ed1f756233393065.html',\n 'b1851ab400073a12b40039ed1f5669624a5173.html',\n 'f6723d2d00067491cc0039ed1f796232773767.html',\n '3bc2c1c400038ee93b0039ed1f4a6d65514857.html',\n '5af6cdc900019dd74d0039ed1f4d6d45764d48.html',\n '8e993e2d0002d8da2d0039ed1f6f7265547330.html',\n 'f165f32700020bbf290039ed1f544f5234736b.html',\n '2e31703800014137c90039ed1f47474154424b.html',\n '9b2d23700001c47cfb0039ed1f615164307631.html',\n '6d1a26bd00021a5bb80039ed1f5a6e31647475.html',\n '1a8c5b8c000451f1350039ed1f4e533579754b.html',\n '992f2fa40000e98b700039ed1f716b52344734.html',\n '13ad0a5f0002ceeba40039ed1f507934745261.html',\n 'ab6ec73300087742120039ed1f724177475a31.html',\n '56529fe10004d532490039ed1f707938697436.html',\n '1e46707100024253510039ed1f425744526936.html',\n 'c4cc007c0001b536a10039ed1f377555545951.html',\n '4e4fbbce0001f259c90039ed1f716a42664a74.html',\n 'a2affa3b0007bdeca10039ed1f4a69676c7056.html',\n '5d63921d0001a341a80039ed1f444735373633.html',\n '5a7e3feb00026dd3be0039ed1f6963564c3250.html',\n 'add8eb8f00031444080039ed1f6a683472484f.html',\n '05de192f0003679bb20039ed1f764d5a7a7658.html',\n '94fd243a00020163240039ed1f4a46366f316f.html',\n '123f35580002d9dd2a0039ed1f566e6b663942.html',\n '5a7f1eee00051b8b970039ed1f4d5578557441.html',\n 'f6ec3baa000885f9410039ed1f6e554a453930.html',\n '200ab5570008a452f90039ed1f714c44337056.html',\n 'ae9597c70002c23ead0039ed1f477048533345.html',\n '9867ffca0001be55ae0039ed1f707461544c36.html',\n 'f12040660001b115370039ed1f6d6a31794233.html',\n 'fc1cc26100026c2cbf0039ed1f6d4f5369554d.html',\n 'fed21d9200020c57380039ed1f505a69377467.html',\n '37fa1d30000252721d0039ed1f696c76707436.html',\n 'dfd79b3d0002bf03bd0039ed1f3866694a6551.html',\n 'bff2fcb40002bd44d90039ed1f644d71575951.html',\n 'd9d7d3db0000a7df3a0039ed1f736563726574.html',\n 'f42c6184000287cc8e0039ed1f454c48487471.html',\n 'fbe776440000e170040039ed1f47594c775951.html',\n '2ceceee50003f48b9d0039ed1f434c3571344f.html',\n '9745579b0002e4f65b0039ed1f615069544835.html',\n '311e62ef00072c464a0039ed1f674264744145.html',\n '60c61e890003ed9de70039ed1f495172534632.html',\n 'dcd54a6600011d74140039ed1f6e7137504f33.html',\n 'aa3e747a0002022b9c0039ed1f783637483248.html',\n '21dad3ad00046b78110039ed1f303771474644.html',\n 'f84855710005af8df50039ed1f427a4e694f47.html',\n '96ae1cce0005aedaae0039ed1f616b71353070.html',\n '2e8d4f8500023d72410039ed1f5537537a6931.html',\n 'f25f3de20003a316a70039ed1f5564356c7733.html',\n '77c1198a00032d6aa20039ed1f6c6b774d5574.html',\n 'd3b95f23000332c4600039ed1f654865464963.html',\n 'c469c5380001cf7ae80039ed1f3653306f6963.html',\n '6eeeef3a0005bf042e0039ed1f696373304a47.html',\n 'd4846892000240b2d40039ed1f445658376647.html',\n '2e8f89c6000133b1a70039ed1f393149505765.html',\n '2b3275e100012b180d0039ed1f554866517632.html',\n 'fa7f060900048d7da50039ed1f575747716978.html',\n 'd048f11d00076837420039ed1f334e6d545670.html',\n 'f1fd75830002d37e8c0039ed1f764a38654354.html',\n '2359988a0001db40950039ed1f536938683247.html',\n '74af61140003e5460f0039ed1f794744373341.html',\n '44af01a700065233050039ed1f5a5971384b64.html',\n 'b66fbde6000238df6c0039ed1f6e4a37393273.html',\n '11e2b2c70001be60030039ed1f696a4d51764d.html',\n '3150042e00027527460039ed1f4e4f73476d59.html',\n '95b3b3320002bc852e0039ed1f776f69476234.html',\n '1a2721a10003a93ac70039ed1f584143435144.html',\n '60121f070007a680f90039ed1f35445a6c4a4d.html',\n '2349513d00031c6bc40039ed1f4d46544f6768.html',\n '720d85f70002a736a00039ed1f396c35517a51.html',\n '3e3865770001714bf70039ed1f336a43764332.html',\n '9303eac60001f853200039ed1f797465443849.html',\n '211caf5800015593520039ed1f317043455a30.html',\n '5dccd2100001affa990039ed1f586b78446675.html',\n '6e4585d30000cd601a0039ed1f334132733651.html',\n '0c1e9f9e0001a3dd040039ed1f6e6e56447962.html',\n '4c1c437700044cac060039ed1f6f3741656b6b.html',\n '6c9eca4d0002c22f450039ed1f723144337876.html',\n '0fb4661900015cf3c80039ed1f66666f516d76.html',\n 'b483cfe3000206a4800039ed1f6c4837754537.html',\n '63340f6d00020ebe3e0039ed1f3537557a4a39.html',\n '221e9e6c00024f9da70039ed1f65706e436c69.html',\n 'f4ad480a0003f19a0d0039ed1f645072723942.html',\n 'ce3f09f70004d759db0039ed1f536c70386531.html',\n '059dd3da0002a8bfeb0039ed1f793275305061.html',\n '8848b5bd000284e6890039ed1f6263756b3937.html',\n 'd9681b5000039e7bd00039ed1f6d4e6f4f3164.html',\n '88229d7c0003e6d71e0039ed1f325044323141.html',\n '997c5dd00002fb9d990039ed1f694842566a70.html',\n '7aad618d00020710c00039ed1f4b5a6b4e6279.html',\n '768e9e270009299c660039ed1f64314e557277.html',\n '4b745540000131b4930039ed1f436e5532584b.html',\n '8b6086c10003189c390039ed1f4e3937353477.html',\n 'cf72132900023cf8de0039ed1f513458696a43.html',\n 'c5ae135e000454bff30039ed1f36666e556b61.html',\n '68fe56c70002a4ca1c0039ed1f626f56644546.html',\n '17f65fc30002a428c80039ed1f4f7a77764278.html',\n 'f70b3db80002175fad0039ed1f4b4244456465.html',\n 'fefeb2860002cfbc250039ed1f4e5342615467.html',\n 'bf18b3d80002ca87180039ed1f6e4450347672.html',\n '98483ee000020218790039ed1f596744437478.html',\n '406bbec70001b159c60039ed1f567671524370.html',\n '31e88be800072e7bf90039ed1f716d66417846.html',\n '9be505ba000644fd710039ed1f474b674d6152.html',\n 'a54fcbeb00029f80650039ed1f796c31353745.html',\n '1a7979560004320d090039ed1f306f6c57314f.html',\n '9ba6c10d000399ba620039ed1f5a4347554836.html',\n '432b63d300024fa3ed0039ed1f553968756e53.html',\n 'dba768260000d933ea0039ed1f41715a396956.html',\n '9c04096a0001b505730039ed1f613364474a41.html',\n '159aee9f00078e4aa10039ed1f6f696f634b71.html',\n '118c43bc0006752d7b0039ed1f69504f535736.html',\n '7c83524c0003e4e7a80039ed1f51544f586c39.html',\n '44a198d800023a10160039ed1f4a6451623054.html',\n '1a435e7d000254f4920039ed1f684f64546f41.html',\n '6dacf8b5000872ddb50039ed1f436a304a4273.html',\n '898070150002424d460039ed1f496353645657.html',\n '1a2749f50002ae4c530039ed1f415867556f33.html',\n '2620aa3f000204115e0039ed1f4f53644f4b44.html',\n '0ba4cdf80002c08b030039ed1f6a337a317931.html',\n 'd5bfc1470001da6b110039ed1f3547704b6778.html',\n '9517c18300011ee9640039ed1f564548343962.html',\n '9f7f2f35000174eb310039ed1f74654f4a7174.html',\n '5dd89aae00021b69730039ed1f787673394532.html',\n '4337626b000782f12f0039ed1f733979723139.html',\n '70cf306800035032f60039ed1f4f6633515a78.html',\n 'fce4a9e90002d396770039ed1f4577706e6541.html',\n '69a69517000217ef020039ed1f47354f384767.html',\n '80ff83f70002b1468b0039ed1f6d6d56454647.html',\n '85c01c9900026f7e4b0039ed1f544277484170.html',\n '6e48a95d000119ec930039ed1f35346c4a6966.html',\n '3858a12c000206d2f50039ed1f71324d546b6b.html',\n '7836459500036db5550039ed1f7735534c7368.html',\n '49f8d62f0000bebab10039ed1f4e6731765174.html',\n '16f1d5a900027aae840039ed1f4e6f65533552.html',\n 'f45a10b600020996740039ed1f4a7139474576.html',\n '08ef995700042c1ddb0039ed1f655350455150.html',\n 'd6384d3000023d8e980039ed1f4f6664693673.html',\n '28c7bb520002070b210039ed1f4b395a387a38.html',\n '804f7906000240979f0039ed1f45426d333470.html',\n '3bf67e0c0008f78e410039ed1f4a5477596c62.html',\n '090cd542000316a3ec0039ed1f50526c6a4b49.html',\n '98e39ed5000242c9ce0039ed1f7a496c4d7448.html',\n '5311214c000318fe130039ed1f583455493769.html',\n 'fc2d98a40002d55d080039ed1f76664a343275.html',\n '3497aeaf00023e6f930039ed1f744d6d373965.html',\n '6e81bd820000c154460039ed1f585454515372.html',\n '83c0081c00084d2f430039ed1f386a48537066.html',\n 'c2d4f8a600026b152b0039ed1f794848426f67.html',\n '1933b133000204f66a0039ed1f744d7a745550.html',\n 'aed1c27b00019c01670039ed1f525171397349.html',\n '5fd6cf680003916cc00039ed1f4e7163453942.html',\n '87ae568900026a22e10039ed1f513036477562.html',\n 'b015e7900003243fcd0039ed1f525365325533.html',\n 'c14f38970002e9c2e00039ed1f5a65676f5648.html',\n '8c894458000781c5f70039ed1f523636474673.html',\n 'b87fc85a0001a015730039ed1f724465474a70.html',\n '200de227000255f84e0039ed1f476c74446a78.html',\n '67c0a48a000435ee6d0039ed1f723665386951.html',\n '7bc571ad0005ad88a60039ed1f336f33727861.html',\n 'c0d137eb0002160e850039ed1f764e334e6354.html',\n '631773eb00015ee20e0039ed1f67584c647867.html',\n '1e1c7f960003642e430039ed1f746e6c6a6b77.html',\n 'dc1117ab0002faf1950039ed1f5a67536f7244.html',\n '2a7ee20f0002a8e05d0039ed1f67396a566347.html',\n '022b8b5b0003cb6f130039ed1f54596c454132.html',\n '0ce893000002003fe50039ed1f333830515553.html',\n '2371199a0003cc07df0039ed1f794e59394952.html',\n '3078f46400074d32bf0039ed1f584e4e577758.html',\n '93dfd7b70003cd9f7f0039ed1f576b4d5a4566.html',\n 'b45876e900057709d90039ed1f484962625239.html',\n '4876d60700073330db0039ed1f5a776a774f43.html',\n 'a43e814f0002d552e10039ed1f783773506547.html',\n '5ce7c28c00025863ee0039ed1f5a3772776374.html',\n '579897b50003d026370039ed1f337377617377.html',\n '2423f60b00039f22d70039ed1f7175384d5157.html',\n 'd6355fb7000159512c0039ed1f537643746235.html',\n '728c891800039e40e60039ed1f77734c6a5756.html',\n '98e73254000354dff40039ed1f764f326c3678.html',\n '466a261d0002d452f90039ed1f487172377a56.html',\n '45760993000167a2e60039ed1f3331566d7976.html',\n 'fad86709000154ddc90039ed1f4d7947376d63.html',\n '58084bd90002f85bf50039ed1f556e4c686636.html',\n 'c008e53300022203800039ed1f47417977314d.html',\n 'f25b767c0005903bff0039ed1f6951316b4e6f.html',\n '9ade924a0003ce21b90039ed1f6b554c49646f.html',\n '49bcab960002ea9aa40039ed1f4a4572474f50.html',\n '2bc96a4c00019a30a40039ed1f473462766442.html',\n '899331070003075c580039ed1f6b4b45596b35.html',\n '05d0c91d00060d2ced0039ed1f554369534f56.html',\n 'b5b11f8e00084b1a3e0039ed1f685768796a78.html',\n 'ff157f910003fa383d0039ed1f425330464367.html',\n '3e81b6e00001c9b17b0039ed1f4c3170675352.html',\n 'c8013dd30002149dc50039ed1f596a766c4231.html',\n '75c58b55000361e1100039ed1f337a4d6f4f6b.html',\n '7d94618d0005d48c290039ed1f437953627077.html',\n '56e44c880003a03e100039ed1f4455434a336b.html',\n '86541789000437220c0039ed1f396c56554744.html',\n '2eb3280a000250f31e0039ed1f76634d474e70.html',\n '087c8691000143c9660039ed1f337a55595831.html',\n '6f101d0b00020c39d90039ed1f4b4c69624a72.html',\n '91de9edb000308ade20039ed1f435056667165.html',\n '48da4abe00036d4e500039ed1f4247746d6e63.html',\n '64c27e5d000200352b0039ed1f45787331506f.html',\n 'ac17b8e30002e54dcf0039ed1f323244506c47.html',\n '20f09c2500038611810039ed1f507270556937.html',\n '74eb58cd0001aee52f0039ed1f5a7374464e44.html',\n '0eedac84000034b3a30039ed1f736563726574.html',\n '77d772f80001dafdf00039ed1f727838657951.html',\n '3ff13a810002169a870039ed1f38726a6a5851.html',\n '9f3a5a7d00034df3670039ed1f794b777a3446.html',\n '1c702a24000289bd5d0039ed1f65384f6b7859.html',\n 'b6a68ba00005a0b8f70039ed1f584f75466e49.html',\n '55f3c6640002a043b50039ed1f61636f766765.html',\n '61eea4f000030617ab0039ed1f717734756458.html',\n '8f052d9f0002c155520039ed1f52676b7a5156.html',\n '27cddce30007e095490039ed1f466f426d6551.html',\n 'b2fe81cb0001c701140039ed1f5a3433685454.html',\n 'c04ec8710002f95dec0039ed1f45547a663454.html',\n 'd3abe64f00023776680039ed1f673235356f46.html',\n '1eab95b900072ba21e0039ed1f417464504437.html',\n 'b041deab0005471efb0039ed1f634b57334150.html',\n '73be5dfa000209cc5a0039ed1f6c4230533671.html',\n 'b445d2b50002e3e5430039ed1f677a53674456.html',\n 'dfbb64f200020faafc0039ed1f74755535544d.html',\n '57c4d01f00034a0d510039ed1f476c6e666b50.html',\n '24d01b7e000385f5a30039ed1f504f326b6b58.html',\n '94d9fedf00031e91aa0039ed1f336b4f427870.html',\n 'ae44925e000300c9e70039ed1f724543474868.html',\n '7ac9ad7e00038c08a50039ed1f6275394e4e50.html',\n '0772fb8100023be2500039ed1f4c47765a4473.html',\n '2ee7919300074c3b290039ed1f5866396d6254.html',\n '569e907500022341380039ed1f58755330784b.html',\n '979360f1000674c85e0039ed1f554e624a7574.html',\n '22ac50bf0002e336a00039ed1f4d585a715441.html',\n '3923ff2d00040024610039ed1f646b53417446.html',\n 'b0026f230003d9f9ff0039ed1f56464e6c3543.html',\n '69c400310001feb1060039ed1f776767437a39.html',\n '2decf1360001fef28d0039ed1f5837767a524b.html',\n '8866c1b8000594e7650039ed1f76364d354175.html',\n '2af824500002a345de0039ed1f454975634b71.html',\n '601d4bb9000397983f0039ed1f453854524d50.html',\n '47a681b10002e8105e0039ed1f5063706c5577.html',\n '28d14fb700026fdd070039ed1f34744643624b.html',\n '2e9d6e0a00040734bf0039ed1f58484b763864.html',\n 'fc8feb6b0002b9ef740039ed1f586961754742.html',\n '31d81b9200026748c10039ed1f7158734b6652.html',\n '387438030001efc5740039ed1f64766e547769.html',\n '7578ec2300015e55fd0039ed1f593241477158.html',\n '5c75d801000354c95e0039ed1f6f465157346d.html',\n '76e00b650002bf532e0039ed1f37647675324d.html',\n '573b7e2e00015d7a020039ed1f786642625569.html',\n '258ade3900028c224e0039ed1f676b586d5958.html',\n 'd980bca90002eaef600039ed1f45306b455139.html',\n '542073d800039d39c50039ed1f395050395655.html',\n '0066ce3f0001b620620039ed1f513071784459.html',\n 'be75ab1a00032f1a0a0039ed1f774e5a424f43.html',\n 'bae35c3000024f3b3b0039ed1f6b564d713545.html',\n 'b81f6ad60006415d6b0039ed1f78524a534374.html',\n '64f2275d0002387cec0039ed1f54473176546b.html',\n ...]"
     },
     "execution_count": 20,
     "metadata": {},
     "output_type": "execute_result"
    }
   ],
   "source": [
    "files"
   ],
   "metadata": {
    "collapsed": false,
    "ExecuteTime": {
     "end_time": "2023-11-18T11:27:05.312876734Z",
     "start_time": "2023-11-18T11:27:05.304484304Z"
    }
   },
   "id": "a08d8d3dee472864"
  },
  {
   "cell_type": "code",
   "execution_count": 23,
   "id": "3535aa24-01f6-4565-b22a-f8be9c366413",
   "metadata": {
    "ExecuteTime": {
     "end_time": "2023-11-18T11:28:08.086607739Z",
     "start_time": "2023-11-18T11:27:32.704033669Z"
    }
   },
   "outputs": [
    {
     "name": "stdout",
     "output_type": "stream",
     "text": [
      "Некорректное резюме, проблема со временем в должности: ['Январь', '2008', '—', 'Январь', '2008', '1', 'месяц']\n",
      "Некорректное резюме, проблема со временем в должности: ['Январь', '2008', '—', 'Январь', '2008', '1', 'месяц']\n",
      "Некорректное резюме, проблема со временем в должности: ['Сентябрь', '2015', '—', 'Сентябрь', '2015', '1', 'месяц']\n",
      "Некорректное резюме, проблема со временем в должности: ['Апрель', '2001', '—', 'Апрель', '2001', '1', 'месяц']\n",
      "Некорректное резюме, проблема со временем в должности: ['Январь', '2011', '—', 'Январь', '2011', '1', 'месяц']\n",
      "Некорректное резюме, проблема со временем в должности: ['Июль', '2007', '—', 'Июль', '2007', '1', 'месяц']\n",
      "Некорректное резюме, проблема со временем в должности: ['Декабрь', '2019', '—', 'Декабрь', '2019', '1', 'месяц']\n",
      "Некорректное резюме, проблема со временем в должности: ['Май', '2019', '—', 'Май', '2019', '1', 'месяц']\n",
      "Некорректное резюме, проблема со временем в должности: ['Январь', '2015', '—', 'Январь', '2015', '1', 'месяц']\n",
      "Некорректное резюме, проблема со временем в должности: ['Июль', '2013', '—', 'Июль', '2013', '1', 'месяц']\n",
      "Некорректное резюме, проблема со временем в должности: ['Декабрь', '2012', '—', 'Декабрь', '2012', '1', 'месяц']\n",
      "Некорректное резюме, проблема со временем в должности: ['Март', '1990', '—', 'Март', '1990', '1', 'месяц']\n",
      "Некорректное резюме, проблема со временем в должности: ['Октябрь', '2020', '—', 'Октябрь', '2020', '1', 'месяц']\n"
     ]
    }
   ],
   "source": [
    "client_id = 0\n",
    "for name in files:\n",
    "    with open(os.path.abspath(os.path.join(os.getcwd(), os.pardir)) + f'/data/resumes/{name}', encoding='utf-8') as f:\n",
    "    # soup = BeautifulSoup(f, 'html.parser')\n",
    "        file = f.read()\n",
    "        hh_resume_online_parser(file, client_id)\n",
    "        client_id += 1"
   ]
  },
  {
   "cell_type": "code",
   "execution_count": 24,
   "id": "55e27924-8c70-4c3d-a3df-7cee7abc37de",
   "metadata": {
    "ExecuteTime": {
     "end_time": "2023-11-18T11:28:09.364095436Z",
     "start_time": "2023-11-18T11:28:09.354168714Z"
    }
   },
   "outputs": [],
   "source": [
    "df = pd.DataFrame(data, columns=['client_id', 'prof_id', 'job', 'months', 'description'])"
   ]
  },
  {
   "cell_type": "code",
   "execution_count": 33,
   "outputs": [
    {
     "data": {
      "text/plain": "<4335x3759 sparse matrix of type '<class 'numpy.int64'>'\n\twith 7123 stored elements in Compressed Sparse Row format>"
     },
     "execution_count": 33,
     "metadata": {},
     "output_type": "execute_result"
    }
   ],
   "source": [
    "n_gramm = count_vect.fit_transform(df.job.to_list())\n",
    "n_gramm"
   ],
   "metadata": {
    "collapsed": false,
    "ExecuteTime": {
     "end_time": "2023-11-18T11:29:37.855630137Z",
     "start_time": "2023-11-18T11:29:37.842532727Z"
    }
   },
   "id": "4ec200e806d1f730"
  },
  {
   "cell_type": "code",
   "execution_count": 34,
   "id": "8a3b9307-15f2-48c7-b72a-ceada6ba9b8d",
   "metadata": {
    "ExecuteTime": {
     "end_time": "2023-11-18T11:29:40.108050526Z",
     "start_time": "2023-11-18T11:29:40.100560271Z"
    }
   },
   "outputs": [
    {
     "data": {
      "text/plain": "      client_id  prof_id                                                job  \\\n0             0        0                       бригадир комплексной бригады   \n1             1        0  Заместитель генерального директора по общим во...   \n2             1        1                                  Инженер - механик   \n3             1        2                         Заведующий машинным двором   \n4             1        3                     Заведующий прудовым хозяйством   \n...         ...      ...                                                ...   \n4330        999        6    Помощник руководителя (начальник службы охраны)   \n4331        999        7                         Менеджер по продажам услуг   \n4332        999        8                                    Главный механик   \n4333        999        9  о/у ОБЭП. инспектор обслуживания видеонабл. сп...   \n4334       1000        0                                   Тракторист К-744   \n\n      months                                        description  \n0      10000  Выращивание с/х культур:оз.пшеница,оз.ячмень,я...  \n1          9  Решение вопросов касающихся производственно - ...  \n2          8  Перерегистрация автотракторной техники. Списан...  \n3         26  Ремонт автомобилей, тракторов и с/х техники, с...  \n4          7  Руководство коллективом прудового хозяйства. В...  \n...      ...                                                ...  \n4330      27  - организация работы по охране и физической за...  \n4331       9  - ведение документооборота, проверка отчетов у...  \n4332      73  - организация, управление автопарком, обеспече...  \n4333     155  - выявление и пресечение преступлений экономич...  \n4334   10000                                   Выполнение плана  \n\n[4335 rows x 5 columns]",
      "text/html": "<div>\n<style scoped>\n    .dataframe tbody tr th:only-of-type {\n        vertical-align: middle;\n    }\n\n    .dataframe tbody tr th {\n        vertical-align: top;\n    }\n\n    .dataframe thead th {\n        text-align: right;\n    }\n</style>\n<table border=\"1\" class=\"dataframe\">\n  <thead>\n    <tr style=\"text-align: right;\">\n      <th></th>\n      <th>client_id</th>\n      <th>prof_id</th>\n      <th>job</th>\n      <th>months</th>\n      <th>description</th>\n    </tr>\n  </thead>\n  <tbody>\n    <tr>\n      <th>0</th>\n      <td>0</td>\n      <td>0</td>\n      <td>бригадир комплексной бригады</td>\n      <td>10000</td>\n      <td>Выращивание с/х культур:оз.пшеница,оз.ячмень,я...</td>\n    </tr>\n    <tr>\n      <th>1</th>\n      <td>1</td>\n      <td>0</td>\n      <td>Заместитель генерального директора по общим во...</td>\n      <td>9</td>\n      <td>Решение вопросов касающихся производственно - ...</td>\n    </tr>\n    <tr>\n      <th>2</th>\n      <td>1</td>\n      <td>1</td>\n      <td>Инженер - механик</td>\n      <td>8</td>\n      <td>Перерегистрация автотракторной техники. Списан...</td>\n    </tr>\n    <tr>\n      <th>3</th>\n      <td>1</td>\n      <td>2</td>\n      <td>Заведующий машинным двором</td>\n      <td>26</td>\n      <td>Ремонт автомобилей, тракторов и с/х техники, с...</td>\n    </tr>\n    <tr>\n      <th>4</th>\n      <td>1</td>\n      <td>3</td>\n      <td>Заведующий прудовым хозяйством</td>\n      <td>7</td>\n      <td>Руководство коллективом прудового хозяйства. В...</td>\n    </tr>\n    <tr>\n      <th>...</th>\n      <td>...</td>\n      <td>...</td>\n      <td>...</td>\n      <td>...</td>\n      <td>...</td>\n    </tr>\n    <tr>\n      <th>4330</th>\n      <td>999</td>\n      <td>6</td>\n      <td>Помощник руководителя (начальник службы охраны)</td>\n      <td>27</td>\n      <td>- организация работы по охране и физической за...</td>\n    </tr>\n    <tr>\n      <th>4331</th>\n      <td>999</td>\n      <td>7</td>\n      <td>Менеджер по продажам услуг</td>\n      <td>9</td>\n      <td>- ведение документооборота, проверка отчетов у...</td>\n    </tr>\n    <tr>\n      <th>4332</th>\n      <td>999</td>\n      <td>8</td>\n      <td>Главный механик</td>\n      <td>73</td>\n      <td>- организация, управление автопарком, обеспече...</td>\n    </tr>\n    <tr>\n      <th>4333</th>\n      <td>999</td>\n      <td>9</td>\n      <td>о/у ОБЭП. инспектор обслуживания видеонабл. сп...</td>\n      <td>155</td>\n      <td>- выявление и пресечение преступлений экономич...</td>\n    </tr>\n    <tr>\n      <th>4334</th>\n      <td>1000</td>\n      <td>0</td>\n      <td>Тракторист К-744</td>\n      <td>10000</td>\n      <td>Выполнение плана</td>\n    </tr>\n  </tbody>\n</table>\n<p>4335 rows × 5 columns</p>\n</div>"
     },
     "execution_count": 34,
     "metadata": {},
     "output_type": "execute_result"
    }
   ],
   "source": [
    "df"
   ]
  },
  {
   "cell_type": "code",
   "execution_count": 155,
   "outputs": [],
   "source": [
    "df.to_csv('data.csv')"
   ],
   "metadata": {
    "collapsed": false
   },
   "id": "f3560b9b-24ae-4610-8caa-c1fa64070b96"
  }
 ],
 "metadata": {
  "kernelspec": {
   "display_name": "Python 3 (ipykernel)",
   "language": "python",
   "name": "python3"
  },
  "language_info": {
   "codemirror_mode": {
    "name": "ipython",
    "version": 3
   },
   "file_extension": ".py",
   "mimetype": "text/x-python",
   "name": "python",
   "nbconvert_exporter": "python",
   "pygments_lexer": "ipython3",
   "version": "3.11.5"
  }
 },
 "nbformat": 4,
 "nbformat_minor": 5
}
